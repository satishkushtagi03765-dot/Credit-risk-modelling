{
 "cells": [
  {
   "cell_type": "code",
   "execution_count": 2,
   "id": "2d7e967d",
   "metadata": {},
   "outputs": [
    {
     "data": {
      "text/html": [
       "<div>\n",
       "<style scoped>\n",
       "    .dataframe tbody tr th:only-of-type {\n",
       "        vertical-align: middle;\n",
       "    }\n",
       "\n",
       "    .dataframe tbody tr th {\n",
       "        vertical-align: top;\n",
       "    }\n",
       "\n",
       "    .dataframe thead th {\n",
       "        text-align: right;\n",
       "    }\n",
       "</style>\n",
       "<table border=\"1\" class=\"dataframe\">\n",
       "  <thead>\n",
       "    <tr style=\"text-align: right;\">\n",
       "      <th></th>\n",
       "      <th>Sr_No</th>\n",
       "      <th>SeriousDlqin2yrs</th>\n",
       "      <th>RevolvingUtilizationOfUnsecuredLines</th>\n",
       "      <th>age</th>\n",
       "      <th>NumberOfTime30-59DaysPastDueNotWorse</th>\n",
       "      <th>DebtRatio</th>\n",
       "      <th>MonthlyIncome</th>\n",
       "      <th>NumberOfOpenCreditLinesAndLoans</th>\n",
       "      <th>NumberOfTimes90DaysLate</th>\n",
       "      <th>NumberRealEstateLoansOrLines</th>\n",
       "      <th>NumberOfTime60-89DaysPastDueNotWorse</th>\n",
       "      <th>NumberOfDependents</th>\n",
       "    </tr>\n",
       "  </thead>\n",
       "  <tbody>\n",
       "    <tr>\n",
       "      <th>0</th>\n",
       "      <td>1</td>\n",
       "      <td>1</td>\n",
       "      <td>0.766127</td>\n",
       "      <td>45</td>\n",
       "      <td>2</td>\n",
       "      <td>0.802982</td>\n",
       "      <td>9120.0</td>\n",
       "      <td>13</td>\n",
       "      <td>0</td>\n",
       "      <td>6</td>\n",
       "      <td>0</td>\n",
       "      <td>2.0</td>\n",
       "    </tr>\n",
       "    <tr>\n",
       "      <th>1</th>\n",
       "      <td>2</td>\n",
       "      <td>0</td>\n",
       "      <td>0.957151</td>\n",
       "      <td>40</td>\n",
       "      <td>0</td>\n",
       "      <td>0.121876</td>\n",
       "      <td>2600.0</td>\n",
       "      <td>4</td>\n",
       "      <td>0</td>\n",
       "      <td>0</td>\n",
       "      <td>0</td>\n",
       "      <td>1.0</td>\n",
       "    </tr>\n",
       "    <tr>\n",
       "      <th>2</th>\n",
       "      <td>3</td>\n",
       "      <td>0</td>\n",
       "      <td>0.658180</td>\n",
       "      <td>38</td>\n",
       "      <td>1</td>\n",
       "      <td>0.085113</td>\n",
       "      <td>3042.0</td>\n",
       "      <td>2</td>\n",
       "      <td>1</td>\n",
       "      <td>0</td>\n",
       "      <td>0</td>\n",
       "      <td>0.0</td>\n",
       "    </tr>\n",
       "    <tr>\n",
       "      <th>3</th>\n",
       "      <td>4</td>\n",
       "      <td>0</td>\n",
       "      <td>0.233810</td>\n",
       "      <td>30</td>\n",
       "      <td>0</td>\n",
       "      <td>0.036050</td>\n",
       "      <td>3300.0</td>\n",
       "      <td>5</td>\n",
       "      <td>0</td>\n",
       "      <td>0</td>\n",
       "      <td>0</td>\n",
       "      <td>0.0</td>\n",
       "    </tr>\n",
       "    <tr>\n",
       "      <th>4</th>\n",
       "      <td>5</td>\n",
       "      <td>0</td>\n",
       "      <td>0.907239</td>\n",
       "      <td>49</td>\n",
       "      <td>1</td>\n",
       "      <td>0.024926</td>\n",
       "      <td>63588.0</td>\n",
       "      <td>7</td>\n",
       "      <td>0</td>\n",
       "      <td>1</td>\n",
       "      <td>0</td>\n",
       "      <td>0.0</td>\n",
       "    </tr>\n",
       "    <tr>\n",
       "      <th>...</th>\n",
       "      <td>...</td>\n",
       "      <td>...</td>\n",
       "      <td>...</td>\n",
       "      <td>...</td>\n",
       "      <td>...</td>\n",
       "      <td>...</td>\n",
       "      <td>...</td>\n",
       "      <td>...</td>\n",
       "      <td>...</td>\n",
       "      <td>...</td>\n",
       "      <td>...</td>\n",
       "      <td>...</td>\n",
       "    </tr>\n",
       "    <tr>\n",
       "      <th>149995</th>\n",
       "      <td>149996</td>\n",
       "      <td>0</td>\n",
       "      <td>0.040674</td>\n",
       "      <td>74</td>\n",
       "      <td>0</td>\n",
       "      <td>0.225131</td>\n",
       "      <td>2100.0</td>\n",
       "      <td>4</td>\n",
       "      <td>0</td>\n",
       "      <td>1</td>\n",
       "      <td>0</td>\n",
       "      <td>0.0</td>\n",
       "    </tr>\n",
       "    <tr>\n",
       "      <th>149996</th>\n",
       "      <td>149997</td>\n",
       "      <td>0</td>\n",
       "      <td>0.299745</td>\n",
       "      <td>44</td>\n",
       "      <td>0</td>\n",
       "      <td>0.716562</td>\n",
       "      <td>5584.0</td>\n",
       "      <td>4</td>\n",
       "      <td>0</td>\n",
       "      <td>1</td>\n",
       "      <td>0</td>\n",
       "      <td>2.0</td>\n",
       "    </tr>\n",
       "    <tr>\n",
       "      <th>149997</th>\n",
       "      <td>149998</td>\n",
       "      <td>0</td>\n",
       "      <td>0.246044</td>\n",
       "      <td>58</td>\n",
       "      <td>0</td>\n",
       "      <td>3870.000000</td>\n",
       "      <td>NaN</td>\n",
       "      <td>18</td>\n",
       "      <td>0</td>\n",
       "      <td>1</td>\n",
       "      <td>0</td>\n",
       "      <td>0.0</td>\n",
       "    </tr>\n",
       "    <tr>\n",
       "      <th>149998</th>\n",
       "      <td>149999</td>\n",
       "      <td>0</td>\n",
       "      <td>0.000000</td>\n",
       "      <td>30</td>\n",
       "      <td>0</td>\n",
       "      <td>0.000000</td>\n",
       "      <td>5716.0</td>\n",
       "      <td>4</td>\n",
       "      <td>0</td>\n",
       "      <td>0</td>\n",
       "      <td>0</td>\n",
       "      <td>0.0</td>\n",
       "    </tr>\n",
       "    <tr>\n",
       "      <th>149999</th>\n",
       "      <td>150000</td>\n",
       "      <td>0</td>\n",
       "      <td>0.850283</td>\n",
       "      <td>64</td>\n",
       "      <td>0</td>\n",
       "      <td>0.249908</td>\n",
       "      <td>8158.0</td>\n",
       "      <td>8</td>\n",
       "      <td>0</td>\n",
       "      <td>2</td>\n",
       "      <td>0</td>\n",
       "      <td>0.0</td>\n",
       "    </tr>\n",
       "  </tbody>\n",
       "</table>\n",
       "<p>150000 rows × 12 columns</p>\n",
       "</div>"
      ],
      "text/plain": [
       "         Sr_No  SeriousDlqin2yrs  RevolvingUtilizationOfUnsecuredLines  age  \\\n",
       "0            1                 1                              0.766127   45   \n",
       "1            2                 0                              0.957151   40   \n",
       "2            3                 0                              0.658180   38   \n",
       "3            4                 0                              0.233810   30   \n",
       "4            5                 0                              0.907239   49   \n",
       "...        ...               ...                                   ...  ...   \n",
       "149995  149996                 0                              0.040674   74   \n",
       "149996  149997                 0                              0.299745   44   \n",
       "149997  149998                 0                              0.246044   58   \n",
       "149998  149999                 0                              0.000000   30   \n",
       "149999  150000                 0                              0.850283   64   \n",
       "\n",
       "        NumberOfTime30-59DaysPastDueNotWorse    DebtRatio  MonthlyIncome  \\\n",
       "0                                          2     0.802982         9120.0   \n",
       "1                                          0     0.121876         2600.0   \n",
       "2                                          1     0.085113         3042.0   \n",
       "3                                          0     0.036050         3300.0   \n",
       "4                                          1     0.024926        63588.0   \n",
       "...                                      ...          ...            ...   \n",
       "149995                                     0     0.225131         2100.0   \n",
       "149996                                     0     0.716562         5584.0   \n",
       "149997                                     0  3870.000000            NaN   \n",
       "149998                                     0     0.000000         5716.0   \n",
       "149999                                     0     0.249908         8158.0   \n",
       "\n",
       "        NumberOfOpenCreditLinesAndLoans  NumberOfTimes90DaysLate  \\\n",
       "0                                    13                        0   \n",
       "1                                     4                        0   \n",
       "2                                     2                        1   \n",
       "3                                     5                        0   \n",
       "4                                     7                        0   \n",
       "...                                 ...                      ...   \n",
       "149995                                4                        0   \n",
       "149996                                4                        0   \n",
       "149997                               18                        0   \n",
       "149998                                4                        0   \n",
       "149999                                8                        0   \n",
       "\n",
       "        NumberRealEstateLoansOrLines  NumberOfTime60-89DaysPastDueNotWorse  \\\n",
       "0                                  6                                     0   \n",
       "1                                  0                                     0   \n",
       "2                                  0                                     0   \n",
       "3                                  0                                     0   \n",
       "4                                  1                                     0   \n",
       "...                              ...                                   ...   \n",
       "149995                             1                                     0   \n",
       "149996                             1                                     0   \n",
       "149997                             1                                     0   \n",
       "149998                             0                                     0   \n",
       "149999                             2                                     0   \n",
       "\n",
       "        NumberOfDependents  \n",
       "0                      2.0  \n",
       "1                      1.0  \n",
       "2                      0.0  \n",
       "3                      0.0  \n",
       "4                      0.0  \n",
       "...                    ...  \n",
       "149995                 0.0  \n",
       "149996                 2.0  \n",
       "149997                 0.0  \n",
       "149998                 0.0  \n",
       "149999                 0.0  \n",
       "\n",
       "[150000 rows x 12 columns]"
      ]
     },
     "execution_count": 2,
     "metadata": {},
     "output_type": "execute_result"
    }
   ],
   "source": [
    "import pandas as pd\n",
    "\n",
    "CS_training=pd.read_csv(r'C:\\Users\\satish kumar\\OneDrive\\Desktop\\Machine learnng\\5.Data Validation and Cleaning_DV\\datasets\\Give me some Credit\\cs-training.csv')\n",
    "CS_training                      \n",
    "Credit_risk=CS_training    \n",
    "Credit_risk"
   ]
  },
  {
   "cell_type": "code",
   "execution_count": 50,
   "id": "a28d562c",
   "metadata": {},
   "outputs": [
    {
     "name": "stdout",
     "output_type": "stream",
     "text": [
      "<class 'pandas.core.frame.DataFrame'>\n",
      "RangeIndex: 150000 entries, 0 to 149999\n",
      "Data columns (total 12 columns):\n",
      " #   Column                                Non-Null Count   Dtype  \n",
      "---  ------                                --------------   -----  \n",
      " 0   Sr_No                                 150000 non-null  int64  \n",
      " 1   SeriousDlqin2yrs                      150000 non-null  int64  \n",
      " 2   RevolvingUtilizationOfUnsecuredLines  150000 non-null  float64\n",
      " 3   age                                   150000 non-null  int64  \n",
      " 4   NumberOfTime30-59DaysPastDueNotWorse  150000 non-null  int64  \n",
      " 5   DebtRatio                             150000 non-null  float64\n",
      " 6   MonthlyIncome                         120269 non-null  float64\n",
      " 7   NumberOfOpenCreditLinesAndLoans       150000 non-null  int64  \n",
      " 8   NumberOfTimes90DaysLate               150000 non-null  int64  \n",
      " 9   NumberRealEstateLoansOrLines          150000 non-null  int64  \n",
      " 10  NumberOfTime60-89DaysPastDueNotWorse  150000 non-null  int64  \n",
      " 11  NumberOfDependents                    146076 non-null  float64\n",
      "dtypes: float64(4), int64(8)\n",
      "memory usage: 13.7 MB\n"
     ]
    }
   ],
   "source": [
    "Credit_risk.info()"
   ]
  },
  {
   "cell_type": "code",
   "execution_count": 51,
   "id": "76dcd65a",
   "metadata": {},
   "outputs": [
    {
     "data": {
      "text/plain": [
       "(150000, 12)"
      ]
     },
     "execution_count": 51,
     "metadata": {},
     "output_type": "execute_result"
    }
   ],
   "source": [
    "Credit_risk.shape"
   ]
  },
  {
   "cell_type": "code",
   "execution_count": 52,
   "id": "8185cc93",
   "metadata": {},
   "outputs": [
    {
     "data": {
      "text/html": [
       "<div>\n",
       "<style scoped>\n",
       "    .dataframe tbody tr th:only-of-type {\n",
       "        vertical-align: middle;\n",
       "    }\n",
       "\n",
       "    .dataframe tbody tr th {\n",
       "        vertical-align: top;\n",
       "    }\n",
       "\n",
       "    .dataframe thead th {\n",
       "        text-align: right;\n",
       "    }\n",
       "</style>\n",
       "<table border=\"1\" class=\"dataframe\">\n",
       "  <thead>\n",
       "    <tr style=\"text-align: right;\">\n",
       "      <th></th>\n",
       "      <th>Sr_No</th>\n",
       "      <th>SeriousDlqin2yrs</th>\n",
       "      <th>RevolvingUtilizationOfUnsecuredLines</th>\n",
       "      <th>age</th>\n",
       "      <th>NumberOfTime30-59DaysPastDueNotWorse</th>\n",
       "      <th>DebtRatio</th>\n",
       "      <th>MonthlyIncome</th>\n",
       "      <th>NumberOfOpenCreditLinesAndLoans</th>\n",
       "      <th>NumberOfTimes90DaysLate</th>\n",
       "      <th>NumberRealEstateLoansOrLines</th>\n",
       "      <th>NumberOfTime60-89DaysPastDueNotWorse</th>\n",
       "      <th>NumberOfDependents</th>\n",
       "    </tr>\n",
       "  </thead>\n",
       "  <tbody>\n",
       "    <tr>\n",
       "      <th>0</th>\n",
       "      <td>1</td>\n",
       "      <td>1</td>\n",
       "      <td>0.766127</td>\n",
       "      <td>45</td>\n",
       "      <td>2</td>\n",
       "      <td>0.802982</td>\n",
       "      <td>9120.0</td>\n",
       "      <td>13</td>\n",
       "      <td>0</td>\n",
       "      <td>6</td>\n",
       "      <td>0</td>\n",
       "      <td>2.0</td>\n",
       "    </tr>\n",
       "    <tr>\n",
       "      <th>1</th>\n",
       "      <td>2</td>\n",
       "      <td>0</td>\n",
       "      <td>0.957151</td>\n",
       "      <td>40</td>\n",
       "      <td>0</td>\n",
       "      <td>0.121876</td>\n",
       "      <td>2600.0</td>\n",
       "      <td>4</td>\n",
       "      <td>0</td>\n",
       "      <td>0</td>\n",
       "      <td>0</td>\n",
       "      <td>1.0</td>\n",
       "    </tr>\n",
       "    <tr>\n",
       "      <th>2</th>\n",
       "      <td>3</td>\n",
       "      <td>0</td>\n",
       "      <td>0.658180</td>\n",
       "      <td>38</td>\n",
       "      <td>1</td>\n",
       "      <td>0.085113</td>\n",
       "      <td>3042.0</td>\n",
       "      <td>2</td>\n",
       "      <td>1</td>\n",
       "      <td>0</td>\n",
       "      <td>0</td>\n",
       "      <td>0.0</td>\n",
       "    </tr>\n",
       "    <tr>\n",
       "      <th>3</th>\n",
       "      <td>4</td>\n",
       "      <td>0</td>\n",
       "      <td>0.233810</td>\n",
       "      <td>30</td>\n",
       "      <td>0</td>\n",
       "      <td>0.036050</td>\n",
       "      <td>3300.0</td>\n",
       "      <td>5</td>\n",
       "      <td>0</td>\n",
       "      <td>0</td>\n",
       "      <td>0</td>\n",
       "      <td>0.0</td>\n",
       "    </tr>\n",
       "    <tr>\n",
       "      <th>4</th>\n",
       "      <td>5</td>\n",
       "      <td>0</td>\n",
       "      <td>0.907239</td>\n",
       "      <td>49</td>\n",
       "      <td>1</td>\n",
       "      <td>0.024926</td>\n",
       "      <td>63588.0</td>\n",
       "      <td>7</td>\n",
       "      <td>0</td>\n",
       "      <td>1</td>\n",
       "      <td>0</td>\n",
       "      <td>0.0</td>\n",
       "    </tr>\n",
       "    <tr>\n",
       "      <th>5</th>\n",
       "      <td>6</td>\n",
       "      <td>0</td>\n",
       "      <td>0.213179</td>\n",
       "      <td>74</td>\n",
       "      <td>0</td>\n",
       "      <td>0.375607</td>\n",
       "      <td>3500.0</td>\n",
       "      <td>3</td>\n",
       "      <td>0</td>\n",
       "      <td>1</td>\n",
       "      <td>0</td>\n",
       "      <td>1.0</td>\n",
       "    </tr>\n",
       "    <tr>\n",
       "      <th>6</th>\n",
       "      <td>7</td>\n",
       "      <td>0</td>\n",
       "      <td>0.305682</td>\n",
       "      <td>57</td>\n",
       "      <td>0</td>\n",
       "      <td>5710.000000</td>\n",
       "      <td>NaN</td>\n",
       "      <td>8</td>\n",
       "      <td>0</td>\n",
       "      <td>3</td>\n",
       "      <td>0</td>\n",
       "      <td>0.0</td>\n",
       "    </tr>\n",
       "    <tr>\n",
       "      <th>7</th>\n",
       "      <td>8</td>\n",
       "      <td>0</td>\n",
       "      <td>0.754464</td>\n",
       "      <td>39</td>\n",
       "      <td>0</td>\n",
       "      <td>0.209940</td>\n",
       "      <td>3500.0</td>\n",
       "      <td>8</td>\n",
       "      <td>0</td>\n",
       "      <td>0</td>\n",
       "      <td>0</td>\n",
       "      <td>0.0</td>\n",
       "    </tr>\n",
       "    <tr>\n",
       "      <th>8</th>\n",
       "      <td>9</td>\n",
       "      <td>0</td>\n",
       "      <td>0.116951</td>\n",
       "      <td>27</td>\n",
       "      <td>0</td>\n",
       "      <td>46.000000</td>\n",
       "      <td>NaN</td>\n",
       "      <td>2</td>\n",
       "      <td>0</td>\n",
       "      <td>0</td>\n",
       "      <td>0</td>\n",
       "      <td>NaN</td>\n",
       "    </tr>\n",
       "    <tr>\n",
       "      <th>9</th>\n",
       "      <td>10</td>\n",
       "      <td>0</td>\n",
       "      <td>0.189169</td>\n",
       "      <td>57</td>\n",
       "      <td>0</td>\n",
       "      <td>0.606291</td>\n",
       "      <td>23684.0</td>\n",
       "      <td>9</td>\n",
       "      <td>0</td>\n",
       "      <td>4</td>\n",
       "      <td>0</td>\n",
       "      <td>2.0</td>\n",
       "    </tr>\n",
       "  </tbody>\n",
       "</table>\n",
       "</div>"
      ],
      "text/plain": [
       "   Sr_No  SeriousDlqin2yrs  RevolvingUtilizationOfUnsecuredLines  age  \\\n",
       "0      1                 1                              0.766127   45   \n",
       "1      2                 0                              0.957151   40   \n",
       "2      3                 0                              0.658180   38   \n",
       "3      4                 0                              0.233810   30   \n",
       "4      5                 0                              0.907239   49   \n",
       "5      6                 0                              0.213179   74   \n",
       "6      7                 0                              0.305682   57   \n",
       "7      8                 0                              0.754464   39   \n",
       "8      9                 0                              0.116951   27   \n",
       "9     10                 0                              0.189169   57   \n",
       "\n",
       "   NumberOfTime30-59DaysPastDueNotWorse    DebtRatio  MonthlyIncome  \\\n",
       "0                                     2     0.802982         9120.0   \n",
       "1                                     0     0.121876         2600.0   \n",
       "2                                     1     0.085113         3042.0   \n",
       "3                                     0     0.036050         3300.0   \n",
       "4                                     1     0.024926        63588.0   \n",
       "5                                     0     0.375607         3500.0   \n",
       "6                                     0  5710.000000            NaN   \n",
       "7                                     0     0.209940         3500.0   \n",
       "8                                     0    46.000000            NaN   \n",
       "9                                     0     0.606291        23684.0   \n",
       "\n",
       "   NumberOfOpenCreditLinesAndLoans  NumberOfTimes90DaysLate  \\\n",
       "0                               13                        0   \n",
       "1                                4                        0   \n",
       "2                                2                        1   \n",
       "3                                5                        0   \n",
       "4                                7                        0   \n",
       "5                                3                        0   \n",
       "6                                8                        0   \n",
       "7                                8                        0   \n",
       "8                                2                        0   \n",
       "9                                9                        0   \n",
       "\n",
       "   NumberRealEstateLoansOrLines  NumberOfTime60-89DaysPastDueNotWorse  \\\n",
       "0                             6                                     0   \n",
       "1                             0                                     0   \n",
       "2                             0                                     0   \n",
       "3                             0                                     0   \n",
       "4                             1                                     0   \n",
       "5                             1                                     0   \n",
       "6                             3                                     0   \n",
       "7                             0                                     0   \n",
       "8                             0                                     0   \n",
       "9                             4                                     0   \n",
       "\n",
       "   NumberOfDependents  \n",
       "0                 2.0  \n",
       "1                 1.0  \n",
       "2                 0.0  \n",
       "3                 0.0  \n",
       "4                 0.0  \n",
       "5                 1.0  \n",
       "6                 0.0  \n",
       "7                 0.0  \n",
       "8                 NaN  \n",
       "9                 2.0  "
      ]
     },
     "execution_count": 52,
     "metadata": {},
     "output_type": "execute_result"
    }
   ],
   "source": [
    "Credit_risk.head(10)"
   ]
  },
  {
   "cell_type": "code",
   "execution_count": 53,
   "id": "d3310f18",
   "metadata": {},
   "outputs": [
    {
     "data": {
      "text/plain": [
       "array(['Sr_No', 'SeriousDlqin2yrs',\n",
       "       'RevolvingUtilizationOfUnsecuredLines', 'age',\n",
       "       'NumberOfTime30-59DaysPastDueNotWorse', 'DebtRatio',\n",
       "       'MonthlyIncome', 'NumberOfOpenCreditLinesAndLoans',\n",
       "       'NumberOfTimes90DaysLate', 'NumberRealEstateLoansOrLines',\n",
       "       'NumberOfTime60-89DaysPastDueNotWorse', 'NumberOfDependents'],\n",
       "      dtype=object)"
      ]
     },
     "execution_count": 53,
     "metadata": {},
     "output_type": "execute_result"
    }
   ],
   "source": [
    "Credit_risk.columns.values"
   ]
  },
  {
   "cell_type": "code",
   "execution_count": 54,
   "id": "f67f6601",
   "metadata": {},
   "outputs": [
    {
     "data": {
      "text/plain": [
       "Sr_No                                     int64\n",
       "SeriousDlqin2yrs                          int64\n",
       "RevolvingUtilizationOfUnsecuredLines    float64\n",
       "age                                       int64\n",
       "NumberOfTime30-59DaysPastDueNotWorse      int64\n",
       "DebtRatio                               float64\n",
       "MonthlyIncome                           float64\n",
       "NumberOfOpenCreditLinesAndLoans           int64\n",
       "NumberOfTimes90DaysLate                   int64\n",
       "NumberRealEstateLoansOrLines              int64\n",
       "NumberOfTime60-89DaysPastDueNotWorse      int64\n",
       "NumberOfDependents                      float64\n",
       "dtype: object"
      ]
     },
     "execution_count": 54,
     "metadata": {},
     "output_type": "execute_result"
    }
   ],
   "source": [
    "Credit_risk.dtypes"
   ]
  },
  {
   "cell_type": "code",
   "execution_count": 55,
   "id": "5cf3c475",
   "metadata": {},
   "outputs": [
    {
     "name": "stdout",
     "output_type": "stream",
     "text": [
      "0    139974\n",
      "1     10026\n",
      "Name: SeriousDlqin2yrs, dtype: int64\n"
     ]
    }
   ],
   "source": [
    "print(Credit_risk['SeriousDlqin2yrs'].value_counts())"
   ]
  },
  {
   "cell_type": "code",
   "execution_count": 56,
   "id": "2ae449f6",
   "metadata": {},
   "outputs": [
    {
     "name": "stdout",
     "output_type": "stream",
     "text": [
      "0    139974\n",
      "1     10026\n",
      "Name: SeriousDlqin2yrs, dtype: int64\n"
     ]
    },
    {
     "data": {
      "text/plain": [
       "<AxesSubplot:xlabel='count', ylabel='SeriousDlqin2yrs'>"
      ]
     },
     "execution_count": 56,
     "metadata": {},
     "output_type": "execute_result"
    },
    {
     "data": {
      "image/png": "[encoded data removed]",
      "text/plain": [
       "<Figure size 432x288 with 1 Axes>"
      ]
     },
     "metadata": {
      "needs_background": "light"
     },
     "output_type": "display_data"
    }
   ],
   "source": [
    "\n",
    "import seaborn as sns\n",
    "print(Credit_risk['SeriousDlqin2yrs'].value_counts())\n",
    "sns.countplot(y='SeriousDlqin2yrs',data=Credit_risk)"
   ]
  },
  {
   "cell_type": "code",
   "execution_count": 57,
   "id": "3323ddda",
   "metadata": {},
   "outputs": [
    {
     "name": "stdout",
     "output_type": "stream",
     "text": [
      "49     3837\n",
      "48     3806\n",
      "50     3753\n",
      "47     3719\n",
      "63     3719\n",
      "       ... \n",
      "102       3\n",
      "109       2\n",
      "107       1\n",
      "105       1\n",
      "0         1\n",
      "Name: age, Length: 86, dtype: int64\n"
     ]
    },
    {
     "data": {
      "text/plain": [
       "<AxesSubplot:xlabel='count', ylabel='age'>"
      ]
     },
     "execution_count": 57,
     "metadata": {},
     "output_type": "execute_result"
    },
    {
     "data": {
      "image/png": "[encoded data removed]",
      "text/plain": [
       "<Figure size 432x288 with 1 Axes>"
      ]
     },
     "metadata": {
      "needs_background": "light"
     },
     "output_type": "display_data"
    }
   ],
   "source": [
    "print(Credit_risk['age'].value_counts())\n",
    "sns.countplot(y='age',data=Credit_risk)"
   ]
  },
  {
   "cell_type": "code",
   "execution_count": 58,
   "id": "1557288c",
   "metadata": {},
   "outputs": [
    {
     "data": {
      "text/plain": [
       "0     126018\n",
       "1      16033\n",
       "2       4598\n",
       "3       1754\n",
       "4        747\n",
       "5        342\n",
       "98       264\n",
       "6        140\n",
       "7         54\n",
       "8         25\n",
       "9         12\n",
       "96         5\n",
       "10         4\n",
       "12         2\n",
       "13         1\n",
       "11         1\n",
       "Name: NumberOfTime30-59DaysPastDueNotWorse, dtype: int64"
      ]
     },
     "execution_count": 58,
     "metadata": {},
     "output_type": "execute_result"
    }
   ],
   "source": [
    "Credit_risk['NumberOfTime30-59DaysPastDueNotWorse'].value_counts()"
   ]
  },
  {
   "cell_type": "code",
   "execution_count": 59,
   "id": "218ef0cc",
   "metadata": {},
   "outputs": [
    {
     "name": "stdout",
     "output_type": "stream",
     "text": [
      "6     13614\n",
      "7     13245\n",
      "5     12931\n",
      "8     12562\n",
      "4     11609\n",
      "9     11355\n",
      "10     9624\n",
      "3      9058\n",
      "11     8321\n",
      "12     7005\n",
      "2      6666\n",
      "13     5667\n",
      "14     4546\n",
      "1      4438\n",
      "15     3645\n",
      "16     3000\n",
      "17     2370\n",
      "0      1888\n",
      "18     1874\n",
      "19     1433\n",
      "20     1169\n",
      "21      864\n",
      "22      685\n",
      "23      533\n",
      "24      422\n",
      "25      337\n",
      "26      239\n",
      "27      194\n",
      "28      150\n",
      "29      114\n",
      "30       88\n",
      "31       74\n",
      "32       52\n",
      "33       47\n",
      "34       35\n",
      "35       27\n",
      "36       18\n",
      "38       13\n",
      "40       10\n",
      "39        9\n",
      "42        8\n",
      "45        8\n",
      "43        8\n",
      "37        7\n",
      "48        6\n",
      "49        4\n",
      "54        4\n",
      "41        4\n",
      "52        3\n",
      "46        3\n",
      "57        2\n",
      "51        2\n",
      "56        2\n",
      "47        2\n",
      "50        2\n",
      "44        2\n",
      "58        1\n",
      "53        1\n",
      "Name: NumberOfOpenCreditLinesAndLoans, dtype: int64\n"
     ]
    },
    {
     "data": {
      "text/plain": [
       "<AxesSubplot:xlabel='count', ylabel='NumberOfOpenCreditLinesAndLoans'>"
      ]
     },
     "execution_count": 59,
     "metadata": {},
     "output_type": "execute_result"
    },
    {
     "data": {
      "image/png": "[encoded data removed]",
      "text/plain": [
       "<Figure size 432x288 with 1 Axes>"
      ]
     },
     "metadata": {
      "needs_background": "light"
     },
     "output_type": "display_data"
    }
   ],
   "source": [
    "print(Credit_risk['NumberOfOpenCreditLinesAndLoans'].value_counts())\n",
    "sns.countplot(y='NumberOfOpenCreditLinesAndLoans',data=Credit_risk)"
   ]
  },
  {
   "cell_type": "code",
   "execution_count": 60,
   "id": "1d12a854",
   "metadata": {},
   "outputs": [
    {
     "data": {
      "text/plain": [
       "0     141662\n",
       "1       5243\n",
       "2       1555\n",
       "3        667\n",
       "4        291\n",
       "98       264\n",
       "5        131\n",
       "6         80\n",
       "7         38\n",
       "8         21\n",
       "9         19\n",
       "10         8\n",
       "96         5\n",
       "11         5\n",
       "13         4\n",
       "15         2\n",
       "14         2\n",
       "12         2\n",
       "17         1\n",
       "Name: NumberOfTimes90DaysLate, dtype: int64"
      ]
     },
     "execution_count": 60,
     "metadata": {},
     "output_type": "execute_result"
    }
   ],
   "source": [
    "Credit_risk['NumberOfTimes90DaysLate'].value_counts()"
   ]
  },
  {
   "cell_type": "code",
   "execution_count": 61,
   "id": "72ec28da",
   "metadata": {},
   "outputs": [
    {
     "data": {
      "text/plain": [
       "0     56188\n",
       "1     52338\n",
       "2     31522\n",
       "3      6300\n",
       "4      2170\n",
       "5       689\n",
       "6       320\n",
       "7       171\n",
       "8        93\n",
       "9        78\n",
       "10       37\n",
       "11       23\n",
       "12       18\n",
       "13       15\n",
       "15        7\n",
       "14        7\n",
       "17        4\n",
       "16        4\n",
       "25        3\n",
       "18        2\n",
       "23        2\n",
       "19        2\n",
       "20        2\n",
       "26        1\n",
       "54        1\n",
       "21        1\n",
       "29        1\n",
       "32        1\n",
       "Name: NumberRealEstateLoansOrLines, dtype: int64"
      ]
     },
     "execution_count": 61,
     "metadata": {},
     "output_type": "execute_result"
    }
   ],
   "source": [
    "Credit_risk['NumberRealEstateLoansOrLines'].value_counts()"
   ]
  },
  {
   "cell_type": "code",
   "execution_count": 62,
   "id": "c73f5d72",
   "metadata": {},
   "outputs": [
    {
     "data": {
      "text/plain": [
       "0     142396\n",
       "1       5731\n",
       "2       1118\n",
       "3        318\n",
       "98       264\n",
       "4        105\n",
       "5         34\n",
       "6         16\n",
       "7          9\n",
       "96         5\n",
       "8          2\n",
       "11         1\n",
       "9          1\n",
       "Name: NumberOfTime60-89DaysPastDueNotWorse, dtype: int64"
      ]
     },
     "execution_count": 62,
     "metadata": {},
     "output_type": "execute_result"
    }
   ],
   "source": [
    "Credit_risk['NumberOfTime60-89DaysPastDueNotWorse'].value_counts()"
   ]
  },
  {
   "cell_type": "code",
   "execution_count": 63,
   "id": "a831ea03",
   "metadata": {},
   "outputs": [
    {
     "data": {
      "text/plain": [
       "0.0     86902\n",
       "1.0     26316\n",
       "2.0     19522\n",
       "3.0      9483\n",
       "4.0      2862\n",
       "5.0       746\n",
       "6.0       158\n",
       "7.0        51\n",
       "8.0        24\n",
       "10.0        5\n",
       "9.0         5\n",
       "20.0        1\n",
       "13.0        1\n",
       "Name: NumberOfDependents, dtype: int64"
      ]
     },
     "execution_count": 63,
     "metadata": {},
     "output_type": "execute_result"
    }
   ],
   "source": [
    "Credit_risk['NumberOfDependents'].value_counts()"
   ]
  },
  {
   "cell_type": "code",
   "execution_count": 64,
   "id": "282bd4f9",
   "metadata": {},
   "outputs": [
    {
     "data": {
      "text/plain": [
       "29731"
      ]
     },
     "execution_count": 64,
     "metadata": {},
     "output_type": "execute_result"
    }
   ],
   "source": [
    "Credit_risk['MonthlyIncome'].isnull().sum()"
   ]
  },
  {
   "cell_type": "code",
   "execution_count": 65,
   "id": "91ca81d1",
   "metadata": {},
   "outputs": [
    {
     "name": "stdout",
     "output_type": "stream",
     "text": [
      "0.2\n"
     ]
    }
   ],
   "source": [
    "print(round(Credit_risk['MonthlyIncome'].isnull().sum()/len(Credit_risk),2))"
   ]
  },
  {
   "cell_type": "markdown",
   "id": "0026494c",
   "metadata": {},
   "source": [
    "Continuous variables exploration"
   ]
  },
  {
   "cell_type": "markdown",
   "id": "a3000abe",
   "metadata": {},
   "source": [
    "# Continuous variables exploration"
   ]
  },
  {
   "cell_type": "markdown",
   "id": "6734cb5e",
   "metadata": {},
   "source": [
    "# Data cleaning of monthly utilization"
   ]
  },
  {
   "cell_type": "code",
   "execution_count": 33,
   "id": "deaa575b",
   "metadata": {},
   "outputs": [
    {
     "name": "stdout",
     "output_type": "stream",
     "text": [
      "0.00        0.000000\n",
      "0.05        0.000000\n",
      "0.10        0.002969\n",
      "0.25        0.029867\n",
      "0.50        0.154181\n",
      "0.75        0.559046\n",
      "0.80        0.698857\n",
      "0.90        0.981278\n",
      "0.91        1.000000\n",
      "0.92        1.000000\n",
      "0.93        1.000000\n",
      "0.95        1.000000\n",
      "0.96        1.000000\n",
      "0.97        1.000000\n",
      "0.98        1.006199\n",
      "1.00    50708.000000\n",
      "Name: RevolvingUtilizationOfUnsecuredLines, dtype: float64\n"
     ]
    }
   ],
   "source": [
    "Percentiles=Credit_risk['RevolvingUtilizationOfUnsecuredLines'].quantile([0,0.05,0.1,0.25,0.5,0.75,0.80,0.9,0.91,0.92,0.93,0.95,0.96,0.97,0.98,1])\n",
    "print(Percentiles)"
   ]
  },
  {
   "cell_type": "code",
   "execution_count": 34,
   "id": "fae2e143",
   "metadata": {},
   "outputs": [
    {
     "data": {
      "text/plain": [
       "0.154180737"
      ]
     },
     "execution_count": 34,
     "metadata": {},
     "output_type": "execute_result"
    }
   ],
   "source": [
    "median_util=Credit_risk['RevolvingUtilizationOfUnsecuredLines'].median()\n",
    "median_util"
   ]
  },
  {
   "cell_type": "code",
   "execution_count": 35,
   "id": "3a45c9db",
   "metadata": {},
   "outputs": [],
   "source": [
    "Credit_risk['Monthly_utilization']=Credit_risk['RevolvingUtilizationOfUnsecuredLines']"
   ]
  },
  {
   "cell_type": "code",
   "execution_count": 36,
   "id": "eeaebca6",
   "metadata": {},
   "outputs": [
    {
     "name": "stderr",
     "output_type": "stream",
     "text": [
      "C:\\Users\\SATISH~1\\AppData\\Local\\Temp/ipykernel_23528/1575688965.py:1: SettingWithCopyWarning: \n",
      "A value is trying to be set on a copy of a slice from a DataFrame\n",
      "\n",
      "See the caveats in the documentation: https://pandas.pydata.org/pandas-docs/stable/user_guide/indexing.html#returning-a-view-versus-a-copy\n",
      "  Credit_risk['Monthly_utilization'][Credit_risk['Monthly_utilization']>1]=median_util\n"
     ]
    }
   ],
   "source": [
    "Credit_risk['Monthly_utilization'][Credit_risk['Monthly_utilization']>1]=median_util"
   ]
  },
  {
   "cell_type": "code",
   "execution_count": 37,
   "id": "8c13efe9",
   "metadata": {},
   "outputs": [
    {
     "data": {
      "text/plain": [
       "0.0    0.000000\n",
       "0.1    0.002969\n",
       "0.2    0.019222\n",
       "0.3    0.043461\n",
       "0.4    0.083181\n",
       "0.5    0.154178\n",
       "0.6    0.241406\n",
       "0.7    0.401448\n",
       "0.8    0.634723\n",
       "0.9    0.930559\n",
       "1.0    1.000000\n",
       "Name: Monthly_utilization, dtype: float64"
      ]
     },
     "execution_count": 37,
     "metadata": {},
     "output_type": "execute_result"
    }
   ],
   "source": [
    "Credit_risk['Monthly_utilization'].quantile([0,0.1,0.2,0.3,0.4,0.5,0.6,0.7,0.8,0.9,1])"
   ]
  },
  {
   "cell_type": "markdown",
   "id": "a87e9fad",
   "metadata": {},
   "source": [
    "# Box plot chart for after the outliers treatment"
   ]
  },
  {
   "cell_type": "code",
   "execution_count": 53,
   "id": "5baa6204",
   "metadata": {},
   "outputs": [
    {
     "data": {
      "text/plain": [
       "{'whiskers': [<matplotlib.lines.Line2D at 0x266171da610>,\n",
       "  <matplotlib.lines.Line2D at 0x266171da8e0>],\n",
       " 'caps': [<matplotlib.lines.Line2D at 0x266171dac70>,\n",
       "  <matplotlib.lines.Line2D at 0x266171e9040>],\n",
       " 'boxes': [<matplotlib.lines.Line2D at 0x266171da1c0>],\n",
       " 'medians': [<matplotlib.lines.Line2D at 0x266171e93d0>],\n",
       " 'fliers': [<matplotlib.lines.Line2D at 0x266171e9760>],\n",
       " 'means': []}"
      ]
     },
     "execution_count": 53,
     "metadata": {},
     "output_type": "execute_result"
    },
    {
     "data": {
      "image/png": "[encoded data removed]",
      "text/plain": [
       "<Figure size 432x288 with 1 Axes>"
      ]
     },
     "metadata": {
      "needs_background": "light"
     },
     "output_type": "display_data"
    }
   ],
   "source": [
    "import matplotlib.pyplot as plt\n",
    "plt.boxplot(Credit_risk['Monthly_utilization'])"
   ]
  },
  {
   "cell_type": "markdown",
   "id": "967462e6",
   "metadata": {},
   "source": [
    "# Data cleaning of Debt ratio"
   ]
  },
  {
   "cell_type": "code",
   "execution_count": 58,
   "id": "c8244e4c",
   "metadata": {},
   "outputs": [
    {
     "data": {
      "text/plain": [
       "0.10         0.030874\n",
       "0.20         0.133773\n",
       "0.30         0.213697\n",
       "0.40         0.287460\n",
       "0.50         0.366508\n",
       "0.60         0.467506\n",
       "0.70         0.649189\n",
       "0.71         0.678073\n",
       "0.73         0.752078\n",
       "0.74         0.802954\n",
       "0.75         0.868254\n",
       "0.76         0.951184\n",
       "0.77         1.058832\n",
       "0.80         4.000000\n",
       "0.90      1267.000000\n",
       "0.91      1462.000000\n",
       "0.93      1917.070000\n",
       "0.94      2172.060000\n",
       "0.95      2449.000000\n",
       "0.96      2791.000000\n",
       "0.97      3225.000000\n",
       "0.98      3839.000000\n",
       "0.99      4979.040000\n",
       "1.00    329664.000000\n",
       "Name: DebtRatio, dtype: float64"
      ]
     },
     "execution_count": 58,
     "metadata": {},
     "output_type": "execute_result"
    }
   ],
   "source": [
    "Credit_risk['DebtRatio'].quantile([0.1,0.2,0.3,0.4,0.5,0.6,0.7,0.71,0.73,0.74,0.75,0.76,0.77,0.8,0.9,0.91,0.93,0.94,0.95,0.96,0.97,0.98,0.99,1])"
   ]
  },
  {
   "cell_type": "code",
   "execution_count": 61,
   "id": "b422633d",
   "metadata": {},
   "outputs": [],
   "source": [
    "#debt ratio has more than 24% of the data has outliers so we meed to create indicator flag varibale and impute with median for 24% of the variables"
   ]
  },
  {
   "cell_type": "code",
   "execution_count": 68,
   "id": "34c18c2f",
   "metadata": {},
   "outputs": [
    {
     "data": {
      "text/plain": [
       "1    114863\n",
       "0     35137\n",
       "Name: DebtRatioflag, dtype: int64"
      ]
     },
     "execution_count": 68,
     "metadata": {},
     "output_type": "execute_result"
    }
   ],
   "source": [
    "Credit_risk['DebtRatioflag'] = 1   # default as 1\n",
    "Credit_risk.loc[Credit_risk['DebtRatio']>1, 'DebtRatioflag'] = 0\n",
    "Credit_risk['DebtRatioflag'].value_counts()"
   ]
  },
  {
   "cell_type": "markdown",
   "id": "883bcbf6",
   "metadata": {},
   "source": [
    "# Imputing with median"
   ]
  },
  {
   "cell_type": "code",
   "execution_count": 69,
   "id": "73501a76",
   "metadata": {},
   "outputs": [],
   "source": [
    "Credit_risk['DebtRationew']=Credit_risk['DebtRatio']"
   ]
  },
  {
   "cell_type": "code",
   "execution_count": 70,
   "id": "091a32ec",
   "metadata": {},
   "outputs": [
    {
     "name": "stderr",
     "output_type": "stream",
     "text": [
      "C:\\Users\\SATISH~1\\AppData\\Local\\Temp/ipykernel_23528/3901202417.py:1: SettingWithCopyWarning: \n",
      "A value is trying to be set on a copy of a slice from a DataFrame\n",
      "\n",
      "See the caveats in the documentation: https://pandas.pydata.org/pandas-docs/stable/user_guide/indexing.html#returning-a-view-versus-a-copy\n",
      "  Credit_risk['DebtRationew'][Credit_risk['DebtRationew']>1]=Credit_risk['DebtRatio'].median()\n"
     ]
    }
   ],
   "source": [
    "Credit_risk['DebtRationew'][Credit_risk['DebtRationew']>1]=Credit_risk['DebtRatio'].median()"
   ]
  },
  {
   "cell_type": "code",
   "execution_count": 72,
   "id": "9ab15fa0",
   "metadata": {},
   "outputs": [
    {
     "data": {
      "text/plain": [
       "0.10    0.030874\n",
       "0.20    0.133773\n",
       "0.30    0.213697\n",
       "0.40    0.287460\n",
       "0.50    0.366506\n",
       "0.60    0.366508\n",
       "0.70    0.366508\n",
       "0.80    0.428984\n",
       "0.90    0.568251\n",
       "0.91    0.589328\n",
       "0.93    0.637872\n",
       "0.94    0.664785\n",
       "0.95    0.696102\n",
       "0.96    0.734062\n",
       "0.97    0.779912\n",
       "0.98    0.838234\n",
       "0.99    0.913862\n",
       "1.00    1.000000\n",
       "Name: DebtRationew, dtype: float64"
      ]
     },
     "execution_count": 72,
     "metadata": {},
     "output_type": "execute_result"
    }
   ],
   "source": [
    "Credit_risk['DebtRationew'].quantile([0.1,0.2,0.3,0.4,0.5,0.6,0.7,0.8,0.9,0.91,0.93,0.94,0.95,0.96,0.97,0.98,0.99,1])"
   ]
  },
  {
   "cell_type": "code",
   "execution_count": 74,
   "id": "025e7c8c",
   "metadata": {},
   "outputs": [
    {
     "data": {
      "text/plain": [
       "count    150000.000000\n",
       "mean          0.317893\n",
       "std           0.199835\n",
       "min           0.000000\n",
       "25%           0.175074\n",
       "50%           0.366506\n",
       "75%           0.380021\n",
       "max           1.000000\n",
       "Name: DebtRationew, dtype: float64"
      ]
     },
     "execution_count": 74,
     "metadata": {},
     "output_type": "execute_result"
    }
   ],
   "source": [
    "Credit_risk['DebtRationew'].describe()"
   ]
  },
  {
   "cell_type": "markdown",
   "id": "ff67038d",
   "metadata": {},
   "source": [
    "# Data cleaning of monthly income"
   ]
  },
  {
   "cell_type": "code",
   "execution_count": 77,
   "id": "1553b3f8",
   "metadata": {},
   "outputs": [
    {
     "data": {
      "text/plain": [
       "0.10       2005.00\n",
       "0.20       3000.00\n",
       "0.30       3800.00\n",
       "0.40       4544.20\n",
       "0.50       5400.00\n",
       "0.60       6300.00\n",
       "0.70       7500.00\n",
       "0.71       7664.00\n",
       "0.73       8000.00\n",
       "0.74       8050.00\n",
       "0.75       8249.00\n",
       "0.76       8350.00\n",
       "0.77       8500.00\n",
       "0.80       9083.00\n",
       "0.90      11666.00\n",
       "0.91      12000.00\n",
       "0.93      13000.00\n",
       "0.94      13716.00\n",
       "0.95      14587.60\n",
       "0.96      15636.28\n",
       "0.97      17000.00\n",
       "0.98      19600.00\n",
       "0.99      25000.00\n",
       "1.00    3008750.00\n",
       "Name: MonthlyIncome, dtype: float64"
      ]
     },
     "execution_count": 77,
     "metadata": {},
     "output_type": "execute_result"
    }
   ],
   "source": [
    "Credit_risk['MonthlyIncome'].quantile([0.1,0.2,0.3,0.4,0.5,0.6,0.7,0.71,0.73,0.74,0.75,0.76,0.77,0.8,0.9,0.91,0.93,0.94,0.95,0.96,0.97,0.98,0.99,1])"
   ]
  },
  {
   "cell_type": "code",
   "execution_count": 78,
   "id": "83bd41dc",
   "metadata": {},
   "outputs": [
    {
     "data": {
      "text/plain": [
       "0.19820666666666667"
      ]
     },
     "execution_count": 78,
     "metadata": {},
     "output_type": "execute_result"
    }
   ],
   "source": [
    "Credit_risk['MonthlyIncome'].isnull().sum()/len(Credit_risk)"
   ]
  },
  {
   "cell_type": "code",
   "execution_count": 79,
   "id": "3916f882",
   "metadata": {},
   "outputs": [],
   "source": [
    "Credit_risk['MonthlyIncomeflag']=Credit_risk['MonthlyIncome']"
   ]
  },
  {
   "cell_type": "code",
   "execution_count": 95,
   "id": "17ea5d82",
   "metadata": {},
   "outputs": [
    {
     "data": {
      "text/plain": [
       "1    115529\n",
       "0     34471\n",
       "Name: MonthlyIncomeflag, dtype: int64"
      ]
     },
     "execution_count": 95,
     "metadata": {},
     "output_type": "execute_result"
    }
   ],
   "source": [
    "Credit_risk['MonthlyIncomeflag']=1\n",
    "Credit_risk.loc[Credit_risk['MonthlyIncome'].isnull(),'MonthlyIncomeflag']=0\n",
    "Credit_risk.loc[Credit_risk['MonthlyIncome']>19600,'MonthlyIncomeflag']=0 #based on the client request we need to change\n",
    "Credit_risk.loc[Credit_risk['MonthlyIncome']<200,'MonthlyIncomeflag']=0 #based on the client request we need to change\n",
    "Credit_risk['MonthlyIncomeflag'].value_counts()"
   ]
  },
  {
   "cell_type": "markdown",
   "id": "1ffbc434",
   "metadata": {},
   "source": [
    "# Imputing with median"
   ]
  },
  {
   "cell_type": "code",
   "execution_count": 99,
   "id": "5f9d4588",
   "metadata": {},
   "outputs": [
    {
     "name": "stderr",
     "output_type": "stream",
     "text": [
      "C:\\Users\\SATISH~1\\AppData\\Local\\Temp/ipykernel_23528/3439197999.py:2: SettingWithCopyWarning: \n",
      "A value is trying to be set on a copy of a slice from a DataFrame\n",
      "\n",
      "See the caveats in the documentation: https://pandas.pydata.org/pandas-docs/stable/user_guide/indexing.html#returning-a-view-versus-a-copy\n",
      "  Credit_risk['MonthlyIncomenew'][(Credit_risk['MonthlyIncomenew']>19600)|(Credit_risk['MonthlyIncomenew'].isnull())|(Credit_risk['MonthlyIncomenew']<200)]=Credit_risk['MonthlyIncome'].median()\n"
     ]
    }
   ],
   "source": [
    "Credit_risk['MonthlyIncomenew']=Credit_risk['MonthlyIncome']\n",
    "Credit_risk['MonthlyIncomenew'][(Credit_risk['MonthlyIncomenew']>19600)|(Credit_risk['MonthlyIncomenew'].isnull())|(Credit_risk['MonthlyIncomenew']<200)]=Credit_risk['MonthlyIncome'].median()"
   ]
  },
  {
   "cell_type": "code",
   "execution_count": 100,
   "id": "b5031cc2",
   "metadata": {},
   "outputs": [
    {
     "data": {
      "text/plain": [
       "0.10     2500.0\n",
       "0.20     3500.0\n",
       "0.30     4500.0\n",
       "0.40     5400.0\n",
       "0.50     5400.0\n",
       "0.60     5400.0\n",
       "0.70     6400.0\n",
       "0.71     6500.0\n",
       "0.73     6813.0\n",
       "0.74     7000.0\n",
       "0.75     7083.0\n",
       "0.76     7250.0\n",
       "0.77     7477.0\n",
       "0.80     8000.0\n",
       "0.90    10300.0\n",
       "0.91    10500.0\n",
       "0.93    11316.0\n",
       "0.94    11916.0\n",
       "0.95    12446.0\n",
       "0.96    13000.0\n",
       "0.97    14000.0\n",
       "0.98    15000.0\n",
       "0.99    16666.0\n",
       "1.00    19600.0\n",
       "Name: MonthlyIncomenew, dtype: float64"
      ]
     },
     "execution_count": 100,
     "metadata": {},
     "output_type": "execute_result"
    }
   ],
   "source": [
    "Credit_risk['MonthlyIncomenew'].quantile([0.1,0.2,0.3,0.4,0.5,0.6,0.7,0.71,0.73,0.74,0.75,0.76,0.77,0.8,0.9,0.91,0.93,0.94,0.95,0.96,0.97,0.98,0.99,1])"
   ]
  },
  {
   "cell_type": "code",
   "execution_count": 102,
   "id": "9681cc80",
   "metadata": {},
   "outputs": [
    {
     "data": {
      "text/plain": [
       "count    150000.000000\n",
       "mean       5957.017380\n",
       "std        3152.996184\n",
       "min         200.000000\n",
       "25%        4000.000000\n",
       "50%        5400.000000\n",
       "75%        7083.000000\n",
       "max       19600.000000\n",
       "Name: MonthlyIncomenew, dtype: float64"
      ]
     },
     "execution_count": 102,
     "metadata": {},
     "output_type": "execute_result"
    }
   ],
   "source": [
    "Credit_risk['MonthlyIncomenew'].describe()"
   ]
  },
  {
   "cell_type": "code",
   "execution_count": 96,
   "id": "181725e9",
   "metadata": {},
   "outputs": [
    {
     "data": {
      "text/plain": [
       "5400.0     32464\n",
       "5000.0      2757\n",
       "4000.0      2106\n",
       "6000.0      1934\n",
       "3000.0      1758\n",
       "0.0         1634\n",
       "2500.0      1551\n",
       "10000.0     1466\n",
       "3500.0      1360\n",
       "4500.0      1226\n",
       "Name: MonthlyIncomenew, dtype: int64"
      ]
     },
     "execution_count": 96,
     "metadata": {},
     "output_type": "execute_result"
    }
   ],
   "source": [
    "Credit_risk['MonthlyIncomenew'].value_counts().head(10)"
   ]
  },
  {
   "cell_type": "markdown",
   "id": "b0d9f848",
   "metadata": {},
   "source": [
    "# Data cleaning of discrete variables"
   ]
  },
  {
   "cell_type": "markdown",
   "id": "26b9e3af",
   "metadata": {},
   "source": [
    "# NumberOfTime30-59DaysPastDueNotWorse"
   ]
  },
  {
   "cell_type": "code",
   "execution_count": 23,
   "id": "bf656269",
   "metadata": {},
   "outputs": [
    {
     "data": {
      "text/plain": [
       "0         2\n",
       "1         0\n",
       "2         1\n",
       "3         0\n",
       "4         1\n",
       "         ..\n",
       "149995    0\n",
       "149996    0\n",
       "149997    0\n",
       "149998    0\n",
       "149999    0\n",
       "Name: NumberOfTime30-59DaysPastDueNotWorse, Length: 150000, dtype: int64"
      ]
     },
     "execution_count": 23,
     "metadata": {},
     "output_type": "execute_result"
    }
   ],
   "source": [
    "Credit_risk['NumberOfTime30-59DaysPastDueNotWorse']"
   ]
  },
  {
   "cell_type": "code",
   "execution_count": null,
   "id": "9f88b342",
   "metadata": {},
   "outputs": [],
   "source": []
  },
  {
   "cell_type": "code",
   "execution_count": 26,
   "id": "840fd302",
   "metadata": {},
   "outputs": [
    {
     "data": {
      "text/html": [
       "<div>\n",
       "<style scoped>\n",
       "    .dataframe tbody tr th:only-of-type {\n",
       "        vertical-align: middle;\n",
       "    }\n",
       "\n",
       "    .dataframe tbody tr th {\n",
       "        vertical-align: top;\n",
       "    }\n",
       "\n",
       "    .dataframe thead th {\n",
       "        text-align: right;\n",
       "    }\n",
       "</style>\n",
       "<table border=\"1\" class=\"dataframe\">\n",
       "  <thead>\n",
       "    <tr style=\"text-align: right;\">\n",
       "      <th>SeriousDlqin2yrs</th>\n",
       "      <th>0</th>\n",
       "      <th>1</th>\n",
       "    </tr>\n",
       "    <tr>\n",
       "      <th>NumberOfTime30-59DaysPastDueNotWorse</th>\n",
       "      <th></th>\n",
       "      <th></th>\n",
       "    </tr>\n",
       "  </thead>\n",
       "  <tbody>\n",
       "    <tr>\n",
       "      <th>0</th>\n",
       "      <td>120977</td>\n",
       "      <td>5041</td>\n",
       "    </tr>\n",
       "    <tr>\n",
       "      <th>1</th>\n",
       "      <td>13624</td>\n",
       "      <td>2409</td>\n",
       "    </tr>\n",
       "    <tr>\n",
       "      <th>2</th>\n",
       "      <td>3379</td>\n",
       "      <td>1219</td>\n",
       "    </tr>\n",
       "    <tr>\n",
       "      <th>3</th>\n",
       "      <td>1136</td>\n",
       "      <td>618</td>\n",
       "    </tr>\n",
       "    <tr>\n",
       "      <th>4</th>\n",
       "      <td>429</td>\n",
       "      <td>318</td>\n",
       "    </tr>\n",
       "    <tr>\n",
       "      <th>5</th>\n",
       "      <td>188</td>\n",
       "      <td>154</td>\n",
       "    </tr>\n",
       "    <tr>\n",
       "      <th>6</th>\n",
       "      <td>66</td>\n",
       "      <td>74</td>\n",
       "    </tr>\n",
       "    <tr>\n",
       "      <th>7</th>\n",
       "      <td>26</td>\n",
       "      <td>28</td>\n",
       "    </tr>\n",
       "    <tr>\n",
       "      <th>8</th>\n",
       "      <td>17</td>\n",
       "      <td>8</td>\n",
       "    </tr>\n",
       "    <tr>\n",
       "      <th>9</th>\n",
       "      <td>8</td>\n",
       "      <td>4</td>\n",
       "    </tr>\n",
       "    <tr>\n",
       "      <th>10</th>\n",
       "      <td>1</td>\n",
       "      <td>3</td>\n",
       "    </tr>\n",
       "    <tr>\n",
       "      <th>11</th>\n",
       "      <td>0</td>\n",
       "      <td>1</td>\n",
       "    </tr>\n",
       "    <tr>\n",
       "      <th>12</th>\n",
       "      <td>1</td>\n",
       "      <td>1</td>\n",
       "    </tr>\n",
       "    <tr>\n",
       "      <th>13</th>\n",
       "      <td>0</td>\n",
       "      <td>1</td>\n",
       "    </tr>\n",
       "    <tr>\n",
       "      <th>96</th>\n",
       "      <td>1</td>\n",
       "      <td>4</td>\n",
       "    </tr>\n",
       "    <tr>\n",
       "      <th>98</th>\n",
       "      <td>121</td>\n",
       "      <td>143</td>\n",
       "    </tr>\n",
       "  </tbody>\n",
       "</table>\n",
       "</div>"
      ],
      "text/plain": [
       "SeriousDlqin2yrs                           0     1\n",
       "NumberOfTime30-59DaysPastDueNotWorse              \n",
       "0                                     120977  5041\n",
       "1                                      13624  2409\n",
       "2                                       3379  1219\n",
       "3                                       1136   618\n",
       "4                                        429   318\n",
       "5                                        188   154\n",
       "6                                         66    74\n",
       "7                                         26    28\n",
       "8                                         17     8\n",
       "9                                          8     4\n",
       "10                                         1     3\n",
       "11                                         0     1\n",
       "12                                         1     1\n",
       "13                                         0     1\n",
       "96                                         1     4\n",
       "98                                       121   143"
      ]
     },
     "execution_count": 26,
     "metadata": {},
     "output_type": "execute_result"
    }
   ],
   "source": [
    "crosstab_30_59_dpd=pd.crosstab(Credit_risk['NumberOfTime30-59DaysPastDueNotWorse'],Credit_risk['SeriousDlqin2yrs'])\n",
    "crosstab_30_59_dpd"
   ]
  },
  {
   "cell_type": "code",
   "execution_count": 27,
   "id": "34f0e708",
   "metadata": {},
   "outputs": [
    {
     "data": {
      "text/html": [
       "<div>\n",
       "<style scoped>\n",
       "    .dataframe tbody tr th:only-of-type {\n",
       "        vertical-align: middle;\n",
       "    }\n",
       "\n",
       "    .dataframe tbody tr th {\n",
       "        vertical-align: top;\n",
       "    }\n",
       "\n",
       "    .dataframe thead th {\n",
       "        text-align: right;\n",
       "    }\n",
       "</style>\n",
       "<table border=\"1\" class=\"dataframe\">\n",
       "  <thead>\n",
       "    <tr style=\"text-align: right;\">\n",
       "      <th>SeriousDlqin2yrs</th>\n",
       "      <th>0</th>\n",
       "      <th>1</th>\n",
       "    </tr>\n",
       "    <tr>\n",
       "      <th>NumberOfTime30-59DaysPastDueNotWorse</th>\n",
       "      <th></th>\n",
       "      <th></th>\n",
       "    </tr>\n",
       "  </thead>\n",
       "  <tbody>\n",
       "    <tr>\n",
       "      <th>0</th>\n",
       "      <td>0.959998</td>\n",
       "      <td>0.040002</td>\n",
       "    </tr>\n",
       "    <tr>\n",
       "      <th>1</th>\n",
       "      <td>0.849747</td>\n",
       "      <td>0.150253</td>\n",
       "    </tr>\n",
       "    <tr>\n",
       "      <th>2</th>\n",
       "      <td>0.734885</td>\n",
       "      <td>0.265115</td>\n",
       "    </tr>\n",
       "    <tr>\n",
       "      <th>3</th>\n",
       "      <td>0.647662</td>\n",
       "      <td>0.352338</td>\n",
       "    </tr>\n",
       "    <tr>\n",
       "      <th>4</th>\n",
       "      <td>0.574297</td>\n",
       "      <td>0.425703</td>\n",
       "    </tr>\n",
       "    <tr>\n",
       "      <th>5</th>\n",
       "      <td>0.549708</td>\n",
       "      <td>0.450292</td>\n",
       "    </tr>\n",
       "    <tr>\n",
       "      <th>6</th>\n",
       "      <td>0.471429</td>\n",
       "      <td>0.528571</td>\n",
       "    </tr>\n",
       "    <tr>\n",
       "      <th>7</th>\n",
       "      <td>0.481481</td>\n",
       "      <td>0.518519</td>\n",
       "    </tr>\n",
       "    <tr>\n",
       "      <th>8</th>\n",
       "      <td>0.680000</td>\n",
       "      <td>0.320000</td>\n",
       "    </tr>\n",
       "    <tr>\n",
       "      <th>9</th>\n",
       "      <td>0.666667</td>\n",
       "      <td>0.333333</td>\n",
       "    </tr>\n",
       "    <tr>\n",
       "      <th>10</th>\n",
       "      <td>0.250000</td>\n",
       "      <td>0.750000</td>\n",
       "    </tr>\n",
       "    <tr>\n",
       "      <th>11</th>\n",
       "      <td>0.000000</td>\n",
       "      <td>1.000000</td>\n",
       "    </tr>\n",
       "    <tr>\n",
       "      <th>12</th>\n",
       "      <td>0.500000</td>\n",
       "      <td>0.500000</td>\n",
       "    </tr>\n",
       "    <tr>\n",
       "      <th>13</th>\n",
       "      <td>0.000000</td>\n",
       "      <td>1.000000</td>\n",
       "    </tr>\n",
       "    <tr>\n",
       "      <th>96</th>\n",
       "      <td>0.200000</td>\n",
       "      <td>0.800000</td>\n",
       "    </tr>\n",
       "    <tr>\n",
       "      <th>98</th>\n",
       "      <td>0.458333</td>\n",
       "      <td>0.541667</td>\n",
       "    </tr>\n",
       "  </tbody>\n",
       "</table>\n",
       "</div>"
      ],
      "text/plain": [
       "SeriousDlqin2yrs                             0         1\n",
       "NumberOfTime30-59DaysPastDueNotWorse                    \n",
       "0                                     0.959998  0.040002\n",
       "1                                     0.849747  0.150253\n",
       "2                                     0.734885  0.265115\n",
       "3                                     0.647662  0.352338\n",
       "4                                     0.574297  0.425703\n",
       "5                                     0.549708  0.450292\n",
       "6                                     0.471429  0.528571\n",
       "7                                     0.481481  0.518519\n",
       "8                                     0.680000  0.320000\n",
       "9                                     0.666667  0.333333\n",
       "10                                    0.250000  0.750000\n",
       "11                                    0.000000  1.000000\n",
       "12                                    0.500000  0.500000\n",
       "13                                    0.000000  1.000000\n",
       "96                                    0.200000  0.800000\n",
       "98                                    0.458333  0.541667"
      ]
     },
     "execution_count": 27,
     "metadata": {},
     "output_type": "execute_result"
    }
   ],
   "source": [
    "crosstab_30_59_dpd_percent=crosstab_30_59_dpd.apply(lambda x:x/x.sum(),axis=1)\n",
    "crosstab_30_59_dpd_percent"
   ]
  },
  {
   "cell_type": "code",
   "execution_count": 28,
   "id": "408e2a1b",
   "metadata": {},
   "outputs": [
    {
     "data": {
      "text/html": [
       "<div>\n",
       "<style scoped>\n",
       "    .dataframe tbody tr th:only-of-type {\n",
       "        vertical-align: middle;\n",
       "    }\n",
       "\n",
       "    .dataframe tbody tr th {\n",
       "        vertical-align: top;\n",
       "    }\n",
       "\n",
       "    .dataframe thead th {\n",
       "        text-align: right;\n",
       "    }\n",
       "</style>\n",
       "<table border=\"1\" class=\"dataframe\">\n",
       "  <thead>\n",
       "    <tr style=\"text-align: right;\">\n",
       "      <th>SeriousDlqin2yrs</th>\n",
       "      <th>0</th>\n",
       "      <th>1</th>\n",
       "    </tr>\n",
       "    <tr>\n",
       "      <th>NumberOfTime30-59DaysPastDueNotWorse</th>\n",
       "      <th></th>\n",
       "      <th></th>\n",
       "    </tr>\n",
       "  </thead>\n",
       "  <tbody>\n",
       "    <tr>\n",
       "      <th>0</th>\n",
       "      <td>120977</td>\n",
       "      <td>5041</td>\n",
       "    </tr>\n",
       "    <tr>\n",
       "      <th>1</th>\n",
       "      <td>13624</td>\n",
       "      <td>2409</td>\n",
       "    </tr>\n",
       "    <tr>\n",
       "      <th>2</th>\n",
       "      <td>3379</td>\n",
       "      <td>1219</td>\n",
       "    </tr>\n",
       "    <tr>\n",
       "      <th>3</th>\n",
       "      <td>1136</td>\n",
       "      <td>618</td>\n",
       "    </tr>\n",
       "    <tr>\n",
       "      <th>4</th>\n",
       "      <td>429</td>\n",
       "      <td>318</td>\n",
       "    </tr>\n",
       "    <tr>\n",
       "      <th>5</th>\n",
       "      <td>188</td>\n",
       "      <td>154</td>\n",
       "    </tr>\n",
       "    <tr>\n",
       "      <th>6</th>\n",
       "      <td>66</td>\n",
       "      <td>74</td>\n",
       "    </tr>\n",
       "    <tr>\n",
       "      <th>7</th>\n",
       "      <td>26</td>\n",
       "      <td>28</td>\n",
       "    </tr>\n",
       "    <tr>\n",
       "      <th>8</th>\n",
       "      <td>17</td>\n",
       "      <td>8</td>\n",
       "    </tr>\n",
       "    <tr>\n",
       "      <th>9</th>\n",
       "      <td>8</td>\n",
       "      <td>4</td>\n",
       "    </tr>\n",
       "    <tr>\n",
       "      <th>10</th>\n",
       "      <td>1</td>\n",
       "      <td>3</td>\n",
       "    </tr>\n",
       "    <tr>\n",
       "      <th>11</th>\n",
       "      <td>0</td>\n",
       "      <td>1</td>\n",
       "    </tr>\n",
       "    <tr>\n",
       "      <th>12</th>\n",
       "      <td>1</td>\n",
       "      <td>1</td>\n",
       "    </tr>\n",
       "    <tr>\n",
       "      <th>13</th>\n",
       "      <td>0</td>\n",
       "      <td>1</td>\n",
       "    </tr>\n",
       "    <tr>\n",
       "      <th>96</th>\n",
       "      <td>1</td>\n",
       "      <td>4</td>\n",
       "    </tr>\n",
       "    <tr>\n",
       "      <th>98</th>\n",
       "      <td>121</td>\n",
       "      <td>143</td>\n",
       "    </tr>\n",
       "  </tbody>\n",
       "</table>\n",
       "</div>"
      ],
      "text/plain": [
       "SeriousDlqin2yrs                           0     1\n",
       "NumberOfTime30-59DaysPastDueNotWorse              \n",
       "0                                     120977  5041\n",
       "1                                      13624  2409\n",
       "2                                       3379  1219\n",
       "3                                       1136   618\n",
       "4                                        429   318\n",
       "5                                        188   154\n",
       "6                                         66    74\n",
       "7                                         26    28\n",
       "8                                         17     8\n",
       "9                                          8     4\n",
       "10                                         1     3\n",
       "11                                         0     1\n",
       "12                                         1     1\n",
       "13                                         0     1\n",
       "96                                         1     4\n",
       "98                                       121   143"
      ]
     },
     "execution_count": 28,
     "metadata": {},
     "output_type": "execute_result"
    }
   ],
   "source": [
    "import pandas as pd\n",
    "crosstab_30_60daysdpd=pd.crosstab(Credit_risk['NumberOfTime30-59DaysPastDueNotWorse'],Credit_risk['SeriousDlqin2yrs'])\n",
    "crosstab_30_60daysdpd"
   ]
  },
  {
   "cell_type": "code",
   "execution_count": 29,
   "id": "6aa767b0",
   "metadata": {
    "scrolled": true
   },
   "outputs": [
    {
     "data": {
      "text/html": [
       "<div>\n",
       "<style scoped>\n",
       "    .dataframe tbody tr th:only-of-type {\n",
       "        vertical-align: middle;\n",
       "    }\n",
       "\n",
       "    .dataframe tbody tr th {\n",
       "        vertical-align: top;\n",
       "    }\n",
       "\n",
       "    .dataframe thead th {\n",
       "        text-align: right;\n",
       "    }\n",
       "</style>\n",
       "<table border=\"1\" class=\"dataframe\">\n",
       "  <thead>\n",
       "    <tr style=\"text-align: right;\">\n",
       "      <th>SeriousDlqin2yrs</th>\n",
       "      <th>0</th>\n",
       "      <th>1</th>\n",
       "    </tr>\n",
       "    <tr>\n",
       "      <th>NumberOfTime30-59DaysPastDueNotWorse</th>\n",
       "      <th></th>\n",
       "      <th></th>\n",
       "    </tr>\n",
       "  </thead>\n",
       "  <tbody>\n",
       "    <tr>\n",
       "      <th>0</th>\n",
       "      <td>0.96</td>\n",
       "      <td>0.04</td>\n",
       "    </tr>\n",
       "    <tr>\n",
       "      <th>1</th>\n",
       "      <td>0.85</td>\n",
       "      <td>0.15</td>\n",
       "    </tr>\n",
       "    <tr>\n",
       "      <th>2</th>\n",
       "      <td>0.73</td>\n",
       "      <td>0.27</td>\n",
       "    </tr>\n",
       "    <tr>\n",
       "      <th>3</th>\n",
       "      <td>0.65</td>\n",
       "      <td>0.35</td>\n",
       "    </tr>\n",
       "    <tr>\n",
       "      <th>4</th>\n",
       "      <td>0.57</td>\n",
       "      <td>0.43</td>\n",
       "    </tr>\n",
       "    <tr>\n",
       "      <th>5</th>\n",
       "      <td>0.55</td>\n",
       "      <td>0.45</td>\n",
       "    </tr>\n",
       "    <tr>\n",
       "      <th>6</th>\n",
       "      <td>0.47</td>\n",
       "      <td>0.53</td>\n",
       "    </tr>\n",
       "    <tr>\n",
       "      <th>7</th>\n",
       "      <td>0.48</td>\n",
       "      <td>0.52</td>\n",
       "    </tr>\n",
       "    <tr>\n",
       "      <th>8</th>\n",
       "      <td>0.68</td>\n",
       "      <td>0.32</td>\n",
       "    </tr>\n",
       "    <tr>\n",
       "      <th>9</th>\n",
       "      <td>0.67</td>\n",
       "      <td>0.33</td>\n",
       "    </tr>\n",
       "    <tr>\n",
       "      <th>10</th>\n",
       "      <td>0.25</td>\n",
       "      <td>0.75</td>\n",
       "    </tr>\n",
       "    <tr>\n",
       "      <th>11</th>\n",
       "      <td>0.00</td>\n",
       "      <td>1.00</td>\n",
       "    </tr>\n",
       "    <tr>\n",
       "      <th>12</th>\n",
       "      <td>0.50</td>\n",
       "      <td>0.50</td>\n",
       "    </tr>\n",
       "    <tr>\n",
       "      <th>13</th>\n",
       "      <td>0.00</td>\n",
       "      <td>1.00</td>\n",
       "    </tr>\n",
       "    <tr>\n",
       "      <th>96</th>\n",
       "      <td>0.20</td>\n",
       "      <td>0.80</td>\n",
       "    </tr>\n",
       "    <tr>\n",
       "      <th>98</th>\n",
       "      <td>0.46</td>\n",
       "      <td>0.54</td>\n",
       "    </tr>\n",
       "  </tbody>\n",
       "</table>\n",
       "</div>"
      ],
      "text/plain": [
       "SeriousDlqin2yrs                         0     1\n",
       "NumberOfTime30-59DaysPastDueNotWorse            \n",
       "0                                     0.96  0.04\n",
       "1                                     0.85  0.15\n",
       "2                                     0.73  0.27\n",
       "3                                     0.65  0.35\n",
       "4                                     0.57  0.43\n",
       "5                                     0.55  0.45\n",
       "6                                     0.47  0.53\n",
       "7                                     0.48  0.52\n",
       "8                                     0.68  0.32\n",
       "9                                     0.67  0.33\n",
       "10                                    0.25  0.75\n",
       "11                                    0.00  1.00\n",
       "12                                    0.50  0.50\n",
       "13                                    0.00  1.00\n",
       "96                                    0.20  0.80\n",
       "98                                    0.46  0.54"
      ]
     },
     "execution_count": 29,
     "metadata": {},
     "output_type": "execute_result"
    }
   ],
   "source": [
    "crosstab_30_60daysdpd_pct=crosstab_30_60daysdpd.apply(lambda x:x/x.sum(),axis=1)\n",
    "crosstab_30_60daysdpd_pct\n",
    "round(crosstab_30_60daysdpd_pct,2)"
   ]
  },
  {
   "cell_type": "code",
   "execution_count": 30,
   "id": "4c89f89f",
   "metadata": {},
   "outputs": [],
   "source": [
    "Credit_risk['30daysdpdclean']=Credit_risk['NumberOfTime30-59DaysPastDueNotWorse']"
   ]
  },
  {
   "cell_type": "code",
   "execution_count": 31,
   "id": "35e3535a",
   "metadata": {},
   "outputs": [
    {
     "name": "stderr",
     "output_type": "stream",
     "text": [
      "C:\\Users\\SATISH~1\\AppData\\Local\\Temp/ipykernel_23528/2949008377.py:1: SettingWithCopyWarning: \n",
      "A value is trying to be set on a copy of a slice from a DataFrame\n",
      "\n",
      "See the caveats in the documentation: https://pandas.pydata.org/pandas-docs/stable/user_guide/indexing.html#returning-a-view-versus-a-copy\n",
      "  Credit_risk['30daysdpdclean'][Credit_risk['30daysdpdclean']>24]=6\n"
     ]
    },
    {
     "data": {
      "text/plain": [
       "0     126018\n",
       "1      16033\n",
       "2       4598\n",
       "3       1754\n",
       "4        747\n",
       "6        409\n",
       "5        342\n",
       "7         54\n",
       "8         25\n",
       "9         12\n",
       "10         4\n",
       "12         2\n",
       "13         1\n",
       "11         1\n",
       "Name: 30daysdpdclean, dtype: int64"
      ]
     },
     "execution_count": 31,
     "metadata": {},
     "output_type": "execute_result"
    }
   ],
   "source": [
    "Credit_risk['30daysdpdclean'][Credit_risk['30daysdpdclean']>24]=6\n",
    "Credit_risk['30daysdpdclean'].value_counts()"
   ]
  },
  {
   "cell_type": "markdown",
   "id": "304f778c",
   "metadata": {},
   "source": [
    "# data cleaning for NumberOfTime60-89DaysPastDueNotWorse"
   ]
  },
  {
   "cell_type": "code",
   "execution_count": 21,
   "id": "bfe5eaaf",
   "metadata": {},
   "outputs": [
    {
     "data": {
      "text/plain": [
       "0     142396\n",
       "1       5731\n",
       "2       1118\n",
       "3        318\n",
       "98       264\n",
       "4        105\n",
       "5         34\n",
       "6         16\n",
       "7          9\n",
       "96         5\n",
       "8          2\n",
       "11         1\n",
       "9          1\n",
       "Name: NumberOfTime60-89DaysPastDueNotWorse, dtype: int64"
      ]
     },
     "execution_count": 21,
     "metadata": {},
     "output_type": "execute_result"
    }
   ],
   "source": [
    "Credit_risk['NumberOfTime60-89DaysPastDueNotWorse'].value_counts()"
   ]
  },
  {
   "cell_type": "code",
   "execution_count": 22,
   "id": "3940b45f",
   "metadata": {},
   "outputs": [],
   "source": [
    "Credit_risk['60daysdpdclean']=Credit_risk['NumberOfTime60-89DaysPastDueNotWorse']"
   ]
  },
  {
   "cell_type": "code",
   "execution_count": 23,
   "id": "ea4a43db",
   "metadata": {},
   "outputs": [
    {
     "data": {
      "text/html": [
       "<div>\n",
       "<style scoped>\n",
       "    .dataframe tbody tr th:only-of-type {\n",
       "        vertical-align: middle;\n",
       "    }\n",
       "\n",
       "    .dataframe tbody tr th {\n",
       "        vertical-align: top;\n",
       "    }\n",
       "\n",
       "    .dataframe thead th {\n",
       "        text-align: right;\n",
       "    }\n",
       "</style>\n",
       "<table border=\"1\" class=\"dataframe\">\n",
       "  <thead>\n",
       "    <tr style=\"text-align: right;\">\n",
       "      <th>SeriousDlqin2yrs</th>\n",
       "      <th>0</th>\n",
       "      <th>1</th>\n",
       "    </tr>\n",
       "    <tr>\n",
       "      <th>NumberOfTime60-89DaysPastDueNotWorse</th>\n",
       "      <th></th>\n",
       "      <th></th>\n",
       "    </tr>\n",
       "  </thead>\n",
       "  <tbody>\n",
       "    <tr>\n",
       "      <th>0</th>\n",
       "      <td>0.95</td>\n",
       "      <td>0.05</td>\n",
       "    </tr>\n",
       "    <tr>\n",
       "      <th>1</th>\n",
       "      <td>0.69</td>\n",
       "      <td>0.31</td>\n",
       "    </tr>\n",
       "    <tr>\n",
       "      <th>2</th>\n",
       "      <td>0.50</td>\n",
       "      <td>0.50</td>\n",
       "    </tr>\n",
       "    <tr>\n",
       "      <th>3</th>\n",
       "      <td>0.43</td>\n",
       "      <td>0.57</td>\n",
       "    </tr>\n",
       "    <tr>\n",
       "      <th>4</th>\n",
       "      <td>0.38</td>\n",
       "      <td>0.62</td>\n",
       "    </tr>\n",
       "    <tr>\n",
       "      <th>5</th>\n",
       "      <td>0.38</td>\n",
       "      <td>0.62</td>\n",
       "    </tr>\n",
       "    <tr>\n",
       "      <th>6</th>\n",
       "      <td>0.25</td>\n",
       "      <td>0.75</td>\n",
       "    </tr>\n",
       "    <tr>\n",
       "      <th>7</th>\n",
       "      <td>0.44</td>\n",
       "      <td>0.56</td>\n",
       "    </tr>\n",
       "    <tr>\n",
       "      <th>8</th>\n",
       "      <td>0.50</td>\n",
       "      <td>0.50</td>\n",
       "    </tr>\n",
       "    <tr>\n",
       "      <th>9</th>\n",
       "      <td>1.00</td>\n",
       "      <td>0.00</td>\n",
       "    </tr>\n",
       "    <tr>\n",
       "      <th>11</th>\n",
       "      <td>0.00</td>\n",
       "      <td>1.00</td>\n",
       "    </tr>\n",
       "    <tr>\n",
       "      <th>96</th>\n",
       "      <td>0.20</td>\n",
       "      <td>0.80</td>\n",
       "    </tr>\n",
       "    <tr>\n",
       "      <th>98</th>\n",
       "      <td>0.46</td>\n",
       "      <td>0.54</td>\n",
       "    </tr>\n",
       "  </tbody>\n",
       "</table>\n",
       "</div>"
      ],
      "text/plain": [
       "SeriousDlqin2yrs                         0     1\n",
       "NumberOfTime60-89DaysPastDueNotWorse            \n",
       "0                                     0.95  0.05\n",
       "1                                     0.69  0.31\n",
       "2                                     0.50  0.50\n",
       "3                                     0.43  0.57\n",
       "4                                     0.38  0.62\n",
       "5                                     0.38  0.62\n",
       "6                                     0.25  0.75\n",
       "7                                     0.44  0.56\n",
       "8                                     0.50  0.50\n",
       "9                                     1.00  0.00\n",
       "11                                    0.00  1.00\n",
       "96                                    0.20  0.80\n",
       "98                                    0.46  0.54"
      ]
     },
     "execution_count": 23,
     "metadata": {},
     "output_type": "execute_result"
    }
   ],
   "source": [
    "crosstab_60days_dpd=pd.crosstab(Credit_risk['NumberOfTime60-89DaysPastDueNotWorse'],Credit_risk['SeriousDlqin2yrs'])\n",
    "crosstab_60days_dpd\n",
    "round(crosstab_60days_dpd.apply(lambda x:x/x.sum(),axis=1),2)"
   ]
  },
  {
   "cell_type": "code",
   "execution_count": 24,
   "id": "532092a6",
   "metadata": {},
   "outputs": [
    {
     "name": "stderr",
     "output_type": "stream",
     "text": [
      "C:\\Users\\SATISH~1\\AppData\\Local\\Temp/ipykernel_23528/538325767.py:1: SettingWithCopyWarning: \n",
      "A value is trying to be set on a copy of a slice from a DataFrame\n",
      "\n",
      "See the caveats in the documentation: https://pandas.pydata.org/pandas-docs/stable/user_guide/indexing.html#returning-a-view-versus-a-copy\n",
      "  Credit_risk['60daysdpdclean'][Credit_risk['60daysdpdclean']>24]=7\n"
     ]
    }
   ],
   "source": [
    "Credit_risk['60daysdpdclean'][Credit_risk['60daysdpdclean']>24]=7"
   ]
  },
  {
   "cell_type": "code",
   "execution_count": 25,
   "id": "063807f2",
   "metadata": {},
   "outputs": [
    {
     "data": {
      "text/plain": [
       "0     142396\n",
       "1       5731\n",
       "2       1118\n",
       "3        318\n",
       "7        278\n",
       "4        105\n",
       "5         34\n",
       "6         16\n",
       "8          2\n",
       "11         1\n",
       "9          1\n",
       "Name: 60daysdpdclean, dtype: int64"
      ]
     },
     "execution_count": 25,
     "metadata": {},
     "output_type": "execute_result"
    }
   ],
   "source": [
    "Credit_risk['60daysdpdclean'].value_counts()"
   ]
  },
  {
   "cell_type": "markdown",
   "id": "053fc7f0",
   "metadata": {},
   "source": [
    "# data cleaning for NumberOfTimes90DaysLate               "
   ]
  },
  {
   "cell_type": "code",
   "execution_count": null,
   "id": "8ccbc9d1",
   "metadata": {},
   "outputs": [],
   "source": []
  },
  {
   "cell_type": "code",
   "execution_count": 17,
   "id": "fe93a0a1",
   "metadata": {},
   "outputs": [],
   "source": [
    "Credit_risk['90daysdpdclean']=Credit_risk['NumberOfTimes90DaysLate']"
   ]
  },
  {
   "cell_type": "code",
   "execution_count": 18,
   "id": "963ca75f",
   "metadata": {},
   "outputs": [
    {
     "data": {
      "text/html": [
       "<div>\n",
       "<style scoped>\n",
       "    .dataframe tbody tr th:only-of-type {\n",
       "        vertical-align: middle;\n",
       "    }\n",
       "\n",
       "    .dataframe tbody tr th {\n",
       "        vertical-align: top;\n",
       "    }\n",
       "\n",
       "    .dataframe thead th {\n",
       "        text-align: right;\n",
       "    }\n",
       "</style>\n",
       "<table border=\"1\" class=\"dataframe\">\n",
       "  <thead>\n",
       "    <tr style=\"text-align: right;\">\n",
       "      <th>SeriousDlqin2yrs</th>\n",
       "      <th>0</th>\n",
       "      <th>1</th>\n",
       "    </tr>\n",
       "    <tr>\n",
       "      <th>NumberOfTimes90DaysLate</th>\n",
       "      <th></th>\n",
       "      <th></th>\n",
       "    </tr>\n",
       "  </thead>\n",
       "  <tbody>\n",
       "    <tr>\n",
       "      <th>0</th>\n",
       "      <td>0.95</td>\n",
       "      <td>0.05</td>\n",
       "    </tr>\n",
       "    <tr>\n",
       "      <th>1</th>\n",
       "      <td>0.66</td>\n",
       "      <td>0.34</td>\n",
       "    </tr>\n",
       "    <tr>\n",
       "      <th>2</th>\n",
       "      <td>0.50</td>\n",
       "      <td>0.50</td>\n",
       "    </tr>\n",
       "    <tr>\n",
       "      <th>3</th>\n",
       "      <td>0.42</td>\n",
       "      <td>0.58</td>\n",
       "    </tr>\n",
       "    <tr>\n",
       "      <th>4</th>\n",
       "      <td>0.33</td>\n",
       "      <td>0.67</td>\n",
       "    </tr>\n",
       "    <tr>\n",
       "      <th>5</th>\n",
       "      <td>0.37</td>\n",
       "      <td>0.63</td>\n",
       "    </tr>\n",
       "    <tr>\n",
       "      <th>6</th>\n",
       "      <td>0.40</td>\n",
       "      <td>0.60</td>\n",
       "    </tr>\n",
       "    <tr>\n",
       "      <th>7</th>\n",
       "      <td>0.18</td>\n",
       "      <td>0.82</td>\n",
       "    </tr>\n",
       "    <tr>\n",
       "      <th>8</th>\n",
       "      <td>0.29</td>\n",
       "      <td>0.71</td>\n",
       "    </tr>\n",
       "    <tr>\n",
       "      <th>9</th>\n",
       "      <td>0.26</td>\n",
       "      <td>0.74</td>\n",
       "    </tr>\n",
       "    <tr>\n",
       "      <th>10</th>\n",
       "      <td>0.38</td>\n",
       "      <td>0.62</td>\n",
       "    </tr>\n",
       "    <tr>\n",
       "      <th>11</th>\n",
       "      <td>0.40</td>\n",
       "      <td>0.60</td>\n",
       "    </tr>\n",
       "    <tr>\n",
       "      <th>12</th>\n",
       "      <td>0.50</td>\n",
       "      <td>0.50</td>\n",
       "    </tr>\n",
       "    <tr>\n",
       "      <th>13</th>\n",
       "      <td>0.50</td>\n",
       "      <td>0.50</td>\n",
       "    </tr>\n",
       "    <tr>\n",
       "      <th>14</th>\n",
       "      <td>0.50</td>\n",
       "      <td>0.50</td>\n",
       "    </tr>\n",
       "    <tr>\n",
       "      <th>15</th>\n",
       "      <td>1.00</td>\n",
       "      <td>0.00</td>\n",
       "    </tr>\n",
       "    <tr>\n",
       "      <th>17</th>\n",
       "      <td>0.00</td>\n",
       "      <td>1.00</td>\n",
       "    </tr>\n",
       "    <tr>\n",
       "      <th>96</th>\n",
       "      <td>0.20</td>\n",
       "      <td>0.80</td>\n",
       "    </tr>\n",
       "    <tr>\n",
       "      <th>98</th>\n",
       "      <td>0.46</td>\n",
       "      <td>0.54</td>\n",
       "    </tr>\n",
       "  </tbody>\n",
       "</table>\n",
       "</div>"
      ],
      "text/plain": [
       "SeriousDlqin2yrs            0     1\n",
       "NumberOfTimes90DaysLate            \n",
       "0                        0.95  0.05\n",
       "1                        0.66  0.34\n",
       "2                        0.50  0.50\n",
       "3                        0.42  0.58\n",
       "4                        0.33  0.67\n",
       "5                        0.37  0.63\n",
       "6                        0.40  0.60\n",
       "7                        0.18  0.82\n",
       "8                        0.29  0.71\n",
       "9                        0.26  0.74\n",
       "10                       0.38  0.62\n",
       "11                       0.40  0.60\n",
       "12                       0.50  0.50\n",
       "13                       0.50  0.50\n",
       "14                       0.50  0.50\n",
       "15                       1.00  0.00\n",
       "17                       0.00  1.00\n",
       "96                       0.20  0.80\n",
       "98                       0.46  0.54"
      ]
     },
     "execution_count": 18,
     "metadata": {},
     "output_type": "execute_result"
    }
   ],
   "source": [
    "crosstab_90days_dpd=pd.crosstab(Credit_risk['NumberOfTimes90DaysLate'],Credit_risk['SeriousDlqin2yrs'])\n",
    "crosstab_90days_dpd\n",
    "round(crosstab_90days_dpd.apply(lambda x:x/x.sum(),axis=1),2)"
   ]
  },
  {
   "cell_type": "code",
   "execution_count": 19,
   "id": "72f089fc",
   "metadata": {},
   "outputs": [
    {
     "name": "stderr",
     "output_type": "stream",
     "text": [
      "C:\\Users\\SATISH~1\\AppData\\Local\\Temp/ipykernel_23528/973409542.py:1: SettingWithCopyWarning: \n",
      "A value is trying to be set on a copy of a slice from a DataFrame\n",
      "\n",
      "See the caveats in the documentation: https://pandas.pydata.org/pandas-docs/stable/user_guide/indexing.html#returning-a-view-versus-a-copy\n",
      "  Credit_risk['90daysdpdclean'][Credit_risk['90daysdpdclean']>24]=12\n"
     ]
    }
   ],
   "source": [
    "Credit_risk['90daysdpdclean'][Credit_risk['90daysdpdclean']>24]=12"
   ]
  },
  {
   "cell_type": "markdown",
   "id": "72f20ff6",
   "metadata": {},
   "source": [
    "# Data cleaning for age varaible"
   ]
  },
  {
   "cell_type": "code",
   "execution_count": 7,
   "id": "f2a749b2",
   "metadata": {},
   "outputs": [
    {
     "data": {
      "text/plain": [
       "count    150000.000000\n",
       "mean         52.295207\n",
       "std          14.771866\n",
       "min           0.000000\n",
       "25%          41.000000\n",
       "50%          52.000000\n",
       "75%          63.000000\n",
       "max         109.000000\n",
       "Name: age, dtype: float64"
      ]
     },
     "execution_count": 7,
     "metadata": {},
     "output_type": "execute_result"
    }
   ],
   "source": [
    "Credit_risk['age'].describe()\n",
    "\n"
   ]
  },
  {
   "cell_type": "code",
   "execution_count": 107,
   "id": "9e28b6f6",
   "metadata": {},
   "outputs": [
    {
     "name": "stderr",
     "output_type": "stream",
     "text": [
      "C:\\Users\\SATISH~1\\AppData\\Local\\Temp/ipykernel_23528/1935676157.py:2: SettingWithCopyWarning: \n",
      "A value is trying to be set on a copy of a slice from a DataFrame\n",
      "\n",
      "See the caveats in the documentation: https://pandas.pydata.org/pandas-docs/stable/user_guide/indexing.html#returning-a-view-versus-a-copy\n",
      "  Credit_risk['agenew'][Credit_risk['agenew']>80]=Credit_risk['age'].median()\n"
     ]
    },
    {
     "data": {
      "text/plain": [
       "52    8545\n",
       "49    3837\n",
       "48    3806\n",
       "50    3753\n",
       "63    3719\n",
       "      ... \n",
       "24     816\n",
       "23     641\n",
       "22     434\n",
       "21     183\n",
       "0        1\n",
       "Name: agenew, Length: 61, dtype: int64"
      ]
     },
     "execution_count": 107,
     "metadata": {},
     "output_type": "execute_result"
    }
   ],
   "source": [
    "Credit_risk['agenew']=Credit_risk['age']\n",
    "Credit_risk['agenew'][Credit_risk['agenew']>80]=Credit_risk['age'].median()  #based on the client request or bankimg rules age of the customer will be taken\n",
    "Credit_risk['agenew'].value_counts()"
   ]
  },
  {
   "cell_type": "code",
   "execution_count": 165,
   "id": "3b4d2f24",
   "metadata": {},
   "outputs": [
    {
     "data": {
      "text/plain": [
       "0         45.0\n",
       "1         40.0\n",
       "2         38.0\n",
       "3         30.0\n",
       "4         49.0\n",
       "          ... \n",
       "149995    74.0\n",
       "149996    44.0\n",
       "149997    58.0\n",
       "149998    30.0\n",
       "149999    64.0\n",
       "Name: age, Length: 150000, dtype: float64"
      ]
     },
     "execution_count": 165,
     "metadata": {},
     "output_type": "execute_result"
    }
   ],
   "source": [
    "import numpy as np\n",
    "\n",
    "Credit_risk['age'] = Credit_risk['age'].replace(0, np.nan)\n",
    "Credit_risk['age']"
   ]
  },
  {
   "cell_type": "code",
   "execution_count": 166,
   "id": "2883829e",
   "metadata": {},
   "outputs": [
    {
     "data": {
      "text/plain": [
       "0         45.0\n",
       "1         40.0\n",
       "2         38.0\n",
       "3         30.0\n",
       "4         49.0\n",
       "          ... \n",
       "149995    74.0\n",
       "149996    44.0\n",
       "149997    58.0\n",
       "149998    30.0\n",
       "149999    64.0\n",
       "Name: age, Length: 150000, dtype: float64"
      ]
     },
     "execution_count": 166,
     "metadata": {},
     "output_type": "execute_result"
    }
   ],
   "source": [
    "Credit_risk['age'] = Credit_risk['age'].clip(upper=100)\n",
    "Credit_risk['age']"
   ]
  },
  {
   "cell_type": "code",
   "execution_count": 130,
   "id": "56b63137",
   "metadata": {},
   "outputs": [
    {
     "name": "stderr",
     "output_type": "stream",
     "text": [
      "C:\\Users\\SATISH~1\\AppData\\Local\\Temp/ipykernel_13600/3881434938.py:6: SettingWithCopyWarning: \n",
      "A value is trying to be set on a copy of a slice from a DataFrame\n",
      "\n",
      "See the caveats in the documentation: https://pandas.pydata.org/pandas-docs/stable/user_guide/indexing.html#returning-a-view-versus-a-copy\n",
      "  Credit_risk['age'][Credit_risk['age']>63]=median_age\n"
     ]
    }
   ],
   "source": []
  },
  {
   "cell_type": "code",
   "execution_count": 167,
   "id": "2fe8c285",
   "metadata": {},
   "outputs": [
    {
     "data": {
      "text/plain": [
       "46-55    36690\n",
       "56-65    33406\n",
       "36-45    29819\n",
       "65+      28599\n",
       "26-35    18458\n",
       "18-25     3027\n",
       "Name: age_bin, dtype: int64"
      ]
     },
     "execution_count": 167,
     "metadata": {},
     "output_type": "execute_result"
    }
   ],
   "source": [
    "bins = [18, 25, 35, 45, 55, 65, 100]\n",
    "labels = ['18-25','26-35','36-45','46-55','56-65','65+']\n",
    "Credit_risk['age_bin'] = pd.cut(Credit_risk['age'], bins=bins, labels=labels)\n",
    "Credit_risk['age_bin'].value_counts()\n"
   ]
  },
  {
   "cell_type": "code",
   "execution_count": 195,
   "id": "27b6b857",
   "metadata": {},
   "outputs": [],
   "source": [
    "bins = [18, 25, 35, 45, 55, 65, 100]\n",
    "Credit_risk['age_bin'] = pd.cut(\n",
    "    Credit_risk['age'],\n",
    "    bins=bins,\n",
    "    labels=False   # returns numbers instead of strings\n",
    ")\n"
   ]
  },
  {
   "cell_type": "code",
   "execution_count": 196,
   "id": "413e1ab3",
   "metadata": {},
   "outputs": [
    {
     "data": {
      "text/plain": [
       "3.0    36690\n",
       "4.0    33406\n",
       "2.0    29819\n",
       "5.0    28599\n",
       "1.0    18458\n",
       "0.0     3027\n",
       "Name: age_bin, dtype: int64"
      ]
     },
     "execution_count": 196,
     "metadata": {},
     "output_type": "execute_result"
    }
   ],
   "source": [
    "Credit_risk['age_bin'].value_counts()"
   ]
  },
  {
   "cell_type": "markdown",
   "id": "e2f5748b",
   "metadata": {},
   "source": [
    "# Data cleaning for NumberOfOpenCreditLinesAndLoans variable           "
   ]
  },
  {
   "cell_type": "markdown",
   "id": "18dd8070",
   "metadata": {},
   "source": [
    "# As per the client and bank rules the maximum no. of loans per person is 18 so we have imputed more than 18 loans with median"
   ]
  },
  {
   "cell_type": "code",
   "execution_count": 14,
   "id": "fcb09d42",
   "metadata": {},
   "outputs": [
    {
     "data": {
      "text/plain": [
       "0.10     3.0\n",
       "0.20     4.0\n",
       "0.30     5.0\n",
       "0.40     6.0\n",
       "0.50     8.0\n",
       "0.60     9.0\n",
       "0.70    10.0\n",
       "0.80    12.0\n",
       "0.90    15.0\n",
       "0.92    16.0\n",
       "0.94    17.0\n",
       "0.95    18.0\n",
       "0.96    19.0\n",
       "0.97    20.0\n",
       "0.98    22.0\n",
       "0.99    24.0\n",
       "1.00    58.0\n",
       "Name: NumberOfOpenCreditLinesAndLoans, dtype: float64"
      ]
     },
     "execution_count": 14,
     "metadata": {},
     "output_type": "execute_result"
    }
   ],
   "source": [
    "Credit_risk['NumberOfOpenCreditLinesAndLoans'].quantile([0.1,0.2,0.3,0.4,0.5,0.6,0.7,0.8,0.9,0.92,0.94,0.95,0.96,0.97,0.98,0.99,1])"
   ]
  },
  {
   "cell_type": "code",
   "execution_count": 15,
   "id": "dea5333b",
   "metadata": {},
   "outputs": [
    {
     "name": "stderr",
     "output_type": "stream",
     "text": [
      "C:\\Users\\SATISH~1\\AppData\\Local\\Temp/ipykernel_23528/1341453484.py:2: SettingWithCopyWarning: \n",
      "A value is trying to be set on a copy of a slice from a DataFrame\n",
      "\n",
      "See the caveats in the documentation: https://pandas.pydata.org/pandas-docs/stable/user_guide/indexing.html#returning-a-view-versus-a-copy\n",
      "  Credit_risk['opencreditlinesnew'][Credit_risk['opencreditlinesnew']>18]=Credit_risk['opencreditlinesnew'].median()\n"
     ]
    },
    {
     "data": {
      "text/plain": [
       "8     19144\n",
       "6     13614\n",
       "7     13245\n",
       "5     12931\n",
       "4     11609\n",
       "9     11355\n",
       "10     9624\n",
       "3      9058\n",
       "11     8321\n",
       "12     7005\n",
       "2      6666\n",
       "13     5667\n",
       "14     4546\n",
       "1      4438\n",
       "15     3645\n",
       "16     3000\n",
       "17     2370\n",
       "0      1888\n",
       "18     1874\n",
       "Name: opencreditlinesnew, dtype: int64"
      ]
     },
     "execution_count": 15,
     "metadata": {},
     "output_type": "execute_result"
    }
   ],
   "source": [
    "Credit_risk['opencreditlinesnew']=Credit_risk['NumberOfOpenCreditLinesAndLoans']\n",
    "Credit_risk['opencreditlinesnew'][Credit_risk['opencreditlinesnew']>18]=Credit_risk['opencreditlinesnew'].median()\n",
    "Credit_risk['opencreditlinesnew'].value_counts()"
   ]
  },
  {
   "cell_type": "code",
   "execution_count": 103,
   "id": "b8e8dd32",
   "metadata": {},
   "outputs": [
    {
     "name": "stdout",
     "output_type": "stream",
     "text": [
      "<class 'pandas.core.frame.DataFrame'>\n",
      "RangeIndex: 150000 entries, 0 to 149999\n",
      "Data columns (total 22 columns):\n",
      " #   Column                                Non-Null Count   Dtype  \n",
      "---  ------                                --------------   -----  \n",
      " 0   Sr_No                                 150000 non-null  int64  \n",
      " 1   SeriousDlqin2yrs                      150000 non-null  int64  \n",
      " 2   RevolvingUtilizationOfUnsecuredLines  150000 non-null  float64\n",
      " 3   age                                   150000 non-null  int64  \n",
      " 4   NumberOfTime30-59DaysPastDueNotWorse  150000 non-null  int64  \n",
      " 5   DebtRatio                             150000 non-null  float64\n",
      " 6   MonthlyIncome                         120269 non-null  float64\n",
      " 7   NumberOfOpenCreditLinesAndLoans       150000 non-null  int64  \n",
      " 8   NumberOfTimes90DaysLate               150000 non-null  int64  \n",
      " 9   NumberRealEstateLoansOrLines          150000 non-null  int64  \n",
      " 10  NumberOfTime60-89DaysPastDueNotWorse  150000 non-null  int64  \n",
      " 11  NumberOfDependents                    146076 non-null  float64\n",
      " 12  90daysdpdclean                        150000 non-null  int64  \n",
      " 13  opencreditlinesnew                    150000 non-null  int64  \n",
      " 14  60daysdpdclean                        150000 non-null  int64  \n",
      " 15  30daysdpdclean                        150000 non-null  int64  \n",
      " 16  Monthly_utilization                   150000 non-null  float64\n",
      " 17  NumberOfDependentsnew                 150000 non-null  float64\n",
      " 18  DebtRatioflag                         150000 non-null  int64  \n",
      " 19  DebtRationew                          150000 non-null  float64\n",
      " 20  MonthlyIncomeflag                     150000 non-null  int64  \n",
      " 21  MonthlyIncomenew                      150000 non-null  float64\n",
      "dtypes: float64(8), int64(14)\n",
      "memory usage: 25.2 MB\n"
     ]
    }
   ],
   "source": [
    "\n",
    "Credit_risk.info()"
   ]
  },
  {
   "cell_type": "code",
   "execution_count": 193,
   "id": "fbe9781f",
   "metadata": {},
   "outputs": [],
   "source": [
    "\n"
   ]
  },
  {
   "cell_type": "code",
   "execution_count": 194,
   "id": "c8221260",
   "metadata": {},
   "outputs": [
    {
     "data": {
      "text/plain": [
       "1.0    38154\n",
       "2.0    37162\n",
       "4.0    27684\n",
       "3.0    24950\n",
       "0.0    20162\n",
       "Name: NoOfLoans_bin, dtype: int64"
      ]
     },
     "execution_count": 194,
     "metadata": {},
     "output_type": "execute_result"
    }
   ],
   "source": []
  },
  {
   "cell_type": "markdown",
   "id": "dcb21dc2",
   "metadata": {},
   "source": [
    "# Data cleaning for NumberOfDependents                    "
   ]
  },
  {
   "cell_type": "code",
   "execution_count": 40,
   "id": "74da194f",
   "metadata": {},
   "outputs": [],
   "source": [
    "Credit_risk['NumberOfDependentsnew']=Credit_risk['NumberOfDependents']"
   ]
  },
  {
   "cell_type": "code",
   "execution_count": 44,
   "id": "9c2269ee",
   "metadata": {},
   "outputs": [
    {
     "data": {
      "text/plain": [
       "0.0     86902\n",
       "1.0     26316\n",
       "2.0     19522\n",
       "3.0      9483\n",
       "4.0      2862\n",
       "5.0       746\n",
       "6.0       158\n",
       "7.0        51\n",
       "8.0        24\n",
       "10.0        5\n",
       "9.0         5\n",
       "20.0        1\n",
       "13.0        1\n",
       "Name: NumberOfDependentsnew, dtype: int64"
      ]
     },
     "execution_count": 44,
     "metadata": {},
     "output_type": "execute_result"
    }
   ],
   "source": [
    "Credit_risk['NumberOfDependentsnew'].value_counts()"
   ]
  },
  {
   "cell_type": "code",
   "execution_count": 45,
   "id": "780ee436",
   "metadata": {},
   "outputs": [
    {
     "data": {
      "text/plain": [
       "0.0"
      ]
     },
     "execution_count": 45,
     "metadata": {},
     "output_type": "execute_result"
    }
   ],
   "source": [
    "median_of_depedents=Credit_risk['NumberOfDependentsnew'].median()\n",
    "median_of_depedents"
   ]
  },
  {
   "cell_type": "code",
   "execution_count": 49,
   "id": "2182bdff",
   "metadata": {},
   "outputs": [
    {
     "name": "stderr",
     "output_type": "stream",
     "text": [
      "C:\\Users\\SATISH~1\\AppData\\Local\\Temp/ipykernel_23528/4066555267.py:1: SettingWithCopyWarning: \n",
      "A value is trying to be set on a copy of a slice from a DataFrame\n",
      "\n",
      "See the caveats in the documentation: https://pandas.pydata.org/pandas-docs/stable/user_guide/indexing.html#returning-a-view-versus-a-copy\n",
      "  Credit_risk['NumberOfDependentsnew'][(Credit_risk['NumberOfDependentsnew']>10)|(Credit_risk['NumberOfDependentsnew'].isnull()) ]=median_of_depedents\n"
     ]
    }
   ],
   "source": [
    "Credit_risk['NumberOfDependentsnew'][(Credit_risk['NumberOfDependentsnew']>10)|(Credit_risk['NumberOfDependentsnew'].isnull()) ]=median_of_depedents"
   ]
  },
  {
   "cell_type": "code",
   "execution_count": 51,
   "id": "1ccd86f6",
   "metadata": {},
   "outputs": [
    {
     "data": {
      "text/plain": [
       "0.0     90828\n",
       "1.0     26316\n",
       "2.0     19522\n",
       "3.0      9483\n",
       "4.0      2862\n",
       "5.0       746\n",
       "6.0       158\n",
       "7.0        51\n",
       "8.0        24\n",
       "10.0        5\n",
       "9.0         5\n",
       "Name: NumberOfDependentsnew, dtype: int64"
      ]
     },
     "execution_count": 51,
     "metadata": {},
     "output_type": "execute_result"
    }
   ],
   "source": [
    "Credit_risk['NumberOfDependentsnew'].value_counts()"
   ]
  },
  {
   "cell_type": "markdown",
   "id": "4d1ddb6a",
   "metadata": {},
   "source": [
    "# Data cleaning for no.of real estate loans"
   ]
  },
  {
   "cell_type": "code",
   "execution_count": 115,
   "id": "617908c2",
   "metadata": {},
   "outputs": [
    {
     "data": {
      "text/plain": [
       "0.10     0.0\n",
       "0.20     0.0\n",
       "0.30     0.0\n",
       "0.40     1.0\n",
       "0.50     1.0\n",
       "0.60     1.0\n",
       "0.70     1.0\n",
       "0.80     2.0\n",
       "0.90     2.0\n",
       "0.92     2.0\n",
       "0.94     3.0\n",
       "0.95     3.0\n",
       "0.96     3.0\n",
       "0.97     3.0\n",
       "0.98     4.0\n",
       "0.99     4.0\n",
       "1.00    54.0\n",
       "Name: NumberRealEstateLoansOrLines, dtype: float64"
      ]
     },
     "execution_count": 115,
     "metadata": {},
     "output_type": "execute_result"
    }
   ],
   "source": [
    "Credit_risk['NumberRealEstateLoansOrLines'].quantile([0.1,0.2,0.3,0.4,0.5,0.6,0.7,0.8,0.9,0.92,0.94,0.95,0.96,0.97,0.98,0.99,1])"
   ]
  },
  {
   "cell_type": "code",
   "execution_count": 116,
   "id": "15daada7",
   "metadata": {},
   "outputs": [],
   "source": [
    "Credit_risk['NumberRealEstateLoansnew']=Credit_risk['NumberRealEstateLoansOrLines']"
   ]
  },
  {
   "cell_type": "code",
   "execution_count": 117,
   "id": "02c96237",
   "metadata": {},
   "outputs": [
    {
     "name": "stderr",
     "output_type": "stream",
     "text": [
      "C:\\Users\\SATISH~1\\AppData\\Local\\Temp/ipykernel_23528/3791949285.py:1: SettingWithCopyWarning: \n",
      "A value is trying to be set on a copy of a slice from a DataFrame\n",
      "\n",
      "See the caveats in the documentation: https://pandas.pydata.org/pandas-docs/stable/user_guide/indexing.html#returning-a-view-versus-a-copy\n",
      "  Credit_risk['NumberRealEstateLoansnew'][Credit_risk['NumberRealEstateLoansnew']>4]=Credit_risk['NumberRealEstateLoansOrLines'].median()\n"
     ]
    }
   ],
   "source": [
    "Credit_risk['NumberRealEstateLoansnew'][Credit_risk['NumberRealEstateLoansnew']>4]=Credit_risk['NumberRealEstateLoansOrLines'].median()"
   ]
  },
  {
   "cell_type": "code",
   "execution_count": 118,
   "id": "a35d7adb",
   "metadata": {},
   "outputs": [
    {
     "data": {
      "text/plain": [
       "0    56188\n",
       "1    53820\n",
       "2    31522\n",
       "3     6300\n",
       "4     2170\n",
       "Name: NumberRealEstateLoansnew, dtype: int64"
      ]
     },
     "execution_count": 118,
     "metadata": {},
     "output_type": "execute_result"
    }
   ],
   "source": [
    "Credit_risk['NumberRealEstateLoansnew'].value_counts()"
   ]
  },
  {
   "cell_type": "code",
   "execution_count": null,
   "id": "e3658cb0",
   "metadata": {},
   "outputs": [],
   "source": []
  },
  {
   "cell_type": "code",
   "execution_count": null,
   "id": "0792d052",
   "metadata": {},
   "outputs": [],
   "source": []
  },
  {
   "cell_type": "code",
   "execution_count": 119,
   "id": "6185a889",
   "metadata": {},
   "outputs": [
    {
     "name": "stdout",
     "output_type": "stream",
     "text": [
      "<class 'pandas.core.frame.DataFrame'>\n",
      "RangeIndex: 150000 entries, 0 to 149999\n",
      "Data columns (total 24 columns):\n",
      " #   Column                                Non-Null Count   Dtype  \n",
      "---  ------                                --------------   -----  \n",
      " 0   Sr_No                                 150000 non-null  int64  \n",
      " 1   SeriousDlqin2yrs                      150000 non-null  int64  \n",
      " 2   RevolvingUtilizationOfUnsecuredLines  150000 non-null  float64\n",
      " 3   age                                   150000 non-null  int64  \n",
      " 4   NumberOfTime30-59DaysPastDueNotWorse  150000 non-null  int64  \n",
      " 5   DebtRatio                             150000 non-null  float64\n",
      " 6   MonthlyIncome                         120269 non-null  float64\n",
      " 7   NumberOfOpenCreditLinesAndLoans       150000 non-null  int64  \n",
      " 8   NumberOfTimes90DaysLate               150000 non-null  int64  \n",
      " 9   NumberRealEstateLoansOrLines          150000 non-null  int64  \n",
      " 10  NumberOfTime60-89DaysPastDueNotWorse  150000 non-null  int64  \n",
      " 11  NumberOfDependents                    146076 non-null  float64\n",
      " 12  90daysdpdclean                        150000 non-null  int64  \n",
      " 13  opencreditlinesnew                    150000 non-null  int64  \n",
      " 14  60daysdpdclean                        150000 non-null  int64  \n",
      " 15  30daysdpdclean                        150000 non-null  int64  \n",
      " 16  Monthly_utilization                   150000 non-null  float64\n",
      " 17  NumberOfDependentsnew                 150000 non-null  float64\n",
      " 18  DebtRatioflag                         150000 non-null  int64  \n",
      " 19  DebtRationew                          150000 non-null  float64\n",
      " 20  MonthlyIncomeflag                     150000 non-null  int64  \n",
      " 21  MonthlyIncomenew                      150000 non-null  float64\n",
      " 22  agenew                                150000 non-null  int64  \n",
      " 23  NumberRealEstateLoansnew              150000 non-null  int64  \n",
      "dtypes: float64(8), int64(16)\n",
      "memory usage: 27.5 MB\n"
     ]
    }
   ],
   "source": [
    "Credit_risk.info()"
   ]
  },
  {
   "cell_type": "code",
   "execution_count": 129,
   "id": "3d83e7ec",
   "metadata": {},
   "outputs": [
    {
     "data": {
      "text/plain": [
       "array(['Sr_No', 'SeriousDlqin2yrs',\n",
       "       'RevolvingUtilizationOfUnsecuredLines', 'age',\n",
       "       'NumberOfTime30-59DaysPastDueNotWorse', 'DebtRatio',\n",
       "       'MonthlyIncome', 'NumberOfOpenCreditLinesAndLoans',\n",
       "       'NumberOfTimes90DaysLate', 'NumberRealEstateLoansOrLines',\n",
       "       'NumberOfTime60-89DaysPastDueNotWorse', 'NumberOfDependents',\n",
       "       '90daysdpdclean', 'opencreditlinesnew', '60daysdpdclean',\n",
       "       '30daysdpdclean', 'Monthly_utilization', 'NumberOfDependentsnew',\n",
       "       'DebtRatioflag', 'DebtRationew', 'MonthlyIncomeflag',\n",
       "       'MonthlyIncomenew', 'agenew', 'NumberRealEstateLoansnew'],\n",
       "      dtype=object)"
      ]
     },
     "execution_count": 129,
     "metadata": {},
     "output_type": "execute_result"
    }
   ],
   "source": [
    "Credit_risk.columns.values"
   ]
  },
  {
   "cell_type": "code",
   "execution_count": 139,
   "id": "6f849371",
   "metadata": {},
   "outputs": [
    {
     "name": "stdout",
     "output_type": "stream",
     "text": [
      "<class 'pandas.core.frame.DataFrame'>\n",
      "RangeIndex: 150000 entries, 0 to 149999\n",
      "Data columns (total 24 columns):\n",
      " #   Column                                Non-Null Count   Dtype  \n",
      "---  ------                                --------------   -----  \n",
      " 0   Sr_No                                 150000 non-null  int64  \n",
      " 1   SeriousDlqin2yrs                      150000 non-null  int64  \n",
      " 2   RevolvingUtilizationOfUnsecuredLines  150000 non-null  float64\n",
      " 3   age                                   150000 non-null  int64  \n",
      " 4   NumberOfTime30-59DaysPastDueNotWorse  150000 non-null  int64  \n",
      " 5   DebtRatio                             150000 non-null  float64\n",
      " 6   MonthlyIncome                         120269 non-null  float64\n",
      " 7   NumberOfOpenCreditLinesAndLoans       150000 non-null  int64  \n",
      " 8   NumberOfTimes90DaysLate               150000 non-null  int64  \n",
      " 9   NumberRealEstateLoansOrLines          150000 non-null  int64  \n",
      " 10  NumberOfTime60-89DaysPastDueNotWorse  150000 non-null  int64  \n",
      " 11  NumberOfDependents                    146076 non-null  float64\n",
      " 12  90daysdpdclean                        150000 non-null  int64  \n",
      " 13  opencreditlinesnew                    150000 non-null  int64  \n",
      " 14  60daysdpdclean                        150000 non-null  int64  \n",
      " 15  30daysdpdclean                        150000 non-null  int64  \n",
      " 16  Monthly_utilization                   150000 non-null  float64\n",
      " 17  NumberOfDependentsnew                 150000 non-null  float64\n",
      " 18  DebtRatioflag                         150000 non-null  int64  \n",
      " 19  DebtRationew                          150000 non-null  float64\n",
      " 20  MonthlyIncomeflag                     150000 non-null  int64  \n",
      " 21  MonthlyIncomenew                      150000 non-null  float64\n",
      " 22  agenew                                150000 non-null  int64  \n",
      " 23  NumberRealEstateLoansnew              150000 non-null  int64  \n",
      "dtypes: float64(8), int64(16)\n",
      "memory usage: 27.5 MB\n"
     ]
    }
   ],
   "source": [
    "Credit_risk.info()"
   ]
  },
  {
   "cell_type": "code",
   "execution_count": 140,
   "id": "5d3876fa",
   "metadata": {},
   "outputs": [],
   "source": [
    "Credit_risk_new=Credit_risk[['Sr_No','SeriousDlqin2yrs','90daysdpdclean', 'opencreditlinesnew', '60daysdpdclean',\n",
    "       '30daysdpdclean', 'Monthly_utilization', 'NumberOfDependentsnew',\n",
    "       'DebtRatioflag', 'DebtRationew', 'MonthlyIncomeflag',\n",
    "       'MonthlyIncomenew', 'agenew', 'NumberRealEstateLoansnew']]"
   ]
  },
  {
   "cell_type": "code",
   "execution_count": 143,
   "id": "9c79e961",
   "metadata": {},
   "outputs": [],
   "source": [
    "Credit_risk_new.to_csv(\"Credit_risk_new.csv\", index=False)"
   ]
  },
  {
   "cell_type": "code",
   "execution_count": null,
   "id": "1ecf7804",
   "metadata": {},
   "outputs": [],
   "source": []
  },
  {
   "cell_type": "code",
   "execution_count": null,
   "id": "73ae71cb",
   "metadata": {},
   "outputs": [],
   "source": []
  },
  {
   "cell_type": "code",
   "execution_count": null,
   "id": "70547185",
   "metadata": {},
   "outputs": [],
   "source": []
  },
  {
   "cell_type": "code",
   "execution_count": null,
   "id": "c285622f",
   "metadata": {},
   "outputs": [],
   "source": []
  },
  {
   "cell_type": "markdown",
   "id": "75e9e926",
   "metadata": {},
   "source": [
    "# Logistic regression Model building "
   ]
  },
  {
   "cell_type": "code",
   "execution_count": 131,
   "id": "52d14c75",
   "metadata": {},
   "outputs": [],
   "source": [
    "import sklearn as sk\n",
    "from sklearn import linear_model\n",
    "from sklearn.linear_model import LogisticRegression"
   ]
  },
  {
   "cell_type": "code",
   "execution_count": 132,
   "id": "80a373d0",
   "metadata": {},
   "outputs": [],
   "source": [
    "from sklearn.model_selection import train_test_split"
   ]
  },
  {
   "cell_type": "code",
   "execution_count": 133,
   "id": "d5f755b1",
   "metadata": {},
   "outputs": [],
   "source": [
    "X_train, X_test, y_train, y_test=train_test_split(Credit_risk[['NumberOfDependents',\n",
    "       '90daysdpdclean', 'opencreditlinesnew', '60daysdpdclean',\n",
    "       '30daysdpdclean', 'Monthly_utilization', 'NumberOfDependentsnew',\n",
    "       'DebtRatioflag', 'DebtRationew', 'MonthlyIncomeflag',\n",
    "       'MonthlyIncomenew', 'agenew', 'NumberRealEstateLoansnew']],Credit_risk['SeriousDlqin2yrs'],test_size=0.2)"
   ]
  },
  {
   "cell_type": "code",
   "execution_count": 134,
   "id": "496d3ce7",
   "metadata": {},
   "outputs": [
    {
     "data": {
      "text/plain": [
       "120000"
      ]
     },
     "execution_count": 134,
     "metadata": {},
     "output_type": "execute_result"
    }
   ],
   "source": [
    "len(X_train)"
   ]
  },
  {
   "cell_type": "code",
   "execution_count": 135,
   "id": "d2d47020",
   "metadata": {},
   "outputs": [
    {
     "data": {
      "text/plain": [
       "30000"
      ]
     },
     "execution_count": 135,
     "metadata": {},
     "output_type": "execute_result"
    }
   ],
   "source": [
    "len(X_test)"
   ]
  },
  {
   "cell_type": "code",
   "execution_count": 136,
   "id": "31cd270d",
   "metadata": {},
   "outputs": [],
   "source": [
    "Lr=LogisticRegression()"
   ]
  },
  {
   "cell_type": "code",
   "execution_count": 137,
   "id": "d8f643d3",
   "metadata": {
    "scrolled": true
   },
   "outputs": [
    {
     "ename": "ValueError",
     "evalue": "Input contains NaN, infinity or a value too large for dtype('float64').",
     "output_type": "error",
     "traceback": [
      "\u001b[1;31m---------------------------------------------------------------------------\u001b[0m",
      "\u001b[1;31mValueError\u001b[0m                                Traceback (most recent call last)",
      "\u001b[1;32mC:\\Users\\SATISH~1\\AppData\\Local\\Temp/ipykernel_23528/907218518.py\u001b[0m in \u001b[0;36m<module>\u001b[1;34m\u001b[0m\n\u001b[1;32m----> 1\u001b[1;33m \u001b[0mLr\u001b[0m\u001b[1;33m.\u001b[0m\u001b[0mfit\u001b[0m\u001b[1;33m(\u001b[0m\u001b[0mX_train\u001b[0m\u001b[1;33m,\u001b[0m\u001b[0my_train\u001b[0m\u001b[1;33m)\u001b[0m\u001b[1;33m\u001b[0m\u001b[1;33m\u001b[0m\u001b[0m\n\u001b[0m",
      "\u001b[1;32m~\\anaconda3\\lib\\site-packages\\sklearn\\linear_model\\_logistic.py\u001b[0m in \u001b[0;36mfit\u001b[1;34m(self, X, y, sample_weight)\u001b[0m\n\u001b[0;32m   1342\u001b[0m             \u001b[0m_dtype\u001b[0m \u001b[1;33m=\u001b[0m \u001b[1;33m[\u001b[0m\u001b[0mnp\u001b[0m\u001b[1;33m.\u001b[0m\u001b[0mfloat64\u001b[0m\u001b[1;33m,\u001b[0m \u001b[0mnp\u001b[0m\u001b[1;33m.\u001b[0m\u001b[0mfloat32\u001b[0m\u001b[1;33m]\u001b[0m\u001b[1;33m\u001b[0m\u001b[1;33m\u001b[0m\u001b[0m\n\u001b[0;32m   1343\u001b[0m \u001b[1;33m\u001b[0m\u001b[0m\n\u001b[1;32m-> 1344\u001b[1;33m         X, y = self._validate_data(X, y, accept_sparse='csr', dtype=_dtype,\n\u001b[0m\u001b[0;32m   1345\u001b[0m                                    \u001b[0morder\u001b[0m\u001b[1;33m=\u001b[0m\u001b[1;34m\"C\"\u001b[0m\u001b[1;33m,\u001b[0m\u001b[1;33m\u001b[0m\u001b[1;33m\u001b[0m\u001b[0m\n\u001b[0;32m   1346\u001b[0m                                    accept_large_sparse=solver != 'liblinear')\n",
      "\u001b[1;32m~\\anaconda3\\lib\\site-packages\\sklearn\\base.py\u001b[0m in \u001b[0;36m_validate_data\u001b[1;34m(self, X, y, reset, validate_separately, **check_params)\u001b[0m\n\u001b[0;32m    431\u001b[0m                 \u001b[0my\u001b[0m \u001b[1;33m=\u001b[0m \u001b[0mcheck_array\u001b[0m\u001b[1;33m(\u001b[0m\u001b[0my\u001b[0m\u001b[1;33m,\u001b[0m \u001b[1;33m**\u001b[0m\u001b[0mcheck_y_params\u001b[0m\u001b[1;33m)\u001b[0m\u001b[1;33m\u001b[0m\u001b[1;33m\u001b[0m\u001b[0m\n\u001b[0;32m    432\u001b[0m             \u001b[1;32melse\u001b[0m\u001b[1;33m:\u001b[0m\u001b[1;33m\u001b[0m\u001b[1;33m\u001b[0m\u001b[0m\n\u001b[1;32m--> 433\u001b[1;33m                 \u001b[0mX\u001b[0m\u001b[1;33m,\u001b[0m \u001b[0my\u001b[0m \u001b[1;33m=\u001b[0m \u001b[0mcheck_X_y\u001b[0m\u001b[1;33m(\u001b[0m\u001b[0mX\u001b[0m\u001b[1;33m,\u001b[0m \u001b[0my\u001b[0m\u001b[1;33m,\u001b[0m \u001b[1;33m**\u001b[0m\u001b[0mcheck_params\u001b[0m\u001b[1;33m)\u001b[0m\u001b[1;33m\u001b[0m\u001b[1;33m\u001b[0m\u001b[0m\n\u001b[0m\u001b[0;32m    434\u001b[0m             \u001b[0mout\u001b[0m \u001b[1;33m=\u001b[0m \u001b[0mX\u001b[0m\u001b[1;33m,\u001b[0m \u001b[0my\u001b[0m\u001b[1;33m\u001b[0m\u001b[1;33m\u001b[0m\u001b[0m\n\u001b[0;32m    435\u001b[0m \u001b[1;33m\u001b[0m\u001b[0m\n",
      "\u001b[1;32m~\\anaconda3\\lib\\site-packages\\sklearn\\utils\\validation.py\u001b[0m in \u001b[0;36minner_f\u001b[1;34m(*args, **kwargs)\u001b[0m\n\u001b[0;32m     61\u001b[0m             \u001b[0mextra_args\u001b[0m \u001b[1;33m=\u001b[0m \u001b[0mlen\u001b[0m\u001b[1;33m(\u001b[0m\u001b[0margs\u001b[0m\u001b[1;33m)\u001b[0m \u001b[1;33m-\u001b[0m \u001b[0mlen\u001b[0m\u001b[1;33m(\u001b[0m\u001b[0mall_args\u001b[0m\u001b[1;33m)\u001b[0m\u001b[1;33m\u001b[0m\u001b[1;33m\u001b[0m\u001b[0m\n\u001b[0;32m     62\u001b[0m             \u001b[1;32mif\u001b[0m \u001b[0mextra_args\u001b[0m \u001b[1;33m<=\u001b[0m \u001b[1;36m0\u001b[0m\u001b[1;33m:\u001b[0m\u001b[1;33m\u001b[0m\u001b[1;33m\u001b[0m\u001b[0m\n\u001b[1;32m---> 63\u001b[1;33m                 \u001b[1;32mreturn\u001b[0m \u001b[0mf\u001b[0m\u001b[1;33m(\u001b[0m\u001b[1;33m*\u001b[0m\u001b[0margs\u001b[0m\u001b[1;33m,\u001b[0m \u001b[1;33m**\u001b[0m\u001b[0mkwargs\u001b[0m\u001b[1;33m)\u001b[0m\u001b[1;33m\u001b[0m\u001b[1;33m\u001b[0m\u001b[0m\n\u001b[0m\u001b[0;32m     64\u001b[0m \u001b[1;33m\u001b[0m\u001b[0m\n\u001b[0;32m     65\u001b[0m             \u001b[1;31m# extra_args > 0\u001b[0m\u001b[1;33m\u001b[0m\u001b[1;33m\u001b[0m\u001b[0m\n",
      "\u001b[1;32m~\\anaconda3\\lib\\site-packages\\sklearn\\utils\\validation.py\u001b[0m in \u001b[0;36mcheck_X_y\u001b[1;34m(X, y, accept_sparse, accept_large_sparse, dtype, order, copy, force_all_finite, ensure_2d, allow_nd, multi_output, ensure_min_samples, ensure_min_features, y_numeric, estimator)\u001b[0m\n\u001b[0;32m    869\u001b[0m         \u001b[1;32mraise\u001b[0m \u001b[0mValueError\u001b[0m\u001b[1;33m(\u001b[0m\u001b[1;34m\"y cannot be None\"\u001b[0m\u001b[1;33m)\u001b[0m\u001b[1;33m\u001b[0m\u001b[1;33m\u001b[0m\u001b[0m\n\u001b[0;32m    870\u001b[0m \u001b[1;33m\u001b[0m\u001b[0m\n\u001b[1;32m--> 871\u001b[1;33m     X = check_array(X, accept_sparse=accept_sparse,\n\u001b[0m\u001b[0;32m    872\u001b[0m                     \u001b[0maccept_large_sparse\u001b[0m\u001b[1;33m=\u001b[0m\u001b[0maccept_large_sparse\u001b[0m\u001b[1;33m,\u001b[0m\u001b[1;33m\u001b[0m\u001b[1;33m\u001b[0m\u001b[0m\n\u001b[0;32m    873\u001b[0m                     \u001b[0mdtype\u001b[0m\u001b[1;33m=\u001b[0m\u001b[0mdtype\u001b[0m\u001b[1;33m,\u001b[0m \u001b[0morder\u001b[0m\u001b[1;33m=\u001b[0m\u001b[0morder\u001b[0m\u001b[1;33m,\u001b[0m \u001b[0mcopy\u001b[0m\u001b[1;33m=\u001b[0m\u001b[0mcopy\u001b[0m\u001b[1;33m,\u001b[0m\u001b[1;33m\u001b[0m\u001b[1;33m\u001b[0m\u001b[0m\n",
      "\u001b[1;32m~\\anaconda3\\lib\\site-packages\\sklearn\\utils\\validation.py\u001b[0m in \u001b[0;36minner_f\u001b[1;34m(*args, **kwargs)\u001b[0m\n\u001b[0;32m     61\u001b[0m             \u001b[0mextra_args\u001b[0m \u001b[1;33m=\u001b[0m \u001b[0mlen\u001b[0m\u001b[1;33m(\u001b[0m\u001b[0margs\u001b[0m\u001b[1;33m)\u001b[0m \u001b[1;33m-\u001b[0m \u001b[0mlen\u001b[0m\u001b[1;33m(\u001b[0m\u001b[0mall_args\u001b[0m\u001b[1;33m)\u001b[0m\u001b[1;33m\u001b[0m\u001b[1;33m\u001b[0m\u001b[0m\n\u001b[0;32m     62\u001b[0m             \u001b[1;32mif\u001b[0m \u001b[0mextra_args\u001b[0m \u001b[1;33m<=\u001b[0m \u001b[1;36m0\u001b[0m\u001b[1;33m:\u001b[0m\u001b[1;33m\u001b[0m\u001b[1;33m\u001b[0m\u001b[0m\n\u001b[1;32m---> 63\u001b[1;33m                 \u001b[1;32mreturn\u001b[0m \u001b[0mf\u001b[0m\u001b[1;33m(\u001b[0m\u001b[1;33m*\u001b[0m\u001b[0margs\u001b[0m\u001b[1;33m,\u001b[0m \u001b[1;33m**\u001b[0m\u001b[0mkwargs\u001b[0m\u001b[1;33m)\u001b[0m\u001b[1;33m\u001b[0m\u001b[1;33m\u001b[0m\u001b[0m\n\u001b[0m\u001b[0;32m     64\u001b[0m \u001b[1;33m\u001b[0m\u001b[0m\n\u001b[0;32m     65\u001b[0m             \u001b[1;31m# extra_args > 0\u001b[0m\u001b[1;33m\u001b[0m\u001b[1;33m\u001b[0m\u001b[0m\n",
      "\u001b[1;32m~\\anaconda3\\lib\\site-packages\\sklearn\\utils\\validation.py\u001b[0m in \u001b[0;36mcheck_array\u001b[1;34m(array, accept_sparse, accept_large_sparse, dtype, order, copy, force_all_finite, ensure_2d, allow_nd, ensure_min_samples, ensure_min_features, estimator)\u001b[0m\n\u001b[0;32m    718\u001b[0m \u001b[1;33m\u001b[0m\u001b[0m\n\u001b[0;32m    719\u001b[0m         \u001b[1;32mif\u001b[0m \u001b[0mforce_all_finite\u001b[0m\u001b[1;33m:\u001b[0m\u001b[1;33m\u001b[0m\u001b[1;33m\u001b[0m\u001b[0m\n\u001b[1;32m--> 720\u001b[1;33m             _assert_all_finite(array,\n\u001b[0m\u001b[0;32m    721\u001b[0m                                allow_nan=force_all_finite == 'allow-nan')\n\u001b[0;32m    722\u001b[0m \u001b[1;33m\u001b[0m\u001b[0m\n",
      "\u001b[1;32m~\\anaconda3\\lib\\site-packages\\sklearn\\utils\\validation.py\u001b[0m in \u001b[0;36m_assert_all_finite\u001b[1;34m(X, allow_nan, msg_dtype)\u001b[0m\n\u001b[0;32m    101\u001b[0m                 not allow_nan and not np.isfinite(X).all()):\n\u001b[0;32m    102\u001b[0m             \u001b[0mtype_err\u001b[0m \u001b[1;33m=\u001b[0m \u001b[1;34m'infinity'\u001b[0m \u001b[1;32mif\u001b[0m \u001b[0mallow_nan\u001b[0m \u001b[1;32melse\u001b[0m \u001b[1;34m'NaN, infinity'\u001b[0m\u001b[1;33m\u001b[0m\u001b[1;33m\u001b[0m\u001b[0m\n\u001b[1;32m--> 103\u001b[1;33m             raise ValueError(\n\u001b[0m\u001b[0;32m    104\u001b[0m                     \u001b[0mmsg_err\u001b[0m\u001b[1;33m.\u001b[0m\u001b[0mformat\u001b[0m\u001b[1;33m\u001b[0m\u001b[1;33m\u001b[0m\u001b[0m\n\u001b[0;32m    105\u001b[0m                     (type_err,\n",
      "\u001b[1;31mValueError\u001b[0m: Input contains NaN, infinity or a value too large for dtype('float64')."
     ]
    }
   ],
   "source": [
    "Lr.fit(X_train,y_train)"
   ]
  },
  {
   "cell_type": "code",
   "execution_count": 171,
   "id": "e4357434",
   "metadata": {},
   "outputs": [
    {
     "name": "stderr",
     "output_type": "stream",
     "text": [
      "C:\\Users\\satish kumar\\anaconda3\\lib\\site-packages\\sklearn\\utils\\validation.py:63: FutureWarning: Arrays of bytes/strings is being converted to decimal numbers if dtype='numeric'. This behavior is deprecated in 0.24 and will be removed in 1.1 (renaming of 0.26). Please convert your data to numeric values explicitly instead.\n",
      "  return f(*args, **kwargs)\n"
     ]
    },
    {
     "ename": "ValueError",
     "evalue": "Unable to convert array of bytes/strings into decimal numbers with dtype='numeric'",
     "output_type": "error",
     "traceback": [
      "\u001b[1;31m---------------------------------------------------------------------------\u001b[0m",
      "\u001b[1;31mValueError\u001b[0m                                Traceback (most recent call last)",
      "\u001b[1;32m~\\anaconda3\\lib\\site-packages\\sklearn\\utils\\validation.py\u001b[0m in \u001b[0;36mcheck_array\u001b[1;34m(array, accept_sparse, accept_large_sparse, dtype, order, copy, force_all_finite, ensure_2d, allow_nd, ensure_min_samples, ensure_min_features, estimator)\u001b[0m\n\u001b[0;32m    709\u001b[0m             \u001b[1;32mtry\u001b[0m\u001b[1;33m:\u001b[0m\u001b[1;33m\u001b[0m\u001b[1;33m\u001b[0m\u001b[0m\n\u001b[1;32m--> 710\u001b[1;33m                 \u001b[0marray\u001b[0m \u001b[1;33m=\u001b[0m \u001b[0marray\u001b[0m\u001b[1;33m.\u001b[0m\u001b[0mastype\u001b[0m\u001b[1;33m(\u001b[0m\u001b[0mnp\u001b[0m\u001b[1;33m.\u001b[0m\u001b[0mfloat64\u001b[0m\u001b[1;33m)\u001b[0m\u001b[1;33m\u001b[0m\u001b[1;33m\u001b[0m\u001b[0m\n\u001b[0m\u001b[0;32m    711\u001b[0m             \u001b[1;32mexcept\u001b[0m \u001b[0mValueError\u001b[0m \u001b[1;32mas\u001b[0m \u001b[0me\u001b[0m\u001b[1;33m:\u001b[0m\u001b[1;33m\u001b[0m\u001b[1;33m\u001b[0m\u001b[0m\n",
      "\u001b[1;31mValueError\u001b[0m: could not convert string to float: '13-15'",
      "\nThe above exception was the direct cause of the following exception:\n",
      "\u001b[1;31mValueError\u001b[0m                                Traceback (most recent call last)",
      "\u001b[1;32mC:\\Users\\SATISH~1\\AppData\\Local\\Temp/ipykernel_13600/188925134.py\u001b[0m in \u001b[0;36m<module>\u001b[1;34m\u001b[0m\n\u001b[1;32m----> 1\u001b[1;33m \u001b[0mlr\u001b[0m\u001b[1;33m.\u001b[0m\u001b[0mfit\u001b[0m\u001b[1;33m(\u001b[0m\u001b[0mCredit_risk\u001b[0m\u001b[1;33m[\u001b[0m\u001b[1;33m[\u001b[0m\u001b[1;34m'RevolvingUtilizationOfUnsecuredLines'\u001b[0m\u001b[1;33m,\u001b[0m\u001b[1;34m'NumberOfTime30-59DaysPastDueNotWorse'\u001b[0m\u001b[1;33m,\u001b[0m\u001b[1;34m'DebtRatio'\u001b[0m\u001b[1;33m,\u001b[0m\u001b[1;34m'MonthlyIncome'\u001b[0m\u001b[1;33m,\u001b[0m\u001b[1;34m'NumberOfOpenCreditLinesAndLoans'\u001b[0m\u001b[1;33m,\u001b[0m\u001b[1;34m'NumberOfTimes90DaysLate'\u001b[0m\u001b[1;33m,\u001b[0m\u001b[1;34m'NumberRealEstateLoansOrLines'\u001b[0m\u001b[1;33m,\u001b[0m\u001b[1;34m'NumberOfTime60-89DaysPastDueNotWorse'\u001b[0m\u001b[1;33m,\u001b[0m\u001b[1;34m'NoOfLoans_bin'\u001b[0m\u001b[1;33m,\u001b[0m\u001b[1;34m'Dependents_bin'\u001b[0m\u001b[1;33m,\u001b[0m\u001b[1;34m'age_bin'\u001b[0m\u001b[1;33m]\u001b[0m\u001b[1;33m]\u001b[0m\u001b[1;33m,\u001b[0m\u001b[0mCredit_risk\u001b[0m\u001b[1;33m[\u001b[0m\u001b[1;34m'SeriousDlqin2yrs'\u001b[0m\u001b[1;33m]\u001b[0m\u001b[1;33m)\u001b[0m\u001b[1;33m\u001b[0m\u001b[1;33m\u001b[0m\u001b[0m\n\u001b[0m",
      "\u001b[1;32m~\\anaconda3\\lib\\site-packages\\sklearn\\linear_model\\_base.py\u001b[0m in \u001b[0;36mfit\u001b[1;34m(self, X, y, sample_weight)\u001b[0m\n\u001b[0;32m    516\u001b[0m         \u001b[0maccept_sparse\u001b[0m \u001b[1;33m=\u001b[0m \u001b[1;32mFalse\u001b[0m \u001b[1;32mif\u001b[0m \u001b[0mself\u001b[0m\u001b[1;33m.\u001b[0m\u001b[0mpositive\u001b[0m \u001b[1;32melse\u001b[0m \u001b[1;33m[\u001b[0m\u001b[1;34m'csr'\u001b[0m\u001b[1;33m,\u001b[0m \u001b[1;34m'csc'\u001b[0m\u001b[1;33m,\u001b[0m \u001b[1;34m'coo'\u001b[0m\u001b[1;33m]\u001b[0m\u001b[1;33m\u001b[0m\u001b[1;33m\u001b[0m\u001b[0m\n\u001b[0;32m    517\u001b[0m \u001b[1;33m\u001b[0m\u001b[0m\n\u001b[1;32m--> 518\u001b[1;33m         X, y = self._validate_data(X, y, accept_sparse=accept_sparse,\n\u001b[0m\u001b[0;32m    519\u001b[0m                                    y_numeric=True, multi_output=True)\n\u001b[0;32m    520\u001b[0m \u001b[1;33m\u001b[0m\u001b[0m\n",
      "\u001b[1;32m~\\anaconda3\\lib\\site-packages\\sklearn\\base.py\u001b[0m in \u001b[0;36m_validate_data\u001b[1;34m(self, X, y, reset, validate_separately, **check_params)\u001b[0m\n\u001b[0;32m    431\u001b[0m                 \u001b[0my\u001b[0m \u001b[1;33m=\u001b[0m \u001b[0mcheck_array\u001b[0m\u001b[1;33m(\u001b[0m\u001b[0my\u001b[0m\u001b[1;33m,\u001b[0m \u001b[1;33m**\u001b[0m\u001b[0mcheck_y_params\u001b[0m\u001b[1;33m)\u001b[0m\u001b[1;33m\u001b[0m\u001b[1;33m\u001b[0m\u001b[0m\n\u001b[0;32m    432\u001b[0m             \u001b[1;32melse\u001b[0m\u001b[1;33m:\u001b[0m\u001b[1;33m\u001b[0m\u001b[1;33m\u001b[0m\u001b[0m\n\u001b[1;32m--> 433\u001b[1;33m                 \u001b[0mX\u001b[0m\u001b[1;33m,\u001b[0m \u001b[0my\u001b[0m \u001b[1;33m=\u001b[0m \u001b[0mcheck_X_y\u001b[0m\u001b[1;33m(\u001b[0m\u001b[0mX\u001b[0m\u001b[1;33m,\u001b[0m \u001b[0my\u001b[0m\u001b[1;33m,\u001b[0m \u001b[1;33m**\u001b[0m\u001b[0mcheck_params\u001b[0m\u001b[1;33m)\u001b[0m\u001b[1;33m\u001b[0m\u001b[1;33m\u001b[0m\u001b[0m\n\u001b[0m\u001b[0;32m    434\u001b[0m             \u001b[0mout\u001b[0m \u001b[1;33m=\u001b[0m \u001b[0mX\u001b[0m\u001b[1;33m,\u001b[0m \u001b[0my\u001b[0m\u001b[1;33m\u001b[0m\u001b[1;33m\u001b[0m\u001b[0m\n\u001b[0;32m    435\u001b[0m \u001b[1;33m\u001b[0m\u001b[0m\n",
      "\u001b[1;32m~\\anaconda3\\lib\\site-packages\\sklearn\\utils\\validation.py\u001b[0m in \u001b[0;36minner_f\u001b[1;34m(*args, **kwargs)\u001b[0m\n\u001b[0;32m     61\u001b[0m             \u001b[0mextra_args\u001b[0m \u001b[1;33m=\u001b[0m \u001b[0mlen\u001b[0m\u001b[1;33m(\u001b[0m\u001b[0margs\u001b[0m\u001b[1;33m)\u001b[0m \u001b[1;33m-\u001b[0m \u001b[0mlen\u001b[0m\u001b[1;33m(\u001b[0m\u001b[0mall_args\u001b[0m\u001b[1;33m)\u001b[0m\u001b[1;33m\u001b[0m\u001b[1;33m\u001b[0m\u001b[0m\n\u001b[0;32m     62\u001b[0m             \u001b[1;32mif\u001b[0m \u001b[0mextra_args\u001b[0m \u001b[1;33m<=\u001b[0m \u001b[1;36m0\u001b[0m\u001b[1;33m:\u001b[0m\u001b[1;33m\u001b[0m\u001b[1;33m\u001b[0m\u001b[0m\n\u001b[1;32m---> 63\u001b[1;33m                 \u001b[1;32mreturn\u001b[0m \u001b[0mf\u001b[0m\u001b[1;33m(\u001b[0m\u001b[1;33m*\u001b[0m\u001b[0margs\u001b[0m\u001b[1;33m,\u001b[0m \u001b[1;33m**\u001b[0m\u001b[0mkwargs\u001b[0m\u001b[1;33m)\u001b[0m\u001b[1;33m\u001b[0m\u001b[1;33m\u001b[0m\u001b[0m\n\u001b[0m\u001b[0;32m     64\u001b[0m \u001b[1;33m\u001b[0m\u001b[0m\n\u001b[0;32m     65\u001b[0m             \u001b[1;31m# extra_args > 0\u001b[0m\u001b[1;33m\u001b[0m\u001b[1;33m\u001b[0m\u001b[0m\n",
      "\u001b[1;32m~\\anaconda3\\lib\\site-packages\\sklearn\\utils\\validation.py\u001b[0m in \u001b[0;36mcheck_X_y\u001b[1;34m(X, y, accept_sparse, accept_large_sparse, dtype, order, copy, force_all_finite, ensure_2d, allow_nd, multi_output, ensure_min_samples, ensure_min_features, y_numeric, estimator)\u001b[0m\n\u001b[0;32m    869\u001b[0m         \u001b[1;32mraise\u001b[0m \u001b[0mValueError\u001b[0m\u001b[1;33m(\u001b[0m\u001b[1;34m\"y cannot be None\"\u001b[0m\u001b[1;33m)\u001b[0m\u001b[1;33m\u001b[0m\u001b[1;33m\u001b[0m\u001b[0m\n\u001b[0;32m    870\u001b[0m \u001b[1;33m\u001b[0m\u001b[0m\n\u001b[1;32m--> 871\u001b[1;33m     X = check_array(X, accept_sparse=accept_sparse,\n\u001b[0m\u001b[0;32m    872\u001b[0m                     \u001b[0maccept_large_sparse\u001b[0m\u001b[1;33m=\u001b[0m\u001b[0maccept_large_sparse\u001b[0m\u001b[1;33m,\u001b[0m\u001b[1;33m\u001b[0m\u001b[1;33m\u001b[0m\u001b[0m\n\u001b[0;32m    873\u001b[0m                     \u001b[0mdtype\u001b[0m\u001b[1;33m=\u001b[0m\u001b[0mdtype\u001b[0m\u001b[1;33m,\u001b[0m \u001b[0morder\u001b[0m\u001b[1;33m=\u001b[0m\u001b[0morder\u001b[0m\u001b[1;33m,\u001b[0m \u001b[0mcopy\u001b[0m\u001b[1;33m=\u001b[0m\u001b[0mcopy\u001b[0m\u001b[1;33m,\u001b[0m\u001b[1;33m\u001b[0m\u001b[1;33m\u001b[0m\u001b[0m\n",
      "\u001b[1;32m~\\anaconda3\\lib\\site-packages\\sklearn\\utils\\validation.py\u001b[0m in \u001b[0;36minner_f\u001b[1;34m(*args, **kwargs)\u001b[0m\n\u001b[0;32m     61\u001b[0m             \u001b[0mextra_args\u001b[0m \u001b[1;33m=\u001b[0m \u001b[0mlen\u001b[0m\u001b[1;33m(\u001b[0m\u001b[0margs\u001b[0m\u001b[1;33m)\u001b[0m \u001b[1;33m-\u001b[0m \u001b[0mlen\u001b[0m\u001b[1;33m(\u001b[0m\u001b[0mall_args\u001b[0m\u001b[1;33m)\u001b[0m\u001b[1;33m\u001b[0m\u001b[1;33m\u001b[0m\u001b[0m\n\u001b[0;32m     62\u001b[0m             \u001b[1;32mif\u001b[0m \u001b[0mextra_args\u001b[0m \u001b[1;33m<=\u001b[0m \u001b[1;36m0\u001b[0m\u001b[1;33m:\u001b[0m\u001b[1;33m\u001b[0m\u001b[1;33m\u001b[0m\u001b[0m\n\u001b[1;32m---> 63\u001b[1;33m                 \u001b[1;32mreturn\u001b[0m \u001b[0mf\u001b[0m\u001b[1;33m(\u001b[0m\u001b[1;33m*\u001b[0m\u001b[0margs\u001b[0m\u001b[1;33m,\u001b[0m \u001b[1;33m**\u001b[0m\u001b[0mkwargs\u001b[0m\u001b[1;33m)\u001b[0m\u001b[1;33m\u001b[0m\u001b[1;33m\u001b[0m\u001b[0m\n\u001b[0m\u001b[0;32m     64\u001b[0m \u001b[1;33m\u001b[0m\u001b[0m\n\u001b[0;32m     65\u001b[0m             \u001b[1;31m# extra_args > 0\u001b[0m\u001b[1;33m\u001b[0m\u001b[1;33m\u001b[0m\u001b[0m\n",
      "\u001b[1;32m~\\anaconda3\\lib\\site-packages\\sklearn\\utils\\validation.py\u001b[0m in \u001b[0;36mcheck_array\u001b[1;34m(array, accept_sparse, accept_large_sparse, dtype, order, copy, force_all_finite, ensure_2d, allow_nd, ensure_min_samples, ensure_min_features, estimator)\u001b[0m\n\u001b[0;32m    710\u001b[0m                 \u001b[0marray\u001b[0m \u001b[1;33m=\u001b[0m \u001b[0marray\u001b[0m\u001b[1;33m.\u001b[0m\u001b[0mastype\u001b[0m\u001b[1;33m(\u001b[0m\u001b[0mnp\u001b[0m\u001b[1;33m.\u001b[0m\u001b[0mfloat64\u001b[0m\u001b[1;33m)\u001b[0m\u001b[1;33m\u001b[0m\u001b[1;33m\u001b[0m\u001b[0m\n\u001b[0;32m    711\u001b[0m             \u001b[1;32mexcept\u001b[0m \u001b[0mValueError\u001b[0m \u001b[1;32mas\u001b[0m \u001b[0me\u001b[0m\u001b[1;33m:\u001b[0m\u001b[1;33m\u001b[0m\u001b[1;33m\u001b[0m\u001b[0m\n\u001b[1;32m--> 712\u001b[1;33m                 raise ValueError(\n\u001b[0m\u001b[0;32m    713\u001b[0m                     \u001b[1;34m\"Unable to convert array of bytes/strings \"\u001b[0m\u001b[1;33m\u001b[0m\u001b[1;33m\u001b[0m\u001b[0m\n\u001b[0;32m    714\u001b[0m                     \"into decimal numbers with dtype='numeric'\") from e\n",
      "\u001b[1;31mValueError\u001b[0m: Unable to convert array of bytes/strings into decimal numbers with dtype='numeric'"
     ]
    }
   ],
   "source": [
    "lr.fit(Credit_risk[['RevolvingUtilizationOfUnsecuredLines','NumberOfTime30-59DaysPastDueNotWorse','DebtRatio','MonthlyIncome','NumberOfOpenCreditLinesAndLoans','NumberOfTimes90DaysLate','NumberRealEstateLoansOrLines','NumberOfTime60-89DaysPastDueNotWorse','NoOfLoans_bin','Dependents_bin','age_bin']],Credit_risk['SeriousDlqin2yrs'])"
   ]
  },
  {
   "cell_type": "code",
   "execution_count": null,
   "id": "5452b61d",
   "metadata": {},
   "outputs": [],
   "source": []
  },
  {
   "cell_type": "code",
   "execution_count": null,
   "id": "cfd12f84",
   "metadata": {},
   "outputs": [],
   "source": []
  },
  {
   "cell_type": "code",
   "execution_count": null,
   "id": "f0732629",
   "metadata": {},
   "outputs": [],
   "source": []
  },
  {
   "cell_type": "code",
   "execution_count": 80,
   "id": "2c53617d",
   "metadata": {},
   "outputs": [
    {
     "data": {
      "text/plain": [
       "29731"
      ]
     },
     "execution_count": 80,
     "metadata": {},
     "output_type": "execute_result"
    }
   ],
   "source": [
    "Credit_risk['MonthlyIncome'].isnull().sum()"
   ]
  },
  {
   "cell_type": "code",
   "execution_count": 81,
   "id": "0af4ff49",
   "metadata": {},
   "outputs": [],
   "source": [
    "Credit_risk['MonthlyIncome_clean']=Credit_risk['MonthlyIncome']"
   ]
  },
  {
   "cell_type": "code",
   "execution_count": 82,
   "id": "026dac27",
   "metadata": {},
   "outputs": [
    {
     "name": "stderr",
     "output_type": "stream",
     "text": [
      "C:\\Users\\SATISH~1\\AppData\\Local\\Temp/ipykernel_13600/649651923.py:1: SettingWithCopyWarning: \n",
      "A value is trying to be set on a copy of a slice from a DataFrame\n",
      "\n",
      "See the caveats in the documentation: https://pandas.pydata.org/pandas-docs/stable/user_guide/indexing.html#returning-a-view-versus-a-copy\n",
      "  Credit_risk['MonthlyIncome_clean'][Credit_risk['MonthlyIncome_clean'].isnull()]=Credit_risk['MonthlyIncome'].median()\n"
     ]
    }
   ],
   "source": [
    "Credit_risk['MonthlyIncome_clean'][Credit_risk['MonthlyIncome_clean'].isnull()]=Credit_risk['MonthlyIncome'].median()"
   ]
  },
  {
   "cell_type": "code",
   "execution_count": 224,
   "id": "1348c70d",
   "metadata": {},
   "outputs": [
    {
     "name": "stderr",
     "output_type": "stream",
     "text": [
      "C:\\Users\\SATISH~1\\AppData\\Local\\Temp/ipykernel_13600/1586325204.py:2: SettingWithCopyWarning: \n",
      "A value is trying to be set on a copy of a slice from a DataFrame\n",
      "\n",
      "See the caveats in the documentation: https://pandas.pydata.org/pandas-docs/stable/user_guide/indexing.html#returning-a-view-versus-a-copy\n",
      "  Credit_risk['monthlyincomeflag'][Credit_risk['MonthlyIncome'].isnull()]=0\n"
     ]
    }
   ],
   "source": [
    "Credit_risk['monthlyincomeflag']=1\n",
    "Credit_risk['monthlyincomeflag'][Credit_risk['MonthlyIncome'].isnull()]=0"
   ]
  },
  {
   "cell_type": "code",
   "execution_count": 83,
   "id": "004d68a5",
   "metadata": {},
   "outputs": [
    {
     "data": {
      "text/plain": [
       "0"
      ]
     },
     "execution_count": 83,
     "metadata": {},
     "output_type": "execute_result"
    }
   ],
   "source": [
    "Credit_risk['MonthlyIncome_clean'].isnull().sum()"
   ]
  },
  {
   "cell_type": "code",
   "execution_count": 84,
   "id": "72fdc80e",
   "metadata": {},
   "outputs": [],
   "source": [
    "Credit_risk['MonthlyIncome_flag']=1"
   ]
  },
  {
   "cell_type": "code",
   "execution_count": 85,
   "id": "62190a82",
   "metadata": {},
   "outputs": [
    {
     "name": "stderr",
     "output_type": "stream",
     "text": [
      "C:\\Users\\SATISH~1\\AppData\\Local\\Temp/ipykernel_13600/2679132121.py:1: SettingWithCopyWarning: \n",
      "A value is trying to be set on a copy of a slice from a DataFrame\n",
      "\n",
      "See the caveats in the documentation: https://pandas.pydata.org/pandas-docs/stable/user_guide/indexing.html#returning-a-view-versus-a-copy\n",
      "  Credit_risk['MonthlyIncome_flag'][Credit_risk['MonthlyIncome'].isnull()]=0\n"
     ]
    }
   ],
   "source": [
    "Credit_risk['MonthlyIncome_flag'][Credit_risk['MonthlyIncome'].isnull()]=0"
   ]
  },
  {
   "cell_type": "code",
   "execution_count": 86,
   "id": "a4720c7e",
   "metadata": {},
   "outputs": [
    {
     "data": {
      "text/plain": [
       "1    120269\n",
       "0     29731\n",
       "Name: MonthlyIncome_flag, dtype: int64"
      ]
     },
     "execution_count": 86,
     "metadata": {},
     "output_type": "execute_result"
    }
   ],
   "source": [
    "Credit_risk['MonthlyIncome_flag'].value_counts()"
   ]
  },
  {
   "cell_type": "code",
   "execution_count": 87,
   "id": "6133cac6",
   "metadata": {},
   "outputs": [
    {
     "data": {
      "text/plain": [
       "array(['Sr_No', 'SeriousDlqin2yrs',\n",
       "       'RevolvingUtilizationOfUnsecuredLines', 'age',\n",
       "       'NumberOfTime30-59DaysPastDueNotWorse', 'DebtRatio',\n",
       "       'MonthlyIncome', 'NumberOfOpenCreditLinesAndLoans',\n",
       "       'NumberOfTimes90DaysLate', 'NumberRealEstateLoansOrLines',\n",
       "       'NumberOfTime60-89DaysPastDueNotWorse', 'NumberOfDependents',\n",
       "       'Monthly_utilization', '30daysdpdclean', 'MonthlyIncome_clean',\n",
       "       'MonthlyIncome_flag'], dtype=object)"
      ]
     },
     "execution_count": 87,
     "metadata": {},
     "output_type": "execute_result"
    }
   ],
   "source": [
    "Credit_risk.columns.values"
   ]
  },
  {
   "cell_type": "code",
   "execution_count": 88,
   "id": "035f3619",
   "metadata": {},
   "outputs": [
    {
     "data": {
      "text/plain": [
       "0.10         0.030874\n",
       "0.20         0.133773\n",
       "0.30         0.213697\n",
       "0.40         0.287460\n",
       "0.50         0.366508\n",
       "0.60         0.467506\n",
       "0.70         0.649189\n",
       "0.75         0.868254\n",
       "0.76         0.951184\n",
       "0.77         1.058832\n",
       "0.80         4.000000\n",
       "0.90      1267.000000\n",
       "1.00    329664.000000\n",
       "Name: DebtRatio, dtype: float64"
      ]
     },
     "execution_count": 88,
     "metadata": {},
     "output_type": "execute_result"
    }
   ],
   "source": [
    "Credit_risk['DebtRatio'].quantile([0.1,0.2,0.3,0.4,0.5,0.6,0.7,0.75,0.76,0.77,0.8,0.9,1])"
   ]
  },
  {
   "cell_type": "code",
   "execution_count": 89,
   "id": "cf13e543",
   "metadata": {},
   "outputs": [],
   "source": [
    "Credit_risk['DebtRatio_clean']=Credit_risk['DebtRatio']"
   ]
  },
  {
   "cell_type": "code",
   "execution_count": 90,
   "id": "beb6d833",
   "metadata": {},
   "outputs": [
    {
     "name": "stderr",
     "output_type": "stream",
     "text": [
      "C:\\Users\\SATISH~1\\AppData\\Local\\Temp/ipykernel_13600/807313934.py:1: SettingWithCopyWarning: \n",
      "A value is trying to be set on a copy of a slice from a DataFrame\n",
      "\n",
      "See the caveats in the documentation: https://pandas.pydata.org/pandas-docs/stable/user_guide/indexing.html#returning-a-view-versus-a-copy\n",
      "  Credit_risk['DebtRatio_clean'][Credit_risk['DebtRatio_clean']>1]=Credit_risk['DebtRatio'].median()\n"
     ]
    }
   ],
   "source": [
    "Credit_risk['DebtRatio_clean'][Credit_risk['DebtRatio_clean']>1]=Credit_risk['DebtRatio'].median()"
   ]
  },
  {
   "cell_type": "code",
   "execution_count": 91,
   "id": "d8f02407",
   "metadata": {},
   "outputs": [
    {
     "data": {
      "text/plain": [
       "0.10    0.030874\n",
       "0.20    0.133773\n",
       "0.30    0.213697\n",
       "0.40    0.287460\n",
       "0.50    0.366506\n",
       "0.60    0.366508\n",
       "0.70    0.366508\n",
       "0.75    0.380021\n",
       "0.76    0.388693\n",
       "0.77    0.398524\n",
       "0.80    0.428984\n",
       "0.90    0.568251\n",
       "0.92    0.612568\n",
       "0.93    0.637872\n",
       "0.95    0.696102\n",
       "0.96    0.734062\n",
       "0.98    0.838234\n",
       "0.99    0.913862\n",
       "1.00    1.000000\n",
       "Name: DebtRatio_clean, dtype: float64"
      ]
     },
     "execution_count": 91,
     "metadata": {},
     "output_type": "execute_result"
    }
   ],
   "source": [
    "Credit_risk['DebtRatio_clean'].quantile([0.1,0.2,0.3,0.4,0.5,0.6,0.7,0.75,0.76,0.77,0.8,0.9,0.92,0.93,0.95,0.96,0.98,0.99,1])"
   ]
  },
  {
   "cell_type": "code",
   "execution_count": 65,
   "id": "ee3ad697",
   "metadata": {},
   "outputs": [
    {
     "name": "stderr",
     "output_type": "stream",
     "text": [
      "C:\\Users\\SATISH~1\\AppData\\Local\\Temp/ipykernel_26484/3331974015.py:2: SettingWithCopyWarning: \n",
      "A value is trying to be set on a copy of a slice from a DataFrame\n",
      "\n",
      "See the caveats in the documentation: https://pandas.pydata.org/pandas-docs/stable/user_guide/indexing.html#returning-a-view-versus-a-copy\n",
      "  CS_training['DebtRatio_flag'][CS_training['DebtRatio'].isnull()]=0\n"
     ]
    }
   ],
   "source": []
  },
  {
   "cell_type": "code",
   "execution_count": 66,
   "id": "17fcb1a7",
   "metadata": {},
   "outputs": [
    {
     "data": {
      "text/plain": [
       "1    150000\n",
       "Name: DebtRatio_flag, dtype: int64"
      ]
     },
     "execution_count": 66,
     "metadata": {},
     "output_type": "execute_result"
    }
   ],
   "source": []
  },
  {
   "cell_type": "code",
   "execution_count": null,
   "id": "4e7f67f9",
   "metadata": {},
   "outputs": [],
   "source": []
  },
  {
   "cell_type": "code",
   "execution_count": null,
   "id": "bcf6fcbb",
   "metadata": {},
   "outputs": [],
   "source": []
  },
  {
   "cell_type": "code",
   "execution_count": null,
   "id": "0395789b",
   "metadata": {},
   "outputs": [],
   "source": []
  },
  {
   "cell_type": "code",
   "execution_count": null,
   "id": "b5b999c3",
   "metadata": {},
   "outputs": [],
   "source": []
  },
  {
   "cell_type": "code",
   "execution_count": null,
   "id": "0a834ceb",
   "metadata": {},
   "outputs": [],
   "source": []
  },
  {
   "cell_type": "code",
   "execution_count": null,
   "id": "101c919b",
   "metadata": {},
   "outputs": [],
   "source": []
  },
  {
   "cell_type": "code",
   "execution_count": null,
   "id": "a915510e",
   "metadata": {},
   "outputs": [],
   "source": []
  },
  {
   "cell_type": "code",
   "execution_count": null,
   "id": "b655d41e",
   "metadata": {},
   "outputs": [],
   "source": []
  },
  {
   "cell_type": "code",
   "execution_count": null,
   "id": "6d321f95",
   "metadata": {},
   "outputs": [],
   "source": []
  },
  {
   "cell_type": "code",
   "execution_count": null,
   "id": "f7bb1047",
   "metadata": {},
   "outputs": [],
   "source": []
  },
  {
   "cell_type": "code",
   "execution_count": null,
   "id": "c85b5f9d",
   "metadata": {},
   "outputs": [],
   "source": []
  },
  {
   "cell_type": "code",
   "execution_count": null,
   "id": "0ff965e6",
   "metadata": {},
   "outputs": [],
   "source": []
  },
  {
   "cell_type": "code",
   "execution_count": null,
   "id": "4381092e",
   "metadata": {},
   "outputs": [],
   "source": []
  },
  {
   "cell_type": "code",
   "execution_count": null,
   "id": "156a6d8d",
   "metadata": {},
   "outputs": [],
   "source": []
  },
  {
   "cell_type": "code",
   "execution_count": null,
   "id": "60f9f586",
   "metadata": {},
   "outputs": [],
   "source": []
  },
  {
   "cell_type": "markdown",
   "id": "726b61cc",
   "metadata": {},
   "source": [
    "# Data cleaning scanario 1"
   ]
  },
  {
   "cell_type": "code",
   "execution_count": 4,
   "id": "e43c9b6d",
   "metadata": {},
   "outputs": [
    {
     "data": {
      "text/plain": [
       "0.154180737"
      ]
     },
     "execution_count": 4,
     "metadata": {},
     "output_type": "execute_result"
    }
   ],
   "source": [
    "median_util=CS_training['RevolvingUtilizationOfUnsecuredLines'].median()\n",
    "median_util"
   ]
  },
  {
   "cell_type": "code",
   "execution_count": 5,
   "id": "bcb0cede",
   "metadata": {},
   "outputs": [],
   "source": [
    "CS_training['monthlyutilisationnew']=CS_training['RevolvingUtilizationOfUnsecuredLines']"
   ]
  },
  {
   "cell_type": "code",
   "execution_count": 7,
   "id": "2f72f79b",
   "metadata": {},
   "outputs": [
    {
     "name": "stderr",
     "output_type": "stream",
     "text": [
      "C:\\Users\\SATISH~1\\AppData\\Local\\Temp/ipykernel_5336/3626141544.py:1: SettingWithCopyWarning: \n",
      "A value is trying to be set on a copy of a slice from a DataFrame\n",
      "\n",
      "See the caveats in the documentation: https://pandas.pydata.org/pandas-docs/stable/user_guide/indexing.html#returning-a-view-versus-a-copy\n",
      "  CS_training['monthlyutilisationnew'][CS_training['monthlyutilisationnew']>1]=median_util\n"
     ]
    }
   ],
   "source": [
    "CS_training['monthlyutilisationnew'][CS_training['monthlyutilisationnew']>1]=median_util"
   ]
  },
  {
   "cell_type": "code",
   "execution_count": 8,
   "id": "03c2c16b",
   "metadata": {},
   "outputs": [
    {
     "data": {
      "text/plain": [
       "0.000000    10878\n",
       "1.000000    10256\n",
       "0.154181     3321\n",
       "1.000000       17\n",
       "0.950100        8\n",
       "            ...  \n",
       "0.097800        1\n",
       "0.703353        1\n",
       "0.165519        1\n",
       "0.019528        1\n",
       "0.850283        1\n",
       "Name: monthlyutilisationnew, Length: 122596, dtype: int64"
      ]
     },
     "execution_count": 8,
     "metadata": {},
     "output_type": "execute_result"
    }
   ],
   "source": [
    "CS_training['monthlyutilisationnew'].value_counts()"
   ]
  },
  {
   "cell_type": "code",
   "execution_count": 11,
   "id": "17f474ef",
   "metadata": {},
   "outputs": [
    {
     "data": {
      "text/plain": [
       "Series([], Name: monthlyutilisationnew, dtype: float64)"
      ]
     },
     "execution_count": 11,
     "metadata": {},
     "output_type": "execute_result"
    }
   ],
   "source": [
    "CS_training['monthlyutilisationnew'][CS_training['monthlyutilisationnew']>1]\n"
   ]
  },
  {
   "cell_type": "code",
   "execution_count": 14,
   "id": "05570524",
   "metadata": {},
   "outputs": [
    {
     "data": {
      "text/plain": [
       "0.00    0.000000\n",
       "0.10    0.002969\n",
       "0.20    0.019222\n",
       "0.30    0.043461\n",
       "0.40    0.083181\n",
       "0.50    0.154178\n",
       "0.60    0.241406\n",
       "0.70    0.401448\n",
       "0.80    0.634723\n",
       "0.90    0.930559\n",
       "0.95    1.000000\n",
       "0.96    1.000000\n",
       "0.97    1.000000\n",
       "0.98    1.000000\n",
       "0.99    1.000000\n",
       "1.00    1.000000\n",
       "Name: monthlyutilisationnew, dtype: float64"
      ]
     },
     "execution_count": 14,
     "metadata": {},
     "output_type": "execute_result"
    }
   ],
   "source": [
    "CS_training['monthlyutilisationnew'].quantile([0,0.1,0.2,0.3,0.4,0.5,0.6,0.7,0.8,0.9,0.95,0.96,0.97,0.98,0.99,1])"
   ]
  },
  {
   "cell_type": "code",
   "execution_count": 16,
   "id": "b565827a",
   "metadata": {},
   "outputs": [
    {
     "data": {
      "text/plain": [
       "0     126018\n",
       "1      16033\n",
       "2       4598\n",
       "3       1754\n",
       "4        747\n",
       "5        342\n",
       "98       264\n",
       "6        140\n",
       "7         54\n",
       "8         25\n",
       "9         12\n",
       "96         5\n",
       "10         4\n",
       "12         2\n",
       "13         1\n",
       "11         1\n",
       "Name: NumberOfTime30-59DaysPastDueNotWorse, dtype: int64"
      ]
     },
     "execution_count": 16,
     "metadata": {},
     "output_type": "execute_result"
    }
   ],
   "source": [
    "CS_training['NumberOfTime30-59DaysPastDueNotWorse'].value_counts()\n"
   ]
  },
  {
   "cell_type": "markdown",
   "id": "f56adcfa",
   "metadata": {},
   "source": [
    "# Crosstab of two variables NumberOfTime30-59DaysPastDueNotWorse and SeriousDlqin2yrs"
   ]
  },
  {
   "cell_type": "code",
   "execution_count": 18,
   "id": "ffbe0c92",
   "metadata": {},
   "outputs": [
    {
     "data": {
      "text/html": [
       "<div>\n",
       "<style scoped>\n",
       "    .dataframe tbody tr th:only-of-type {\n",
       "        vertical-align: middle;\n",
       "    }\n",
       "\n",
       "    .dataframe tbody tr th {\n",
       "        vertical-align: top;\n",
       "    }\n",
       "\n",
       "    .dataframe thead th {\n",
       "        text-align: right;\n",
       "    }\n",
       "</style>\n",
       "<table border=\"1\" class=\"dataframe\">\n",
       "  <thead>\n",
       "    <tr style=\"text-align: right;\">\n",
       "      <th>SeriousDlqin2yrs</th>\n",
       "      <th>0</th>\n",
       "      <th>1</th>\n",
       "    </tr>\n",
       "    <tr>\n",
       "      <th>NumberOfTime30-59DaysPastDueNotWorse</th>\n",
       "      <th></th>\n",
       "      <th></th>\n",
       "    </tr>\n",
       "  </thead>\n",
       "  <tbody>\n",
       "    <tr>\n",
       "      <th>0</th>\n",
       "      <td>120977</td>\n",
       "      <td>5041</td>\n",
       "    </tr>\n",
       "    <tr>\n",
       "      <th>1</th>\n",
       "      <td>13624</td>\n",
       "      <td>2409</td>\n",
       "    </tr>\n",
       "    <tr>\n",
       "      <th>2</th>\n",
       "      <td>3379</td>\n",
       "      <td>1219</td>\n",
       "    </tr>\n",
       "    <tr>\n",
       "      <th>3</th>\n",
       "      <td>1136</td>\n",
       "      <td>618</td>\n",
       "    </tr>\n",
       "    <tr>\n",
       "      <th>4</th>\n",
       "      <td>429</td>\n",
       "      <td>318</td>\n",
       "    </tr>\n",
       "    <tr>\n",
       "      <th>5</th>\n",
       "      <td>188</td>\n",
       "      <td>154</td>\n",
       "    </tr>\n",
       "    <tr>\n",
       "      <th>6</th>\n",
       "      <td>66</td>\n",
       "      <td>74</td>\n",
       "    </tr>\n",
       "    <tr>\n",
       "      <th>7</th>\n",
       "      <td>26</td>\n",
       "      <td>28</td>\n",
       "    </tr>\n",
       "    <tr>\n",
       "      <th>8</th>\n",
       "      <td>17</td>\n",
       "      <td>8</td>\n",
       "    </tr>\n",
       "    <tr>\n",
       "      <th>9</th>\n",
       "      <td>8</td>\n",
       "      <td>4</td>\n",
       "    </tr>\n",
       "    <tr>\n",
       "      <th>10</th>\n",
       "      <td>1</td>\n",
       "      <td>3</td>\n",
       "    </tr>\n",
       "    <tr>\n",
       "      <th>11</th>\n",
       "      <td>0</td>\n",
       "      <td>1</td>\n",
       "    </tr>\n",
       "    <tr>\n",
       "      <th>12</th>\n",
       "      <td>1</td>\n",
       "      <td>1</td>\n",
       "    </tr>\n",
       "    <tr>\n",
       "      <th>13</th>\n",
       "      <td>0</td>\n",
       "      <td>1</td>\n",
       "    </tr>\n",
       "    <tr>\n",
       "      <th>96</th>\n",
       "      <td>1</td>\n",
       "      <td>4</td>\n",
       "    </tr>\n",
       "    <tr>\n",
       "      <th>98</th>\n",
       "      <td>121</td>\n",
       "      <td>143</td>\n",
       "    </tr>\n",
       "  </tbody>\n",
       "</table>\n",
       "</div>"
      ],
      "text/plain": [
       "SeriousDlqin2yrs                           0     1\n",
       "NumberOfTime30-59DaysPastDueNotWorse              \n",
       "0                                     120977  5041\n",
       "1                                      13624  2409\n",
       "2                                       3379  1219\n",
       "3                                       1136   618\n",
       "4                                        429   318\n",
       "5                                        188   154\n",
       "6                                         66    74\n",
       "7                                         26    28\n",
       "8                                         17     8\n",
       "9                                          8     4\n",
       "10                                         1     3\n",
       "11                                         0     1\n",
       "12                                         1     1\n",
       "13                                         0     1\n",
       "96                                         1     4\n",
       "98                                       121   143"
      ]
     },
     "execution_count": 18,
     "metadata": {},
     "output_type": "execute_result"
    }
   ],
   "source": [
    "import pandas as pd\n",
    "\n",
    "crosstab_30dpd_target=pd.crosstab(CS_training['NumberOfTime30-59DaysPastDueNotWorse'],CS_training['SeriousDlqin2yrs'])\n",
    "crosstab_30dpd_target"
   ]
  },
  {
   "cell_type": "code",
   "execution_count": 21,
   "id": "b8bc8555",
   "metadata": {},
   "outputs": [
    {
     "data": {
      "text/html": [
       "<div>\n",
       "<style scoped>\n",
       "    .dataframe tbody tr th:only-of-type {\n",
       "        vertical-align: middle;\n",
       "    }\n",
       "\n",
       "    .dataframe tbody tr th {\n",
       "        vertical-align: top;\n",
       "    }\n",
       "\n",
       "    .dataframe thead th {\n",
       "        text-align: right;\n",
       "    }\n",
       "</style>\n",
       "<table border=\"1\" class=\"dataframe\">\n",
       "  <thead>\n",
       "    <tr style=\"text-align: right;\">\n",
       "      <th>SeriousDlqin2yrs</th>\n",
       "      <th>0</th>\n",
       "      <th>1</th>\n",
       "    </tr>\n",
       "    <tr>\n",
       "      <th>NumberOfTime30-59DaysPastDueNotWorse</th>\n",
       "      <th></th>\n",
       "      <th></th>\n",
       "    </tr>\n",
       "  </thead>\n",
       "  <tbody>\n",
       "    <tr>\n",
       "      <th>0</th>\n",
       "      <td>0.96</td>\n",
       "      <td>0.04</td>\n",
       "    </tr>\n",
       "    <tr>\n",
       "      <th>1</th>\n",
       "      <td>0.85</td>\n",
       "      <td>0.15</td>\n",
       "    </tr>\n",
       "    <tr>\n",
       "      <th>2</th>\n",
       "      <td>0.73</td>\n",
       "      <td>0.27</td>\n",
       "    </tr>\n",
       "    <tr>\n",
       "      <th>3</th>\n",
       "      <td>0.65</td>\n",
       "      <td>0.35</td>\n",
       "    </tr>\n",
       "    <tr>\n",
       "      <th>4</th>\n",
       "      <td>0.57</td>\n",
       "      <td>0.43</td>\n",
       "    </tr>\n",
       "    <tr>\n",
       "      <th>5</th>\n",
       "      <td>0.55</td>\n",
       "      <td>0.45</td>\n",
       "    </tr>\n",
       "    <tr>\n",
       "      <th>6</th>\n",
       "      <td>0.47</td>\n",
       "      <td>0.53</td>\n",
       "    </tr>\n",
       "    <tr>\n",
       "      <th>7</th>\n",
       "      <td>0.48</td>\n",
       "      <td>0.52</td>\n",
       "    </tr>\n",
       "    <tr>\n",
       "      <th>8</th>\n",
       "      <td>0.68</td>\n",
       "      <td>0.32</td>\n",
       "    </tr>\n",
       "    <tr>\n",
       "      <th>9</th>\n",
       "      <td>0.67</td>\n",
       "      <td>0.33</td>\n",
       "    </tr>\n",
       "    <tr>\n",
       "      <th>10</th>\n",
       "      <td>0.25</td>\n",
       "      <td>0.75</td>\n",
       "    </tr>\n",
       "    <tr>\n",
       "      <th>11</th>\n",
       "      <td>0.00</td>\n",
       "      <td>1.00</td>\n",
       "    </tr>\n",
       "    <tr>\n",
       "      <th>12</th>\n",
       "      <td>0.50</td>\n",
       "      <td>0.50</td>\n",
       "    </tr>\n",
       "    <tr>\n",
       "      <th>13</th>\n",
       "      <td>0.00</td>\n",
       "      <td>1.00</td>\n",
       "    </tr>\n",
       "    <tr>\n",
       "      <th>96</th>\n",
       "      <td>0.20</td>\n",
       "      <td>0.80</td>\n",
       "    </tr>\n",
       "    <tr>\n",
       "      <th>98</th>\n",
       "      <td>0.46</td>\n",
       "      <td>0.54</td>\n",
       "    </tr>\n",
       "  </tbody>\n",
       "</table>\n",
       "</div>"
      ],
      "text/plain": [
       "SeriousDlqin2yrs                         0     1\n",
       "NumberOfTime30-59DaysPastDueNotWorse            \n",
       "0                                     0.96  0.04\n",
       "1                                     0.85  0.15\n",
       "2                                     0.73  0.27\n",
       "3                                     0.65  0.35\n",
       "4                                     0.57  0.43\n",
       "5                                     0.55  0.45\n",
       "6                                     0.47  0.53\n",
       "7                                     0.48  0.52\n",
       "8                                     0.68  0.32\n",
       "9                                     0.67  0.33\n",
       "10                                    0.25  0.75\n",
       "11                                    0.00  1.00\n",
       "12                                    0.50  0.50\n",
       "13                                    0.00  1.00\n",
       "96                                    0.20  0.80\n",
       "98                                    0.46  0.54"
      ]
     },
     "execution_count": 21,
     "metadata": {},
     "output_type": "execute_result"
    }
   ],
   "source": [
    "crosstab_30dpd_target_percent=crosstab_30dpd_target.apply(lambda x:x/x.sum(),axis=1)\n",
    "crosstab_30dpd_target_percent\n",
    "round(crosstab_30dpd_target_percent,2)"
   ]
  },
  {
   "cell_type": "code",
   "execution_count": 22,
   "id": "5083e06b",
   "metadata": {},
   "outputs": [],
   "source": [
    "CS_training['NumberOfTime30-59DPD']=CS_training['NumberOfTime30-59DaysPastDueNotWorse']"
   ]
  },
  {
   "cell_type": "code",
   "execution_count": 23,
   "id": "3a110900",
   "metadata": {},
   "outputs": [
    {
     "name": "stderr",
     "output_type": "stream",
     "text": [
      "C:\\Users\\SATISH~1\\AppData\\Local\\Temp/ipykernel_5336/1257588280.py:1: SettingWithCopyWarning: \n",
      "A value is trying to be set on a copy of a slice from a DataFrame\n",
      "\n",
      "See the caveats in the documentation: https://pandas.pydata.org/pandas-docs/stable/user_guide/indexing.html#returning-a-view-versus-a-copy\n",
      "  CS_training['NumberOfTime30-59DPD'][CS_training['NumberOfTime30-59DPD']>13]=6\n"
     ]
    }
   ],
   "source": [
    "CS_training['NumberOfTime30-59DPD'][CS_training['NumberOfTime30-59DPD']>13]=6"
   ]
  },
  {
   "cell_type": "code",
   "execution_count": 27,
   "id": "1abca76b",
   "metadata": {},
   "outputs": [
    {
     "data": {
      "text/plain": [
       "0     126018\n",
       "1      16033\n",
       "2       4598\n",
       "3       1754\n",
       "4        747\n",
       "6        409\n",
       "5        342\n",
       "7         54\n",
       "8         25\n",
       "9         12\n",
       "10         4\n",
       "12         2\n",
       "13         1\n",
       "11         1\n",
       "Name: NumberOfTime30-59DPD, dtype: int64"
      ]
     },
     "execution_count": 27,
     "metadata": {},
     "output_type": "execute_result"
    }
   ],
   "source": [
    "CS_training['NumberOfTime30-59DPD'].value_counts()"
   ]
  },
  {
   "cell_type": "markdown",
   "id": "cf3658ea",
   "metadata": {},
   "source": [
    "# Data cleaning scenario 3"
   ]
  },
  {
   "cell_type": "code",
   "execution_count": 28,
   "id": "8dd0effb",
   "metadata": {},
   "outputs": [
    {
     "data": {
      "text/html": [
       "<div>\n",
       "<style scoped>\n",
       "    .dataframe tbody tr th:only-of-type {\n",
       "        vertical-align: middle;\n",
       "    }\n",
       "\n",
       "    .dataframe tbody tr th {\n",
       "        vertical-align: top;\n",
       "    }\n",
       "\n",
       "    .dataframe thead th {\n",
       "        text-align: right;\n",
       "    }\n",
       "</style>\n",
       "<table border=\"1\" class=\"dataframe\">\n",
       "  <thead>\n",
       "    <tr style=\"text-align: right;\">\n",
       "      <th></th>\n",
       "      <th>Sr_No</th>\n",
       "      <th>SeriousDlqin2yrs</th>\n",
       "      <th>RevolvingUtilizationOfUnsecuredLines</th>\n",
       "      <th>age</th>\n",
       "      <th>NumberOfTime30-59DaysPastDueNotWorse</th>\n",
       "      <th>DebtRatio</th>\n",
       "      <th>MonthlyIncome</th>\n",
       "      <th>NumberOfOpenCreditLinesAndLoans</th>\n",
       "      <th>NumberOfTimes90DaysLate</th>\n",
       "      <th>NumberRealEstateLoansOrLines</th>\n",
       "      <th>NumberOfTime60-89DaysPastDueNotWorse</th>\n",
       "      <th>NumberOfDependents</th>\n",
       "      <th>monthlyutilisationnew</th>\n",
       "      <th>NumberOfTime30-59DPD</th>\n",
       "    </tr>\n",
       "  </thead>\n",
       "  <tbody>\n",
       "    <tr>\n",
       "      <th>0</th>\n",
       "      <td>1</td>\n",
       "      <td>1</td>\n",
       "      <td>0.766127</td>\n",
       "      <td>45</td>\n",
       "      <td>2</td>\n",
       "      <td>0.802982</td>\n",
       "      <td>9120.0</td>\n",
       "      <td>13</td>\n",
       "      <td>0</td>\n",
       "      <td>6</td>\n",
       "      <td>0</td>\n",
       "      <td>2.0</td>\n",
       "      <td>0.766127</td>\n",
       "      <td>2</td>\n",
       "    </tr>\n",
       "    <tr>\n",
       "      <th>1</th>\n",
       "      <td>2</td>\n",
       "      <td>0</td>\n",
       "      <td>0.957151</td>\n",
       "      <td>40</td>\n",
       "      <td>0</td>\n",
       "      <td>0.121876</td>\n",
       "      <td>2600.0</td>\n",
       "      <td>4</td>\n",
       "      <td>0</td>\n",
       "      <td>0</td>\n",
       "      <td>0</td>\n",
       "      <td>1.0</td>\n",
       "      <td>0.957151</td>\n",
       "      <td>0</td>\n",
       "    </tr>\n",
       "    <tr>\n",
       "      <th>2</th>\n",
       "      <td>3</td>\n",
       "      <td>0</td>\n",
       "      <td>0.658180</td>\n",
       "      <td>38</td>\n",
       "      <td>1</td>\n",
       "      <td>0.085113</td>\n",
       "      <td>3042.0</td>\n",
       "      <td>2</td>\n",
       "      <td>1</td>\n",
       "      <td>0</td>\n",
       "      <td>0</td>\n",
       "      <td>0.0</td>\n",
       "      <td>0.658180</td>\n",
       "      <td>1</td>\n",
       "    </tr>\n",
       "    <tr>\n",
       "      <th>3</th>\n",
       "      <td>4</td>\n",
       "      <td>0</td>\n",
       "      <td>0.233810</td>\n",
       "      <td>30</td>\n",
       "      <td>0</td>\n",
       "      <td>0.036050</td>\n",
       "      <td>3300.0</td>\n",
       "      <td>5</td>\n",
       "      <td>0</td>\n",
       "      <td>0</td>\n",
       "      <td>0</td>\n",
       "      <td>0.0</td>\n",
       "      <td>0.233810</td>\n",
       "      <td>0</td>\n",
       "    </tr>\n",
       "    <tr>\n",
       "      <th>4</th>\n",
       "      <td>5</td>\n",
       "      <td>0</td>\n",
       "      <td>0.907239</td>\n",
       "      <td>49</td>\n",
       "      <td>1</td>\n",
       "      <td>0.024926</td>\n",
       "      <td>63588.0</td>\n",
       "      <td>7</td>\n",
       "      <td>0</td>\n",
       "      <td>1</td>\n",
       "      <td>0</td>\n",
       "      <td>0.0</td>\n",
       "      <td>0.907239</td>\n",
       "      <td>1</td>\n",
       "    </tr>\n",
       "    <tr>\n",
       "      <th>...</th>\n",
       "      <td>...</td>\n",
       "      <td>...</td>\n",
       "      <td>...</td>\n",
       "      <td>...</td>\n",
       "      <td>...</td>\n",
       "      <td>...</td>\n",
       "      <td>...</td>\n",
       "      <td>...</td>\n",
       "      <td>...</td>\n",
       "      <td>...</td>\n",
       "      <td>...</td>\n",
       "      <td>...</td>\n",
       "      <td>...</td>\n",
       "      <td>...</td>\n",
       "    </tr>\n",
       "    <tr>\n",
       "      <th>149995</th>\n",
       "      <td>149996</td>\n",
       "      <td>0</td>\n",
       "      <td>0.040674</td>\n",
       "      <td>74</td>\n",
       "      <td>0</td>\n",
       "      <td>0.225131</td>\n",
       "      <td>2100.0</td>\n",
       "      <td>4</td>\n",
       "      <td>0</td>\n",
       "      <td>1</td>\n",
       "      <td>0</td>\n",
       "      <td>0.0</td>\n",
       "      <td>0.040674</td>\n",
       "      <td>0</td>\n",
       "    </tr>\n",
       "    <tr>\n",
       "      <th>149996</th>\n",
       "      <td>149997</td>\n",
       "      <td>0</td>\n",
       "      <td>0.299745</td>\n",
       "      <td>44</td>\n",
       "      <td>0</td>\n",
       "      <td>0.716562</td>\n",
       "      <td>5584.0</td>\n",
       "      <td>4</td>\n",
       "      <td>0</td>\n",
       "      <td>1</td>\n",
       "      <td>0</td>\n",
       "      <td>2.0</td>\n",
       "      <td>0.299745</td>\n",
       "      <td>0</td>\n",
       "    </tr>\n",
       "    <tr>\n",
       "      <th>149997</th>\n",
       "      <td>149998</td>\n",
       "      <td>0</td>\n",
       "      <td>0.246044</td>\n",
       "      <td>58</td>\n",
       "      <td>0</td>\n",
       "      <td>3870.000000</td>\n",
       "      <td>NaN</td>\n",
       "      <td>18</td>\n",
       "      <td>0</td>\n",
       "      <td>1</td>\n",
       "      <td>0</td>\n",
       "      <td>0.0</td>\n",
       "      <td>0.246044</td>\n",
       "      <td>0</td>\n",
       "    </tr>\n",
       "    <tr>\n",
       "      <th>149998</th>\n",
       "      <td>149999</td>\n",
       "      <td>0</td>\n",
       "      <td>0.000000</td>\n",
       "      <td>30</td>\n",
       "      <td>0</td>\n",
       "      <td>0.000000</td>\n",
       "      <td>5716.0</td>\n",
       "      <td>4</td>\n",
       "      <td>0</td>\n",
       "      <td>0</td>\n",
       "      <td>0</td>\n",
       "      <td>0.0</td>\n",
       "      <td>0.000000</td>\n",
       "      <td>0</td>\n",
       "    </tr>\n",
       "    <tr>\n",
       "      <th>149999</th>\n",
       "      <td>150000</td>\n",
       "      <td>0</td>\n",
       "      <td>0.850283</td>\n",
       "      <td>64</td>\n",
       "      <td>0</td>\n",
       "      <td>0.249908</td>\n",
       "      <td>8158.0</td>\n",
       "      <td>8</td>\n",
       "      <td>0</td>\n",
       "      <td>2</td>\n",
       "      <td>0</td>\n",
       "      <td>0.0</td>\n",
       "      <td>0.850283</td>\n",
       "      <td>0</td>\n",
       "    </tr>\n",
       "  </tbody>\n",
       "</table>\n",
       "<p>150000 rows × 14 columns</p>\n",
       "</div>"
      ],
      "text/plain": [
       "         Sr_No  SeriousDlqin2yrs  RevolvingUtilizationOfUnsecuredLines  age  \\\n",
       "0            1                 1                              0.766127   45   \n",
       "1            2                 0                              0.957151   40   \n",
       "2            3                 0                              0.658180   38   \n",
       "3            4                 0                              0.233810   30   \n",
       "4            5                 0                              0.907239   49   \n",
       "...        ...               ...                                   ...  ...   \n",
       "149995  149996                 0                              0.040674   74   \n",
       "149996  149997                 0                              0.299745   44   \n",
       "149997  149998                 0                              0.246044   58   \n",
       "149998  149999                 0                              0.000000   30   \n",
       "149999  150000                 0                              0.850283   64   \n",
       "\n",
       "        NumberOfTime30-59DaysPastDueNotWorse    DebtRatio  MonthlyIncome  \\\n",
       "0                                          2     0.802982         9120.0   \n",
       "1                                          0     0.121876         2600.0   \n",
       "2                                          1     0.085113         3042.0   \n",
       "3                                          0     0.036050         3300.0   \n",
       "4                                          1     0.024926        63588.0   \n",
       "...                                      ...          ...            ...   \n",
       "149995                                     0     0.225131         2100.0   \n",
       "149996                                     0     0.716562         5584.0   \n",
       "149997                                     0  3870.000000            NaN   \n",
       "149998                                     0     0.000000         5716.0   \n",
       "149999                                     0     0.249908         8158.0   \n",
       "\n",
       "        NumberOfOpenCreditLinesAndLoans  NumberOfTimes90DaysLate  \\\n",
       "0                                    13                        0   \n",
       "1                                     4                        0   \n",
       "2                                     2                        1   \n",
       "3                                     5                        0   \n",
       "4                                     7                        0   \n",
       "...                                 ...                      ...   \n",
       "149995                                4                        0   \n",
       "149996                                4                        0   \n",
       "149997                               18                        0   \n",
       "149998                                4                        0   \n",
       "149999                                8                        0   \n",
       "\n",
       "        NumberRealEstateLoansOrLines  NumberOfTime60-89DaysPastDueNotWorse  \\\n",
       "0                                  6                                     0   \n",
       "1                                  0                                     0   \n",
       "2                                  0                                     0   \n",
       "3                                  0                                     0   \n",
       "4                                  1                                     0   \n",
       "...                              ...                                   ...   \n",
       "149995                             1                                     0   \n",
       "149996                             1                                     0   \n",
       "149997                             1                                     0   \n",
       "149998                             0                                     0   \n",
       "149999                             2                                     0   \n",
       "\n",
       "        NumberOfDependents  monthlyutilisationnew  NumberOfTime30-59DPD  \n",
       "0                      2.0               0.766127                     2  \n",
       "1                      1.0               0.957151                     0  \n",
       "2                      0.0               0.658180                     1  \n",
       "3                      0.0               0.233810                     0  \n",
       "4                      0.0               0.907239                     1  \n",
       "...                    ...                    ...                   ...  \n",
       "149995                 0.0               0.040674                     0  \n",
       "149996                 2.0               0.299745                     0  \n",
       "149997                 0.0               0.246044                     0  \n",
       "149998                 0.0               0.000000                     0  \n",
       "149999                 0.0               0.850283                     0  \n",
       "\n",
       "[150000 rows x 14 columns]"
      ]
     },
     "execution_count": 28,
     "metadata": {},
     "output_type": "execute_result"
    }
   ],
   "source": [
    "CS_training"
   ]
  },
  {
   "cell_type": "markdown",
   "id": "315e46a3",
   "metadata": {},
   "source": [
    "# If more than 20% of data is missing having issue we must use the two steps\n",
    "1) indiactor for the varibales and do the analysis\n",
    "2) Clean the data with median"
   ]
  },
  {
   "cell_type": "code",
   "execution_count": 31,
   "id": "b5e2cd4a",
   "metadata": {},
   "outputs": [
    {
     "data": {
      "text/plain": [
       "29731"
      ]
     },
     "execution_count": 31,
     "metadata": {},
     "output_type": "execute_result"
    }
   ],
   "source": [
    "CS_training['MonthlyIncome'].isnull().sum()"
   ]
  },
  {
   "cell_type": "code",
   "execution_count": 32,
   "id": "c8bb2fd0",
   "metadata": {},
   "outputs": [
    {
     "data": {
      "text/plain": [
       "0.19820666666666667"
      ]
     },
     "execution_count": 32,
     "metadata": {},
     "output_type": "execute_result"
    }
   ],
   "source": [
    "CS_training['MonthlyIncome'].isnull().sum()/len(CS_training)"
   ]
  },
  {
   "cell_type": "code",
   "execution_count": 36,
   "id": "cd7e6b97",
   "metadata": {},
   "outputs": [
    {
     "name": "stderr",
     "output_type": "stream",
     "text": [
      "C:\\Users\\SATISH~1\\AppData\\Local\\Temp/ipykernel_5336/2522147058.py:2: SettingWithCopyWarning: \n",
      "A value is trying to be set on a copy of a slice from a DataFrame\n",
      "\n",
      "See the caveats in the documentation: https://pandas.pydata.org/pandas-docs/stable/user_guide/indexing.html#returning-a-view-versus-a-copy\n",
      "  CS_training['MonthlyIncomeclean'][CS_training['MonthlyIncomeclean'].isnull()]=CS_training['MonthlyIncome'].median\n"
     ]
    }
   ],
   "source": [
    "CS_training['MonthlyIncomeclean']=CS_training['MonthlyIncome']\n",
    "CS_training['MonthlyIncomeclean'][CS_training['MonthlyIncomeclean'].isnull()]=CS_training['MonthlyIncome'].median"
   ]
  },
  {
   "cell_type": "code",
   "execution_count": 43,
   "id": "f82f9956",
   "metadata": {},
   "outputs": [
    {
     "data": {
      "text/plain": [
       "0"
      ]
     },
     "execution_count": 43,
     "metadata": {},
     "output_type": "execute_result"
    }
   ],
   "source": [
    "CS_training['MonthlyIncomeclean'].isnull().sum()"
   ]
  },
  {
   "cell_type": "code",
   "execution_count": 44,
   "id": "af7e371e",
   "metadata": {},
   "outputs": [],
   "source": [
    "CS_training['MonthlyIncomeflag']=1"
   ]
  },
  {
   "cell_type": "code",
   "execution_count": 46,
   "id": "8ef0da44",
   "metadata": {},
   "outputs": [
    {
     "name": "stderr",
     "output_type": "stream",
     "text": [
      "C:\\Users\\SATISH~1\\AppData\\Local\\Temp/ipykernel_5336/2912499792.py:1: SettingWithCopyWarning: \n",
      "A value is trying to be set on a copy of a slice from a DataFrame\n",
      "\n",
      "See the caveats in the documentation: https://pandas.pydata.org/pandas-docs/stable/user_guide/indexing.html#returning-a-view-versus-a-copy\n",
      "  CS_training['MonthlyIncomeflag'][CS_training['MonthlyIncome'].isnull()]=0\n"
     ]
    }
   ],
   "source": [
    "CS_training['MonthlyIncomeflag'][CS_training['MonthlyIncome'].isnull()]=0\n"
   ]
  },
  {
   "cell_type": "code",
   "execution_count": 48,
   "id": "bba09d97",
   "metadata": {},
   "outputs": [
    {
     "data": {
      "text/plain": [
       "1    120269\n",
       "0     29731\n",
       "Name: MonthlyIncomeflag, dtype: int64"
      ]
     },
     "execution_count": 48,
     "metadata": {},
     "output_type": "execute_result"
    }
   ],
   "source": [
    "CS_training['MonthlyIncomeflag'].value_counts()"
   ]
  },
  {
   "cell_type": "code",
   "execution_count": 3,
   "id": "e794652b",
   "metadata": {},
   "outputs": [
    {
     "data": {
      "text/plain": [
       "Sr_No                                     int64\n",
       "SeriousDlqin2yrs                          int64\n",
       "RevolvingUtilizationOfUnsecuredLines    float64\n",
       "age                                       int64\n",
       "NumberOfTime30-59DaysPastDueNotWorse      int64\n",
       "DebtRatio                               float64\n",
       "MonthlyIncome                           float64\n",
       "NumberOfOpenCreditLinesAndLoans           int64\n",
       "NumberOfTimes90DaysLate                   int64\n",
       "NumberRealEstateLoansOrLines              int64\n",
       "NumberOfTime60-89DaysPastDueNotWorse      int64\n",
       "NumberOfDependents                      float64\n",
       "dtype: object"
      ]
     },
     "execution_count": 3,
     "metadata": {},
     "output_type": "execute_result"
    }
   ],
   "source": [
    "CS_training.dtypes"
   ]
  },
  {
   "cell_type": "markdown",
   "id": "75d0a81e",
   "metadata": {},
   "source": [
    "# DebtRatio"
   ]
  },
  {
   "cell_type": "code",
   "execution_count": 4,
   "id": "89eb3e2b",
   "metadata": {},
   "outputs": [
    {
     "data": {
      "text/plain": [
       "0.000000    4113\n",
       "1.000000     229\n",
       "4.000000     174\n",
       "2.000000     170\n",
       "3.000000     162\n",
       "            ... \n",
       "0.368763       1\n",
       "0.108009       1\n",
       "0.441337       1\n",
       "1.006015       1\n",
       "0.249908       1\n",
       "Name: DebtRatio, Length: 114194, dtype: int64"
      ]
     },
     "execution_count": 4,
     "metadata": {},
     "output_type": "execute_result"
    }
   ],
   "source": [
    "CS_training['DebtRatio'].value_counts()"
   ]
  },
  {
   "cell_type": "code",
   "execution_count": 5,
   "id": "72d3c65a",
   "metadata": {},
   "outputs": [
    {
     "data": {
      "text/plain": [
       "0.00         0.000000\n",
       "0.20         0.133773\n",
       "0.40         0.287460\n",
       "0.60         0.467506\n",
       "0.76         0.951184\n",
       "0.78         1.275069\n",
       "0.79         1.759204\n",
       "0.80         4.000000\n",
       "0.90      1267.000000\n",
       "0.92      1685.000000\n",
       "0.95      2449.000000\n",
       "0.96      2791.000000\n",
       "0.97      3225.000000\n",
       "0.98      3839.000000\n",
       "1.00    329664.000000\n",
       "Name: DebtRatio, dtype: float64"
      ]
     },
     "execution_count": 5,
     "metadata": {},
     "output_type": "execute_result"
    }
   ],
   "source": [
    "CS_training['DebtRatio'].quantile([0,0.2,0.4,0.6,0.76,0.78,0.79,0.8,0.9,0.92,0.95,0.96,0.97,0.98,1])"
   ]
  },
  {
   "cell_type": "code",
   "execution_count": 6,
   "id": "bde0b97e",
   "metadata": {},
   "outputs": [
    {
     "data": {
      "text/plain": [
       "0.366507841"
      ]
     },
     "execution_count": 6,
     "metadata": {},
     "output_type": "execute_result"
    }
   ],
   "source": [
    "CS_training_median=CS_training['DebtRatio'].median()\n",
    "CS_training_median"
   ]
  },
  {
   "cell_type": "code",
   "execution_count": 7,
   "id": "453bc950",
   "metadata": {},
   "outputs": [],
   "source": [
    "CS_training['DebtRatio_new']=CS_training['DebtRatio']"
   ]
  },
  {
   "cell_type": "code",
   "execution_count": 8,
   "id": "0393aec5",
   "metadata": {},
   "outputs": [
    {
     "name": "stderr",
     "output_type": "stream",
     "text": [
      "C:\\Users\\SATISH~1\\AppData\\Local\\Temp/ipykernel_17068/625394898.py:1: SettingWithCopyWarning: \n",
      "A value is trying to be set on a copy of a slice from a DataFrame\n",
      "\n",
      "See the caveats in the documentation: https://pandas.pydata.org/pandas-docs/stable/user_guide/indexing.html#returning-a-view-versus-a-copy\n",
      "  CS_training['DebtRatio_new'][CS_training['DebtRatio_new']>1]=CS_training_median\n"
     ]
    }
   ],
   "source": [
    "CS_training['DebtRatio_new'][CS_training['DebtRatio_new']>1]=CS_training_median"
   ]
  },
  {
   "cell_type": "code",
   "execution_count": 10,
   "id": "9af339a0",
   "metadata": {},
   "outputs": [
    {
     "data": {
      "text/plain": [
       "0.366508    35137\n",
       "0.000000     4113\n",
       "1.000000      229\n",
       "0.333333       15\n",
       "0.001200       15\n",
       "            ...  \n",
       "0.829307        1\n",
       "0.103090        1\n",
       "0.227677        1\n",
       "0.457329        1\n",
       "0.249908        1\n",
       "Name: DebtRatio_new, Length: 103015, dtype: int64"
      ]
     },
     "execution_count": 10,
     "metadata": {},
     "output_type": "execute_result"
    }
   ],
   "source": [
    "CS_training['DebtRatio_new'].value_counts()"
   ]
  },
  {
   "cell_type": "code",
   "execution_count": 9,
   "id": "0ba12683",
   "metadata": {},
   "outputs": [
    {
     "data": {
      "text/plain": [
       "0.00    0.000000\n",
       "0.10    0.030874\n",
       "0.20    0.133773\n",
       "0.30    0.213697\n",
       "0.40    0.287460\n",
       "0.50    0.366506\n",
       "0.60    0.366508\n",
       "0.70    0.366508\n",
       "0.80    0.428984\n",
       "0.90    0.568251\n",
       "0.95    0.696102\n",
       "0.96    0.734062\n",
       "0.97    0.779912\n",
       "0.98    0.838234\n",
       "0.99    0.913862\n",
       "1.00    1.000000\n",
       "Name: DebtRatio_new, dtype: float64"
      ]
     },
     "execution_count": 9,
     "metadata": {},
     "output_type": "execute_result"
    }
   ],
   "source": [
    "CS_training['DebtRatio_new'].quantile([0,0.1,0.2,0.3,0.4,0.5,0.6,0.7,0.8,0.9,0.95,0.96,0.97,0.98,0.99,1])"
   ]
  },
  {
   "cell_type": "markdown",
   "id": "98c24519",
   "metadata": {},
   "source": [
    "# NumberOfTime60-89DaysPastDueNotWorse"
   ]
  },
  {
   "cell_type": "code",
   "execution_count": 23,
   "id": "9fef3b43",
   "metadata": {},
   "outputs": [
    {
     "data": {
      "text/plain": [
       "0     142396\n",
       "1       5731\n",
       "2       1118\n",
       "3        318\n",
       "98       264\n",
       "4        105\n",
       "5         34\n",
       "6         16\n",
       "7          9\n",
       "96         5\n",
       "8          2\n",
       "11         1\n",
       "9          1\n",
       "Name: NumberOfTime60-89DaysPastDueNotWorse, dtype: int64"
      ]
     },
     "execution_count": 23,
     "metadata": {},
     "output_type": "execute_result"
    }
   ],
   "source": [
    "CS_training['NumberOfTime60-89DaysPastDueNotWorse'].value_counts()"
   ]
  },
  {
   "cell_type": "code",
   "execution_count": 25,
   "id": "8760f839",
   "metadata": {},
   "outputs": [
    {
     "data": {
      "text/html": [
       "<div>\n",
       "<style scoped>\n",
       "    .dataframe tbody tr th:only-of-type {\n",
       "        vertical-align: middle;\n",
       "    }\n",
       "\n",
       "    .dataframe tbody tr th {\n",
       "        vertical-align: top;\n",
       "    }\n",
       "\n",
       "    .dataframe thead th {\n",
       "        text-align: right;\n",
       "    }\n",
       "</style>\n",
       "<table border=\"1\" class=\"dataframe\">\n",
       "  <thead>\n",
       "    <tr style=\"text-align: right;\">\n",
       "      <th>SeriousDlqin2yrs</th>\n",
       "      <th>0</th>\n",
       "      <th>1</th>\n",
       "    </tr>\n",
       "    <tr>\n",
       "      <th>NumberOfTime60-89DaysPastDueNotWorse</th>\n",
       "      <th></th>\n",
       "      <th></th>\n",
       "    </tr>\n",
       "  </thead>\n",
       "  <tbody>\n",
       "    <tr>\n",
       "      <th>0</th>\n",
       "      <td>135140</td>\n",
       "      <td>7256</td>\n",
       "    </tr>\n",
       "    <tr>\n",
       "      <th>1</th>\n",
       "      <td>3954</td>\n",
       "      <td>1777</td>\n",
       "    </tr>\n",
       "    <tr>\n",
       "      <th>2</th>\n",
       "      <td>557</td>\n",
       "      <td>561</td>\n",
       "    </tr>\n",
       "    <tr>\n",
       "      <th>3</th>\n",
       "      <td>138</td>\n",
       "      <td>180</td>\n",
       "    </tr>\n",
       "    <tr>\n",
       "      <th>4</th>\n",
       "      <td>40</td>\n",
       "      <td>65</td>\n",
       "    </tr>\n",
       "    <tr>\n",
       "      <th>5</th>\n",
       "      <td>13</td>\n",
       "      <td>21</td>\n",
       "    </tr>\n",
       "    <tr>\n",
       "      <th>6</th>\n",
       "      <td>4</td>\n",
       "      <td>12</td>\n",
       "    </tr>\n",
       "    <tr>\n",
       "      <th>7</th>\n",
       "      <td>4</td>\n",
       "      <td>5</td>\n",
       "    </tr>\n",
       "    <tr>\n",
       "      <th>8</th>\n",
       "      <td>1</td>\n",
       "      <td>1</td>\n",
       "    </tr>\n",
       "    <tr>\n",
       "      <th>9</th>\n",
       "      <td>1</td>\n",
       "      <td>0</td>\n",
       "    </tr>\n",
       "    <tr>\n",
       "      <th>11</th>\n",
       "      <td>0</td>\n",
       "      <td>1</td>\n",
       "    </tr>\n",
       "    <tr>\n",
       "      <th>96</th>\n",
       "      <td>1</td>\n",
       "      <td>4</td>\n",
       "    </tr>\n",
       "    <tr>\n",
       "      <th>98</th>\n",
       "      <td>121</td>\n",
       "      <td>143</td>\n",
       "    </tr>\n",
       "  </tbody>\n",
       "</table>\n",
       "</div>"
      ],
      "text/plain": [
       "SeriousDlqin2yrs                           0     1\n",
       "NumberOfTime60-89DaysPastDueNotWorse              \n",
       "0                                     135140  7256\n",
       "1                                       3954  1777\n",
       "2                                        557   561\n",
       "3                                        138   180\n",
       "4                                         40    65\n",
       "5                                         13    21\n",
       "6                                          4    12\n",
       "7                                          4     5\n",
       "8                                          1     1\n",
       "9                                          1     0\n",
       "11                                         0     1\n",
       "96                                         1     4\n",
       "98                                       121   143"
      ]
     },
     "execution_count": 25,
     "metadata": {},
     "output_type": "execute_result"
    }
   ],
   "source": [
    "import pandas as pd\n",
    "\n",
    "NumberOfTime60_89dpd=pd.crosstab(CS_training['NumberOfTime60-89DaysPastDueNotWorse'],CS_training['SeriousDlqin2yrs'])\n",
    "NumberOfTime60_89dpd"
   ]
  },
  {
   "cell_type": "code",
   "execution_count": 28,
   "id": "171a780f",
   "metadata": {},
   "outputs": [
    {
     "data": {
      "text/html": [
       "<div>\n",
       "<style scoped>\n",
       "    .dataframe tbody tr th:only-of-type {\n",
       "        vertical-align: middle;\n",
       "    }\n",
       "\n",
       "    .dataframe tbody tr th {\n",
       "        vertical-align: top;\n",
       "    }\n",
       "\n",
       "    .dataframe thead th {\n",
       "        text-align: right;\n",
       "    }\n",
       "</style>\n",
       "<table border=\"1\" class=\"dataframe\">\n",
       "  <thead>\n",
       "    <tr style=\"text-align: right;\">\n",
       "      <th>SeriousDlqin2yrs</th>\n",
       "      <th>0</th>\n",
       "      <th>1</th>\n",
       "    </tr>\n",
       "    <tr>\n",
       "      <th>NumberOfTime60-89DaysPastDueNotWorse</th>\n",
       "      <th></th>\n",
       "      <th></th>\n",
       "    </tr>\n",
       "  </thead>\n",
       "  <tbody>\n",
       "    <tr>\n",
       "      <th>0</th>\n",
       "      <td>0.95</td>\n",
       "      <td>0.05</td>\n",
       "    </tr>\n",
       "    <tr>\n",
       "      <th>1</th>\n",
       "      <td>0.69</td>\n",
       "      <td>0.31</td>\n",
       "    </tr>\n",
       "    <tr>\n",
       "      <th>2</th>\n",
       "      <td>0.50</td>\n",
       "      <td>0.50</td>\n",
       "    </tr>\n",
       "    <tr>\n",
       "      <th>3</th>\n",
       "      <td>0.43</td>\n",
       "      <td>0.57</td>\n",
       "    </tr>\n",
       "    <tr>\n",
       "      <th>4</th>\n",
       "      <td>0.38</td>\n",
       "      <td>0.62</td>\n",
       "    </tr>\n",
       "    <tr>\n",
       "      <th>5</th>\n",
       "      <td>0.38</td>\n",
       "      <td>0.62</td>\n",
       "    </tr>\n",
       "    <tr>\n",
       "      <th>6</th>\n",
       "      <td>0.25</td>\n",
       "      <td>0.75</td>\n",
       "    </tr>\n",
       "    <tr>\n",
       "      <th>7</th>\n",
       "      <td>0.44</td>\n",
       "      <td>0.56</td>\n",
       "    </tr>\n",
       "    <tr>\n",
       "      <th>8</th>\n",
       "      <td>0.50</td>\n",
       "      <td>0.50</td>\n",
       "    </tr>\n",
       "    <tr>\n",
       "      <th>9</th>\n",
       "      <td>1.00</td>\n",
       "      <td>0.00</td>\n",
       "    </tr>\n",
       "    <tr>\n",
       "      <th>11</th>\n",
       "      <td>0.00</td>\n",
       "      <td>1.00</td>\n",
       "    </tr>\n",
       "    <tr>\n",
       "      <th>96</th>\n",
       "      <td>0.20</td>\n",
       "      <td>0.80</td>\n",
       "    </tr>\n",
       "    <tr>\n",
       "      <th>98</th>\n",
       "      <td>0.46</td>\n",
       "      <td>0.54</td>\n",
       "    </tr>\n",
       "  </tbody>\n",
       "</table>\n",
       "</div>"
      ],
      "text/plain": [
       "SeriousDlqin2yrs                         0     1\n",
       "NumberOfTime60-89DaysPastDueNotWorse            \n",
       "0                                     0.95  0.05\n",
       "1                                     0.69  0.31\n",
       "2                                     0.50  0.50\n",
       "3                                     0.43  0.57\n",
       "4                                     0.38  0.62\n",
       "5                                     0.38  0.62\n",
       "6                                     0.25  0.75\n",
       "7                                     0.44  0.56\n",
       "8                                     0.50  0.50\n",
       "9                                     1.00  0.00\n",
       "11                                    0.00  1.00\n",
       "96                                    0.20  0.80\n",
       "98                                    0.46  0.54"
      ]
     },
     "execution_count": 28,
     "metadata": {},
     "output_type": "execute_result"
    }
   ],
   "source": [
    "NumberOfTime60_89dpd_target_percent=NumberOfTime60_89dpd.apply(lambda x:x/x.sum(),axis=1)\n",
    "round(NumberOfTime60_89dpd_target_percent,2)"
   ]
  },
  {
   "cell_type": "code",
   "execution_count": 29,
   "id": "13cf7f63",
   "metadata": {},
   "outputs": [],
   "source": [
    "CS_training['No_OfTime60_89dpd']=CS_training['NumberOfTime60-89DaysPastDueNotWorse']"
   ]
  },
  {
   "cell_type": "code",
   "execution_count": 30,
   "id": "5cf73838",
   "metadata": {},
   "outputs": [
    {
     "name": "stderr",
     "output_type": "stream",
     "text": [
      "C:\\Users\\SATISH~1\\AppData\\Local\\Temp/ipykernel_17748/456844123.py:1: SettingWithCopyWarning: \n",
      "A value is trying to be set on a copy of a slice from a DataFrame\n",
      "\n",
      "See the caveats in the documentation: https://pandas.pydata.org/pandas-docs/stable/user_guide/indexing.html#returning-a-view-versus-a-copy\n",
      "  CS_training['No_OfTime60_89dpd'][CS_training['No_OfTime60_89dpd']>13]=7\n"
     ]
    }
   ],
   "source": [
    "CS_training['No_OfTime60_89dpd'][CS_training['No_OfTime60_89dpd']>13]=7"
   ]
  },
  {
   "cell_type": "code",
   "execution_count": 32,
   "id": "554c1d66",
   "metadata": {},
   "outputs": [
    {
     "data": {
      "text/plain": [
       "0     142396\n",
       "1       5731\n",
       "2       1118\n",
       "3        318\n",
       "7        278\n",
       "4        105\n",
       "5         34\n",
       "6         16\n",
       "8          2\n",
       "11         1\n",
       "9          1\n",
       "Name: No_OfTime60_89dpd, dtype: int64"
      ]
     },
     "execution_count": 32,
     "metadata": {},
     "output_type": "execute_result"
    }
   ],
   "source": [
    "CS_training['No_OfTime60_89dpd'].value_counts()"
   ]
  },
  {
   "cell_type": "markdown",
   "id": "c6c1a863",
   "metadata": {},
   "source": [
    "# NumberOfTimes90DaysLate"
   ]
  },
  {
   "cell_type": "code",
   "execution_count": 33,
   "id": "3ff4170a",
   "metadata": {},
   "outputs": [
    {
     "data": {
      "text/plain": [
       "0     141662\n",
       "1       5243\n",
       "2       1555\n",
       "3        667\n",
       "4        291\n",
       "98       264\n",
       "5        131\n",
       "6         80\n",
       "7         38\n",
       "8         21\n",
       "9         19\n",
       "10         8\n",
       "96         5\n",
       "11         5\n",
       "13         4\n",
       "15         2\n",
       "14         2\n",
       "12         2\n",
       "17         1\n",
       "Name: NumberOfTimes90DaysLate, dtype: int64"
      ]
     },
     "execution_count": 33,
     "metadata": {},
     "output_type": "execute_result"
    }
   ],
   "source": [
    "CS_training['NumberOfTimes90DaysLate'].value_counts()"
   ]
  },
  {
   "cell_type": "code",
   "execution_count": 34,
   "id": "cbae2bb6",
   "metadata": {},
   "outputs": [],
   "source": [
    "import pandas as pd\n",
    "\n",
    "crosstab_90days_dpd=pd.crosstab(CS_training['NumberOfTimes90DaysLate'],CS_training['SeriousDlqin2yrs'])"
   ]
  },
  {
   "cell_type": "code",
   "execution_count": 38,
   "id": "ca6bc755",
   "metadata": {},
   "outputs": [
    {
     "data": {
      "text/html": [
       "<div>\n",
       "<style scoped>\n",
       "    .dataframe tbody tr th:only-of-type {\n",
       "        vertical-align: middle;\n",
       "    }\n",
       "\n",
       "    .dataframe tbody tr th {\n",
       "        vertical-align: top;\n",
       "    }\n",
       "\n",
       "    .dataframe thead th {\n",
       "        text-align: right;\n",
       "    }\n",
       "</style>\n",
       "<table border=\"1\" class=\"dataframe\">\n",
       "  <thead>\n",
       "    <tr style=\"text-align: right;\">\n",
       "      <th>SeriousDlqin2yrs</th>\n",
       "      <th>0</th>\n",
       "      <th>1</th>\n",
       "    </tr>\n",
       "    <tr>\n",
       "      <th>NumberOfTimes90DaysLate</th>\n",
       "      <th></th>\n",
       "      <th></th>\n",
       "    </tr>\n",
       "  </thead>\n",
       "  <tbody>\n",
       "    <tr>\n",
       "      <th>0</th>\n",
       "      <td>0.95</td>\n",
       "      <td>0.05</td>\n",
       "    </tr>\n",
       "    <tr>\n",
       "      <th>1</th>\n",
       "      <td>0.66</td>\n",
       "      <td>0.34</td>\n",
       "    </tr>\n",
       "    <tr>\n",
       "      <th>2</th>\n",
       "      <td>0.50</td>\n",
       "      <td>0.50</td>\n",
       "    </tr>\n",
       "    <tr>\n",
       "      <th>3</th>\n",
       "      <td>0.42</td>\n",
       "      <td>0.58</td>\n",
       "    </tr>\n",
       "    <tr>\n",
       "      <th>4</th>\n",
       "      <td>0.33</td>\n",
       "      <td>0.67</td>\n",
       "    </tr>\n",
       "    <tr>\n",
       "      <th>5</th>\n",
       "      <td>0.37</td>\n",
       "      <td>0.63</td>\n",
       "    </tr>\n",
       "    <tr>\n",
       "      <th>6</th>\n",
       "      <td>0.40</td>\n",
       "      <td>0.60</td>\n",
       "    </tr>\n",
       "    <tr>\n",
       "      <th>7</th>\n",
       "      <td>0.18</td>\n",
       "      <td>0.82</td>\n",
       "    </tr>\n",
       "    <tr>\n",
       "      <th>8</th>\n",
       "      <td>0.29</td>\n",
       "      <td>0.71</td>\n",
       "    </tr>\n",
       "    <tr>\n",
       "      <th>9</th>\n",
       "      <td>0.26</td>\n",
       "      <td>0.74</td>\n",
       "    </tr>\n",
       "    <tr>\n",
       "      <th>10</th>\n",
       "      <td>0.38</td>\n",
       "      <td>0.62</td>\n",
       "    </tr>\n",
       "    <tr>\n",
       "      <th>11</th>\n",
       "      <td>0.40</td>\n",
       "      <td>0.60</td>\n",
       "    </tr>\n",
       "    <tr>\n",
       "      <th>12</th>\n",
       "      <td>0.50</td>\n",
       "      <td>0.50</td>\n",
       "    </tr>\n",
       "    <tr>\n",
       "      <th>13</th>\n",
       "      <td>0.50</td>\n",
       "      <td>0.50</td>\n",
       "    </tr>\n",
       "    <tr>\n",
       "      <th>14</th>\n",
       "      <td>0.50</td>\n",
       "      <td>0.50</td>\n",
       "    </tr>\n",
       "    <tr>\n",
       "      <th>15</th>\n",
       "      <td>1.00</td>\n",
       "      <td>0.00</td>\n",
       "    </tr>\n",
       "    <tr>\n",
       "      <th>17</th>\n",
       "      <td>0.00</td>\n",
       "      <td>1.00</td>\n",
       "    </tr>\n",
       "    <tr>\n",
       "      <th>96</th>\n",
       "      <td>0.20</td>\n",
       "      <td>0.80</td>\n",
       "    </tr>\n",
       "    <tr>\n",
       "      <th>98</th>\n",
       "      <td>0.46</td>\n",
       "      <td>0.54</td>\n",
       "    </tr>\n",
       "  </tbody>\n",
       "</table>\n",
       "</div>"
      ],
      "text/plain": [
       "SeriousDlqin2yrs            0     1\n",
       "NumberOfTimes90DaysLate            \n",
       "0                        0.95  0.05\n",
       "1                        0.66  0.34\n",
       "2                        0.50  0.50\n",
       "3                        0.42  0.58\n",
       "4                        0.33  0.67\n",
       "5                        0.37  0.63\n",
       "6                        0.40  0.60\n",
       "7                        0.18  0.82\n",
       "8                        0.29  0.71\n",
       "9                        0.26  0.74\n",
       "10                       0.38  0.62\n",
       "11                       0.40  0.60\n",
       "12                       0.50  0.50\n",
       "13                       0.50  0.50\n",
       "14                       0.50  0.50\n",
       "15                       1.00  0.00\n",
       "17                       0.00  1.00\n",
       "96                       0.20  0.80\n",
       "98                       0.46  0.54"
      ]
     },
     "execution_count": 38,
     "metadata": {},
     "output_type": "execute_result"
    }
   ],
   "source": [
    "crosstab_90days_dpd_percent=crosstab_90days_dpd.apply(lambda x:x/x.sum(),axis=1)\n",
    "round(crosstab_90days_dpd_percent,2)"
   ]
  },
  {
   "cell_type": "code",
   "execution_count": 40,
   "id": "a294ab31",
   "metadata": {},
   "outputs": [
    {
     "name": "stderr",
     "output_type": "stream",
     "text": [
      "C:\\Users\\SATISH~1\\AppData\\Local\\Temp/ipykernel_17748/3940786542.py:2: SettingWithCopyWarning: \n",
      "A value is trying to be set on a copy of a slice from a DataFrame\n",
      "\n",
      "See the caveats in the documentation: https://pandas.pydata.org/pandas-docs/stable/user_guide/indexing.html#returning-a-view-versus-a-copy\n",
      "  CS_training['NumberOfTimes90Dpd'][CS_training['NumberOfTimes90Dpd']>17]=12\n"
     ]
    }
   ],
   "source": [
    "CS_training['NumberOfTimes90Dpd']=CS_training['NumberOfTimes90DaysLate']\n",
    "CS_training['NumberOfTimes90Dpd'][CS_training['NumberOfTimes90Dpd']>17]=12"
   ]
  },
  {
   "cell_type": "code",
   "execution_count": 41,
   "id": "49cb3217",
   "metadata": {},
   "outputs": [
    {
     "data": {
      "text/plain": [
       "0     141662\n",
       "1       5243\n",
       "2       1555\n",
       "3        667\n",
       "4        291\n",
       "12       271\n",
       "5        131\n",
       "6         80\n",
       "7         38\n",
       "8         21\n",
       "9         19\n",
       "10         8\n",
       "11         5\n",
       "13         4\n",
       "15         2\n",
       "14         2\n",
       "17         1\n",
       "Name: NumberOfTimes90Dpd, dtype: int64"
      ]
     },
     "execution_count": 41,
     "metadata": {},
     "output_type": "execute_result"
    }
   ],
   "source": [
    "CS_training['NumberOfTimes90Dpd'].value_counts()"
   ]
  },
  {
   "cell_type": "code",
   "execution_count": 22,
   "id": "b8a56a9f",
   "metadata": {},
   "outputs": [
    {
     "data": {
      "text/plain": [
       "0     56188\n",
       "1     52338\n",
       "2     31522\n",
       "3      6300\n",
       "4      2170\n",
       "5       689\n",
       "6       320\n",
       "7       171\n",
       "8        93\n",
       "9        78\n",
       "10       37\n",
       "11       23\n",
       "12       18\n",
       "13       15\n",
       "15        7\n",
       "14        7\n",
       "17        4\n",
       "16        4\n",
       "25        3\n",
       "18        2\n",
       "23        2\n",
       "19        2\n",
       "20        2\n",
       "26        1\n",
       "54        1\n",
       "21        1\n",
       "29        1\n",
       "32        1\n",
       "Name: NumberRealEstateLoansOrLines, dtype: int64"
      ]
     },
     "execution_count": 22,
     "metadata": {},
     "output_type": "execute_result"
    }
   ],
   "source": [
    "CS_training['NumberRealEstateLoansOrLines'].value_counts()"
   ]
  },
  {
   "cell_type": "code",
   "execution_count": 28,
   "id": "ad7de10c",
   "metadata": {},
   "outputs": [
    {
     "name": "stderr",
     "output_type": "stream",
     "text": [
      "C:\\Users\\SATISH~1\\AppData\\Local\\Temp/ipykernel_17068/3407324653.py:2: SettingWithCopyWarning: \n",
      "A value is trying to be set on a copy of a slice from a DataFrame\n",
      "\n",
      "See the caveats in the documentation: https://pandas.pydata.org/pandas-docs/stable/user_guide/indexing.html#returning-a-view-versus-a-copy\n",
      "  CS_training['NumberRealEstateLoansOrLinesclean'][CS_training['NumberRealEstateLoansOrLinesclean']>10]=CS_training['NumberRealEstateLoansOrLines'].median()\n"
     ]
    }
   ],
   "source": [
    "CS_training['NumberRealEstateLoansOrLinesclean']=CS_training['NumberRealEstateLoansOrLines']\n",
    "CS_training['NumberRealEstateLoansOrLinesclean'][CS_training['NumberRealEstateLoansOrLinesclean']>10]=CS_training['NumberRealEstateLoansOrLines'].median()"
   ]
  },
  {
   "cell_type": "code",
   "execution_count": 29,
   "id": "23f941f6",
   "metadata": {},
   "outputs": [
    {
     "data": {
      "text/plain": [
       "0     56188\n",
       "1     52432\n",
       "2     31522\n",
       "3      6300\n",
       "4      2170\n",
       "5       689\n",
       "6       320\n",
       "7       171\n",
       "8        93\n",
       "9        78\n",
       "10       37\n",
       "Name: NumberRealEstateLoansOrLinesclean, dtype: int64"
      ]
     },
     "execution_count": 29,
     "metadata": {},
     "output_type": "execute_result"
    }
   ],
   "source": [
    "CS_training['NumberRealEstateLoansOrLinesclean'].value_counts()"
   ]
  },
  {
   "cell_type": "markdown",
   "id": "8c3e9497",
   "metadata": {},
   "source": [
    "# Random forest"
   ]
  },
  {
   "cell_type": "code",
   "execution_count": 1,
   "id": "a0035c2a",
   "metadata": {},
   "outputs": [],
   "source": [
    "import pandas as pd\n",
    "import sklearn as sk\n",
    "import numpy as np\n",
    "import scipy as sp\n",
    "from sklearn import tree\n",
    "from sklearn.metrics import confusion_matrix"
   ]
  },
  {
   "cell_type": "code",
   "execution_count": 2,
   "id": "c29ebb12",
   "metadata": {},
   "outputs": [],
   "source": [
    "#Importing dataset\n",
    "car_train=pd.read_csv(\"https://raw.githubusercontent.com/venkatareddykonasani/Datasets/master/Car_Accidents_IOT/train.csv\")\n",
    "car_test=pd.read_csv(\"https://raw.githubusercontent.com/venkatareddykonasani/Datasets/master/Car_Accidents_IOT/test.csv\")"
   ]
  },
  {
   "cell_type": "code",
   "execution_count": 3,
   "id": "b5ceb0a2",
   "metadata": {},
   "outputs": [],
   "source": [
    "features=list(car_train.columns[1:])\n",
    "X_train=car_train[features]\n",
    "y_train=car_train['Fatal']"
   ]
  },
  {
   "cell_type": "code",
   "execution_count": 4,
   "id": "4d150e04",
   "metadata": {},
   "outputs": [
    {
     "data": {
      "text/plain": [
       "DecisionTreeClassifier(max_depth=6)"
      ]
     },
     "execution_count": 4,
     "metadata": {},
     "output_type": "execute_result"
    }
   ],
   "source": [
    "###buildng Decision tree on the training data ####\n",
    "clf = tree.DecisionTreeClassifier(max_depth=6)\n",
    "clf.fit(X_train,y_train)"
   ]
  },
  {
   "cell_type": "code",
   "execution_count": 5,
   "id": "7668bb71",
   "metadata": {},
   "outputs": [
    {
     "name": "stdout",
     "output_type": "stream",
     "text": [
      "Confusion Matrix for Train data \n",
      " [[4940 1376]\n",
      " [ 688 8105]]\n",
      "Accuracy of Train data \n",
      " 0.8633926798596863\n",
      "Confusion Matrix for test data \n",
      " [[2980  912]\n",
      " [ 391 4782]]\n",
      "Accuracy of test data \n",
      " 0.8562603419746276\n"
     ]
    }
   ],
   "source": [
    "#####predicting on test data ####\n",
    "tree_predict_train=clf.predict(car_train[features])\n",
    "tree_predict=clf.predict(car_test[features])\n",
    "\n",
    "########Train Data Validation\n",
    "cm1 = confusion_matrix(car_train[['Fatal']],tree_predict_train)\n",
    "print(\"Confusion Matrix for Train data \\n\", cm1)\n",
    "total1=sum(sum(cm1))\n",
    "accuracy_tree=(cm1[0,0]+cm1[1,1])/total1\n",
    "print(\"Accuracy of Train data \\n\", accuracy_tree)\n",
    "\n",
    "########Test Data Validation\n",
    "cm1 = confusion_matrix(car_test[['Fatal']],tree_predict)\n",
    "print(\"Confusion Matrix for test data \\n\", cm1)\n",
    "total1=sum(sum(cm1))\n",
    "accuracy_tree=(cm1[0,0]+cm1[1,1])/total1\n",
    "print(\"Accuracy of test data \\n\", accuracy_tree)"
   ]
  },
  {
   "cell_type": "code",
   "execution_count": 6,
   "id": "b8079b43",
   "metadata": {},
   "outputs": [
    {
     "data": {
      "text/plain": [
       "RandomForestClassifier(max_depth=6, max_features=4, n_estimators=20)"
      ]
     },
     "execution_count": 6,
     "metadata": {},
     "output_type": "execute_result"
    }
   ],
   "source": [
    "from sklearn.ensemble import RandomForestClassifier\n",
    "forest=RandomForestClassifier(n_estimators=20, max_features=4, max_depth=6)\n",
    "# n_estimators - Trees - As high as possible\n",
    "# max_features - p - low ==>(sqrt(t))\n",
    "# max_depth - Slightly higher than single tree\n",
    "forest.fit(X_train,y_train)"
   ]
  },
  {
   "cell_type": "code",
   "execution_count": 7,
   "id": "b582dca0",
   "metadata": {},
   "outputs": [
    {
     "name": "stdout",
     "output_type": "stream",
     "text": [
      "Confusion Matrix for Train data \n",
      " [[4735 1581]\n",
      " [ 546 8247]]\n",
      "Accuracy of Train data \n",
      " 0.8592229796809848\n",
      "Confusion Matrix for test data \n",
      " [[2893  999]\n",
      " [ 331 4842]]\n",
      "Accuracy of test data \n",
      " 0.8532818532818532\n"
     ]
    }
   ],
   "source": [
    "#####predicting on test data ####\n",
    "Forest_predict_train=forest.predict(car_train[features])\n",
    "Forest_predict=forest.predict(car_test[features])\n",
    "\n",
    "########Train Data Validation\n",
    "cm1 = confusion_matrix(car_train[['Fatal']],Forest_predict_train)\n",
    "print(\"Confusion Matrix for Train data \\n\", cm1)\n",
    "total1=sum(sum(cm1))\n",
    "accuracy_tree=(cm1[0,0]+cm1[1,1])/total1\n",
    "print(\"Accuracy of Train data \\n\", accuracy_tree)\n",
    "\n",
    "########Test Data Validation\n",
    "cm1 = confusion_matrix(car_test[['Fatal']],Forest_predict)\n",
    "print(\"Confusion Matrix for test data \\n\", cm1)\n",
    "total1=sum(sum(cm1))\n",
    "accuracy_tree=(cm1[0,0]+cm1[1,1])/total1\n",
    "print(\"Accuracy of test data \\n\", accuracy_tree)\n"
   ]
  },
  {
   "cell_type": "code",
   "execution_count": null,
   "id": "44a3a920",
   "metadata": {},
   "outputs": [],
   "source": []
  },
  {
   "cell_type": "markdown",
   "id": "feb33130",
   "metadata": {},
   "source": [
    "# CREDIT RISK MODEL"
   ]
  },
  {
   "cell_type": "code",
   "execution_count": 2,
   "id": "4ce1222a",
   "metadata": {},
   "outputs": [
    {
     "data": {
      "text/html": [
       "<div>\n",
       "<style scoped>\n",
       "    .dataframe tbody tr th:only-of-type {\n",
       "        vertical-align: middle;\n",
       "    }\n",
       "\n",
       "    .dataframe tbody tr th {\n",
       "        vertical-align: top;\n",
       "    }\n",
       "\n",
       "    .dataframe thead th {\n",
       "        text-align: right;\n",
       "    }\n",
       "</style>\n",
       "<table border=\"1\" class=\"dataframe\">\n",
       "  <thead>\n",
       "    <tr style=\"text-align: right;\">\n",
       "      <th></th>\n",
       "      <th>ID</th>\n",
       "      <th>LIMIT_BAL</th>\n",
       "      <th>SEX</th>\n",
       "      <th>EDUCATION</th>\n",
       "      <th>MARRIAGE</th>\n",
       "      <th>AGE</th>\n",
       "      <th>PAY_0</th>\n",
       "      <th>PAY_2</th>\n",
       "      <th>PAY_3</th>\n",
       "      <th>PAY_4</th>\n",
       "      <th>...</th>\n",
       "      <th>BILL_AMT4</th>\n",
       "      <th>BILL_AMT5</th>\n",
       "      <th>BILL_AMT6</th>\n",
       "      <th>PAY_AMT1</th>\n",
       "      <th>PAY_AMT2</th>\n",
       "      <th>PAY_AMT3</th>\n",
       "      <th>PAY_AMT4</th>\n",
       "      <th>PAY_AMT5</th>\n",
       "      <th>PAY_AMT6</th>\n",
       "      <th>default.payment.next.month</th>\n",
       "    </tr>\n",
       "  </thead>\n",
       "  <tbody>\n",
       "    <tr>\n",
       "      <th>0</th>\n",
       "      <td>1</td>\n",
       "      <td>20000.0</td>\n",
       "      <td>2</td>\n",
       "      <td>2</td>\n",
       "      <td>1</td>\n",
       "      <td>24</td>\n",
       "      <td>2</td>\n",
       "      <td>2</td>\n",
       "      <td>-1</td>\n",
       "      <td>-1</td>\n",
       "      <td>...</td>\n",
       "      <td>0.0</td>\n",
       "      <td>0.0</td>\n",
       "      <td>0.0</td>\n",
       "      <td>0.0</td>\n",
       "      <td>689.0</td>\n",
       "      <td>0.0</td>\n",
       "      <td>0.0</td>\n",
       "      <td>0.0</td>\n",
       "      <td>0.0</td>\n",
       "      <td>1</td>\n",
       "    </tr>\n",
       "    <tr>\n",
       "      <th>1</th>\n",
       "      <td>2</td>\n",
       "      <td>120000.0</td>\n",
       "      <td>2</td>\n",
       "      <td>2</td>\n",
       "      <td>2</td>\n",
       "      <td>26</td>\n",
       "      <td>-1</td>\n",
       "      <td>2</td>\n",
       "      <td>0</td>\n",
       "      <td>0</td>\n",
       "      <td>...</td>\n",
       "      <td>3272.0</td>\n",
       "      <td>3455.0</td>\n",
       "      <td>3261.0</td>\n",
       "      <td>0.0</td>\n",
       "      <td>1000.0</td>\n",
       "      <td>1000.0</td>\n",
       "      <td>1000.0</td>\n",
       "      <td>0.0</td>\n",
       "      <td>2000.0</td>\n",
       "      <td>1</td>\n",
       "    </tr>\n",
       "    <tr>\n",
       "      <th>2</th>\n",
       "      <td>3</td>\n",
       "      <td>90000.0</td>\n",
       "      <td>2</td>\n",
       "      <td>2</td>\n",
       "      <td>2</td>\n",
       "      <td>34</td>\n",
       "      <td>0</td>\n",
       "      <td>0</td>\n",
       "      <td>0</td>\n",
       "      <td>0</td>\n",
       "      <td>...</td>\n",
       "      <td>14331.0</td>\n",
       "      <td>14948.0</td>\n",
       "      <td>15549.0</td>\n",
       "      <td>1518.0</td>\n",
       "      <td>1500.0</td>\n",
       "      <td>1000.0</td>\n",
       "      <td>1000.0</td>\n",
       "      <td>1000.0</td>\n",
       "      <td>5000.0</td>\n",
       "      <td>0</td>\n",
       "    </tr>\n",
       "    <tr>\n",
       "      <th>3</th>\n",
       "      <td>4</td>\n",
       "      <td>50000.0</td>\n",
       "      <td>2</td>\n",
       "      <td>2</td>\n",
       "      <td>1</td>\n",
       "      <td>37</td>\n",
       "      <td>0</td>\n",
       "      <td>0</td>\n",
       "      <td>0</td>\n",
       "      <td>0</td>\n",
       "      <td>...</td>\n",
       "      <td>28314.0</td>\n",
       "      <td>28959.0</td>\n",
       "      <td>29547.0</td>\n",
       "      <td>2000.0</td>\n",
       "      <td>2019.0</td>\n",
       "      <td>1200.0</td>\n",
       "      <td>1100.0</td>\n",
       "      <td>1069.0</td>\n",
       "      <td>1000.0</td>\n",
       "      <td>0</td>\n",
       "    </tr>\n",
       "    <tr>\n",
       "      <th>4</th>\n",
       "      <td>5</td>\n",
       "      <td>50000.0</td>\n",
       "      <td>1</td>\n",
       "      <td>2</td>\n",
       "      <td>1</td>\n",
       "      <td>57</td>\n",
       "      <td>-1</td>\n",
       "      <td>0</td>\n",
       "      <td>-1</td>\n",
       "      <td>0</td>\n",
       "      <td>...</td>\n",
       "      <td>20940.0</td>\n",
       "      <td>19146.0</td>\n",
       "      <td>19131.0</td>\n",
       "      <td>2000.0</td>\n",
       "      <td>36681.0</td>\n",
       "      <td>10000.0</td>\n",
       "      <td>9000.0</td>\n",
       "      <td>689.0</td>\n",
       "      <td>679.0</td>\n",
       "      <td>0</td>\n",
       "    </tr>\n",
       "    <tr>\n",
       "      <th>...</th>\n",
       "      <td>...</td>\n",
       "      <td>...</td>\n",
       "      <td>...</td>\n",
       "      <td>...</td>\n",
       "      <td>...</td>\n",
       "      <td>...</td>\n",
       "      <td>...</td>\n",
       "      <td>...</td>\n",
       "      <td>...</td>\n",
       "      <td>...</td>\n",
       "      <td>...</td>\n",
       "      <td>...</td>\n",
       "      <td>...</td>\n",
       "      <td>...</td>\n",
       "      <td>...</td>\n",
       "      <td>...</td>\n",
       "      <td>...</td>\n",
       "      <td>...</td>\n",
       "      <td>...</td>\n",
       "      <td>...</td>\n",
       "      <td>...</td>\n",
       "    </tr>\n",
       "    <tr>\n",
       "      <th>29995</th>\n",
       "      <td>29996</td>\n",
       "      <td>220000.0</td>\n",
       "      <td>1</td>\n",
       "      <td>3</td>\n",
       "      <td>1</td>\n",
       "      <td>39</td>\n",
       "      <td>0</td>\n",
       "      <td>0</td>\n",
       "      <td>0</td>\n",
       "      <td>0</td>\n",
       "      <td>...</td>\n",
       "      <td>88004.0</td>\n",
       "      <td>31237.0</td>\n",
       "      <td>15980.0</td>\n",
       "      <td>8500.0</td>\n",
       "      <td>20000.0</td>\n",
       "      <td>5003.0</td>\n",
       "      <td>3047.0</td>\n",
       "      <td>5000.0</td>\n",
       "      <td>1000.0</td>\n",
       "      <td>0</td>\n",
       "    </tr>\n",
       "    <tr>\n",
       "      <th>29996</th>\n",
       "      <td>29997</td>\n",
       "      <td>150000.0</td>\n",
       "      <td>1</td>\n",
       "      <td>3</td>\n",
       "      <td>2</td>\n",
       "      <td>43</td>\n",
       "      <td>-1</td>\n",
       "      <td>-1</td>\n",
       "      <td>-1</td>\n",
       "      <td>-1</td>\n",
       "      <td>...</td>\n",
       "      <td>8979.0</td>\n",
       "      <td>5190.0</td>\n",
       "      <td>0.0</td>\n",
       "      <td>1837.0</td>\n",
       "      <td>3526.0</td>\n",
       "      <td>8998.0</td>\n",
       "      <td>129.0</td>\n",
       "      <td>0.0</td>\n",
       "      <td>0.0</td>\n",
       "      <td>0</td>\n",
       "    </tr>\n",
       "    <tr>\n",
       "      <th>29997</th>\n",
       "      <td>29998</td>\n",
       "      <td>30000.0</td>\n",
       "      <td>1</td>\n",
       "      <td>2</td>\n",
       "      <td>2</td>\n",
       "      <td>37</td>\n",
       "      <td>4</td>\n",
       "      <td>3</td>\n",
       "      <td>2</td>\n",
       "      <td>-1</td>\n",
       "      <td>...</td>\n",
       "      <td>20878.0</td>\n",
       "      <td>20582.0</td>\n",
       "      <td>19357.0</td>\n",
       "      <td>0.0</td>\n",
       "      <td>0.0</td>\n",
       "      <td>22000.0</td>\n",
       "      <td>4200.0</td>\n",
       "      <td>2000.0</td>\n",
       "      <td>3100.0</td>\n",
       "      <td>1</td>\n",
       "    </tr>\n",
       "    <tr>\n",
       "      <th>29998</th>\n",
       "      <td>29999</td>\n",
       "      <td>80000.0</td>\n",
       "      <td>1</td>\n",
       "      <td>3</td>\n",
       "      <td>1</td>\n",
       "      <td>41</td>\n",
       "      <td>1</td>\n",
       "      <td>-1</td>\n",
       "      <td>0</td>\n",
       "      <td>0</td>\n",
       "      <td>...</td>\n",
       "      <td>52774.0</td>\n",
       "      <td>11855.0</td>\n",
       "      <td>48944.0</td>\n",
       "      <td>85900.0</td>\n",
       "      <td>3409.0</td>\n",
       "      <td>1178.0</td>\n",
       "      <td>1926.0</td>\n",
       "      <td>52964.0</td>\n",
       "      <td>1804.0</td>\n",
       "      <td>1</td>\n",
       "    </tr>\n",
       "    <tr>\n",
       "      <th>29999</th>\n",
       "      <td>30000</td>\n",
       "      <td>50000.0</td>\n",
       "      <td>1</td>\n",
       "      <td>2</td>\n",
       "      <td>1</td>\n",
       "      <td>46</td>\n",
       "      <td>0</td>\n",
       "      <td>0</td>\n",
       "      <td>0</td>\n",
       "      <td>0</td>\n",
       "      <td>...</td>\n",
       "      <td>36535.0</td>\n",
       "      <td>32428.0</td>\n",
       "      <td>15313.0</td>\n",
       "      <td>2078.0</td>\n",
       "      <td>1800.0</td>\n",
       "      <td>1430.0</td>\n",
       "      <td>1000.0</td>\n",
       "      <td>1000.0</td>\n",
       "      <td>1000.0</td>\n",
       "      <td>1</td>\n",
       "    </tr>\n",
       "  </tbody>\n",
       "</table>\n",
       "<p>30000 rows × 25 columns</p>\n",
       "</div>"
      ],
      "text/plain": [
       "          ID  LIMIT_BAL  SEX  EDUCATION  MARRIAGE  AGE  PAY_0  PAY_2  PAY_3  \\\n",
       "0          1    20000.0    2          2         1   24      2      2     -1   \n",
       "1          2   120000.0    2          2         2   26     -1      2      0   \n",
       "2          3    90000.0    2          2         2   34      0      0      0   \n",
       "3          4    50000.0    2          2         1   37      0      0      0   \n",
       "4          5    50000.0    1          2         1   57     -1      0     -1   \n",
       "...      ...        ...  ...        ...       ...  ...    ...    ...    ...   \n",
       "29995  29996   220000.0    1          3         1   39      0      0      0   \n",
       "29996  29997   150000.0    1          3         2   43     -1     -1     -1   \n",
       "29997  29998    30000.0    1          2         2   37      4      3      2   \n",
       "29998  29999    80000.0    1          3         1   41      1     -1      0   \n",
       "29999  30000    50000.0    1          2         1   46      0      0      0   \n",
       "\n",
       "       PAY_4  ...  BILL_AMT4  BILL_AMT5  BILL_AMT6  PAY_AMT1  PAY_AMT2  \\\n",
       "0         -1  ...        0.0        0.0        0.0       0.0     689.0   \n",
       "1          0  ...     3272.0     3455.0     3261.0       0.0    1000.0   \n",
       "2          0  ...    14331.0    14948.0    15549.0    1518.0    1500.0   \n",
       "3          0  ...    28314.0    28959.0    29547.0    2000.0    2019.0   \n",
       "4          0  ...    20940.0    19146.0    19131.0    2000.0   36681.0   \n",
       "...      ...  ...        ...        ...        ...       ...       ...   \n",
       "29995      0  ...    88004.0    31237.0    15980.0    8500.0   20000.0   \n",
       "29996     -1  ...     8979.0     5190.0        0.0    1837.0    3526.0   \n",
       "29997     -1  ...    20878.0    20582.0    19357.0       0.0       0.0   \n",
       "29998      0  ...    52774.0    11855.0    48944.0   85900.0    3409.0   \n",
       "29999      0  ...    36535.0    32428.0    15313.0    2078.0    1800.0   \n",
       "\n",
       "       PAY_AMT3  PAY_AMT4  PAY_AMT5  PAY_AMT6  default.payment.next.month  \n",
       "0           0.0       0.0       0.0       0.0                           1  \n",
       "1        1000.0    1000.0       0.0    2000.0                           1  \n",
       "2        1000.0    1000.0    1000.0    5000.0                           0  \n",
       "3        1200.0    1100.0    1069.0    1000.0                           0  \n",
       "4       10000.0    9000.0     689.0     679.0                           0  \n",
       "...         ...       ...       ...       ...                         ...  \n",
       "29995    5003.0    3047.0    5000.0    1000.0                           0  \n",
       "29996    8998.0     129.0       0.0       0.0                           0  \n",
       "29997   22000.0    4200.0    2000.0    3100.0                           1  \n",
       "29998    1178.0    1926.0   52964.0    1804.0                           1  \n",
       "29999    1430.0    1000.0    1000.0    1000.0                           1  \n",
       "\n",
       "[30000 rows x 25 columns]"
      ]
     },
     "execution_count": 2,
     "metadata": {},
     "output_type": "execute_result"
    }
   ],
   "source": [
    "import pandas as pd\n",
    "import seaborn as sns\n",
    "import numpy as np\n",
    "import matplotlib.pyplot as plt\n",
    "\n",
    "\n",
    "credit_risk_data=pd.read_csv(r'C:\\Users\\satish kumar\\OneDrive\\Desktop\\Machine learnng\\5.Data Validation and Cleaning_DV\\UCI_Credit_Card.csv')\n",
    "credit_risk_data"
   ]
  },
  {
   "cell_type": "code",
   "execution_count": 16,
   "id": "01667212",
   "metadata": {},
   "outputs": [
    {
     "data": {
      "text/plain": [
       "(30000, 25)"
      ]
     },
     "execution_count": 16,
     "metadata": {},
     "output_type": "execute_result"
    }
   ],
   "source": [
    "credit_risk_data.shape"
   ]
  },
  {
   "cell_type": "code",
   "execution_count": 17,
   "id": "2502a7cf",
   "metadata": {},
   "outputs": [
    {
     "data": {
      "text/plain": [
       "array(['ID', 'LIMIT_BAL', 'SEX', 'EDUCATION', 'MARRIAGE', 'AGE', 'PAY_0',\n",
       "       'PAY_2', 'PAY_3', 'PAY_4', 'PAY_5', 'PAY_6', 'BILL_AMT1',\n",
       "       'BILL_AMT2', 'BILL_AMT3', 'BILL_AMT4', 'BILL_AMT5', 'BILL_AMT6',\n",
       "       'PAY_AMT1', 'PAY_AMT2', 'PAY_AMT3', 'PAY_AMT4', 'PAY_AMT5',\n",
       "       'PAY_AMT6', 'default.payment.next.month'], dtype=object)"
      ]
     },
     "execution_count": 17,
     "metadata": {},
     "output_type": "execute_result"
    }
   ],
   "source": [
    "credit_risk_data.columns.values"
   ]
  },
  {
   "cell_type": "code",
   "execution_count": 20,
   "id": "c5d9588b",
   "metadata": {},
   "outputs": [
    {
     "name": "stdout",
     "output_type": "stream",
     "text": [
      "<class 'pandas.core.frame.DataFrame'>\n",
      "RangeIndex: 30000 entries, 0 to 29999\n",
      "Data columns (total 25 columns):\n",
      " #   Column                      Non-Null Count  Dtype  \n",
      "---  ------                      --------------  -----  \n",
      " 0   ID                          30000 non-null  int64  \n",
      " 1   LIMIT_BAL                   30000 non-null  float64\n",
      " 2   SEX                         30000 non-null  int64  \n",
      " 3   EDUCATION                   30000 non-null  int64  \n",
      " 4   MARRIAGE                    30000 non-null  int64  \n",
      " 5   AGE                         30000 non-null  int64  \n",
      " 6   PAY_0                       30000 non-null  int64  \n",
      " 7   PAY_2                       30000 non-null  int64  \n",
      " 8   PAY_3                       30000 non-null  int64  \n",
      " 9   PAY_4                       30000 non-null  int64  \n",
      " 10  PAY_5                       30000 non-null  int64  \n",
      " 11  PAY_6                       30000 non-null  int64  \n",
      " 12  BILL_AMT1                   30000 non-null  float64\n",
      " 13  BILL_AMT2                   30000 non-null  float64\n",
      " 14  BILL_AMT3                   30000 non-null  float64\n",
      " 15  BILL_AMT4                   30000 non-null  float64\n",
      " 16  BILL_AMT5                   30000 non-null  float64\n",
      " 17  BILL_AMT6                   30000 non-null  float64\n",
      " 18  PAY_AMT1                    30000 non-null  float64\n",
      " 19  PAY_AMT2                    30000 non-null  float64\n",
      " 20  PAY_AMT3                    30000 non-null  float64\n",
      " 21  PAY_AMT4                    30000 non-null  float64\n",
      " 22  PAY_AMT5                    30000 non-null  float64\n",
      " 23  PAY_AMT6                    30000 non-null  float64\n",
      " 24  default.payment.next.month  30000 non-null  int64  \n",
      "dtypes: float64(13), int64(12)\n",
      "memory usage: 5.7 MB\n"
     ]
    }
   ],
   "source": [
    "credit_risk_data.info()"
   ]
  },
  {
   "cell_type": "code",
   "execution_count": 31,
   "id": "44a2e298",
   "metadata": {},
   "outputs": [
    {
     "data": {
      "text/plain": [
       "ID                            0\n",
       "LIMIT_BAL                     0\n",
       "SEX                           0\n",
       "EDUCATION                     0\n",
       "MARRIAGE                      0\n",
       "AGE                           0\n",
       "PAY_0                         0\n",
       "PAY_2                         0\n",
       "PAY_3                         0\n",
       "PAY_4                         0\n",
       "PAY_5                         0\n",
       "PAY_6                         0\n",
       "BILL_AMT1                     0\n",
       "BILL_AMT2                     0\n",
       "BILL_AMT3                     0\n",
       "BILL_AMT4                     0\n",
       "BILL_AMT5                     0\n",
       "BILL_AMT6                     0\n",
       "PAY_AMT1                      0\n",
       "PAY_AMT2                      0\n",
       "PAY_AMT3                      0\n",
       "PAY_AMT4                      0\n",
       "PAY_AMT5                      0\n",
       "PAY_AMT6                      0\n",
       "default.payment.next.month    0\n",
       "dtype: int64"
      ]
     },
     "execution_count": 31,
     "metadata": {},
     "output_type": "execute_result"
    }
   ],
   "source": [
    "credit_risk_data.isnull().sum()"
   ]
  },
  {
   "cell_type": "code",
   "execution_count": 32,
   "id": "ccf5c528",
   "metadata": {},
   "outputs": [
    {
     "data": {
      "text/plain": [
       "2    18112\n",
       "1    11888\n",
       "Name: SEX, dtype: int64"
      ]
     },
     "execution_count": 32,
     "metadata": {},
     "output_type": "execute_result"
    }
   ],
   "source": [
    "credit_risk_data['SEX'].value_counts()"
   ]
  },
  {
   "cell_type": "code",
   "execution_count": 33,
   "id": "520b77ea",
   "metadata": {},
   "outputs": [
    {
     "data": {
      "text/plain": [
       "2    14030\n",
       "1    10585\n",
       "3     4917\n",
       "5      280\n",
       "4      123\n",
       "6       51\n",
       "0       14\n",
       "Name: EDUCATION, dtype: int64"
      ]
     },
     "execution_count": 33,
     "metadata": {},
     "output_type": "execute_result"
    }
   ],
   "source": [
    "credit_risk_data['EDUCATION'].value_counts()"
   ]
  },
  {
   "cell_type": "code",
   "execution_count": 34,
   "id": "53a72232",
   "metadata": {},
   "outputs": [
    {
     "data": {
      "text/plain": [
       "29    1605\n",
       "27    1477\n",
       "28    1409\n",
       "30    1395\n",
       "26    1256\n",
       "31    1217\n",
       "25    1186\n",
       "34    1162\n",
       "32    1158\n",
       "33    1146\n",
       "24    1127\n",
       "35    1113\n",
       "36    1108\n",
       "37    1041\n",
       "39     954\n",
       "38     944\n",
       "23     931\n",
       "40     870\n",
       "41     824\n",
       "42     794\n",
       "44     700\n",
       "43     670\n",
       "45     617\n",
       "46     570\n",
       "22     560\n",
       "47     501\n",
       "48     466\n",
       "49     452\n",
       "50     411\n",
       "51     340\n",
       "53     325\n",
       "52     304\n",
       "54     247\n",
       "55     209\n",
       "56     178\n",
       "58     122\n",
       "57     122\n",
       "59      83\n",
       "60      67\n",
       "21      67\n",
       "61      56\n",
       "62      44\n",
       "63      31\n",
       "64      31\n",
       "66      25\n",
       "65      24\n",
       "67      16\n",
       "69      15\n",
       "70      10\n",
       "68       5\n",
       "73       4\n",
       "72       3\n",
       "75       3\n",
       "71       3\n",
       "79       1\n",
       "74       1\n",
       "Name: AGE, dtype: int64"
      ]
     },
     "execution_count": 34,
     "metadata": {},
     "output_type": "execute_result"
    }
   ],
   "source": [
    "credit_risk_data['AGE'].value_counts()"
   ]
  },
  {
   "cell_type": "code",
   "execution_count": 37,
   "id": "669a3c38",
   "metadata": {},
   "outputs": [
    {
     "data": {
      "text/html": [
       "<div>\n",
       "<style scoped>\n",
       "    .dataframe tbody tr th:only-of-type {\n",
       "        vertical-align: middle;\n",
       "    }\n",
       "\n",
       "    .dataframe tbody tr th {\n",
       "        vertical-align: top;\n",
       "    }\n",
       "\n",
       "    .dataframe thead th {\n",
       "        text-align: right;\n",
       "    }\n",
       "</style>\n",
       "<table border=\"1\" class=\"dataframe\">\n",
       "  <thead>\n",
       "    <tr style=\"text-align: right;\">\n",
       "      <th></th>\n",
       "      <th>BILL_AMT1</th>\n",
       "      <th>BILL_AMT2</th>\n",
       "      <th>BILL_AMT3</th>\n",
       "      <th>BILL_AMT4</th>\n",
       "      <th>BILL_AMT5</th>\n",
       "      <th>BILL_AMT6</th>\n",
       "    </tr>\n",
       "  </thead>\n",
       "  <tbody>\n",
       "    <tr>\n",
       "      <th>0.10</th>\n",
       "      <td>278.90</td>\n",
       "      <td>0.00</td>\n",
       "      <td>0.00</td>\n",
       "      <td>0.00</td>\n",
       "      <td>0.00</td>\n",
       "      <td>0.00</td>\n",
       "    </tr>\n",
       "    <tr>\n",
       "      <th>0.20</th>\n",
       "      <td>1892.80</td>\n",
       "      <td>1472.80</td>\n",
       "      <td>1187.80</td>\n",
       "      <td>988.00</td>\n",
       "      <td>763.00</td>\n",
       "      <td>476.00</td>\n",
       "    </tr>\n",
       "    <tr>\n",
       "      <th>0.30</th>\n",
       "      <td>6050.40</td>\n",
       "      <td>5500.00</td>\n",
       "      <td>5219.20</td>\n",
       "      <td>4643.70</td>\n",
       "      <td>3637.00</td>\n",
       "      <td>2701.70</td>\n",
       "    </tr>\n",
       "    <tr>\n",
       "      <th>0.40</th>\n",
       "      <td>13469.20</td>\n",
       "      <td>12799.60</td>\n",
       "      <td>12197.20</td>\n",
       "      <td>11145.00</td>\n",
       "      <td>9809.20</td>\n",
       "      <td>8770.20</td>\n",
       "    </tr>\n",
       "    <tr>\n",
       "      <th>0.50</th>\n",
       "      <td>22381.50</td>\n",
       "      <td>21200.00</td>\n",
       "      <td>20088.50</td>\n",
       "      <td>19052.00</td>\n",
       "      <td>18104.50</td>\n",
       "      <td>17071.00</td>\n",
       "    </tr>\n",
       "    <tr>\n",
       "      <th>0.60</th>\n",
       "      <td>37045.20</td>\n",
       "      <td>34773.80</td>\n",
       "      <td>31401.00</td>\n",
       "      <td>28604.40</td>\n",
       "      <td>26690.40</td>\n",
       "      <td>25508.40</td>\n",
       "    </tr>\n",
       "    <tr>\n",
       "      <th>0.70</th>\n",
       "      <td>52204.90</td>\n",
       "      <td>50690.00</td>\n",
       "      <td>49217.30</td>\n",
       "      <td>45456.60</td>\n",
       "      <td>40943.20</td>\n",
       "      <td>39252.20</td>\n",
       "    </tr>\n",
       "    <tr>\n",
       "      <th>0.80</th>\n",
       "      <td>83421.20</td>\n",
       "      <td>80292.20</td>\n",
       "      <td>76777.40</td>\n",
       "      <td>70579.00</td>\n",
       "      <td>65823.00</td>\n",
       "      <td>63150.60</td>\n",
       "    </tr>\n",
       "    <tr>\n",
       "      <th>0.90</th>\n",
       "      <td>142133.70</td>\n",
       "      <td>136905.50</td>\n",
       "      <td>132051.30</td>\n",
       "      <td>122418.70</td>\n",
       "      <td>115883.00</td>\n",
       "      <td>112110.40</td>\n",
       "    </tr>\n",
       "    <tr>\n",
       "      <th>0.91</th>\n",
       "      <td>151214.72</td>\n",
       "      <td>145064.86</td>\n",
       "      <td>139419.08</td>\n",
       "      <td>130937.09</td>\n",
       "      <td>123655.36</td>\n",
       "      <td>120740.53</td>\n",
       "    </tr>\n",
       "    <tr>\n",
       "      <th>0.92</th>\n",
       "      <td>162127.84</td>\n",
       "      <td>155362.72</td>\n",
       "      <td>148633.24</td>\n",
       "      <td>138646.80</td>\n",
       "      <td>132233.96</td>\n",
       "      <td>129224.48</td>\n",
       "    </tr>\n",
       "    <tr>\n",
       "      <th>0.93</th>\n",
       "      <td>173630.63</td>\n",
       "      <td>167485.28</td>\n",
       "      <td>160049.77</td>\n",
       "      <td>148287.35</td>\n",
       "      <td>141291.49</td>\n",
       "      <td>137836.47</td>\n",
       "    </tr>\n",
       "    <tr>\n",
       "      <th>0.94</th>\n",
       "      <td>187074.56</td>\n",
       "      <td>180578.40</td>\n",
       "      <td>173241.34</td>\n",
       "      <td>160944.12</td>\n",
       "      <td>151270.38</td>\n",
       "      <td>148093.84</td>\n",
       "    </tr>\n",
       "    <tr>\n",
       "      <th>0.95</th>\n",
       "      <td>201203.05</td>\n",
       "      <td>194792.20</td>\n",
       "      <td>187821.05</td>\n",
       "      <td>174333.35</td>\n",
       "      <td>165794.30</td>\n",
       "      <td>161912.00</td>\n",
       "    </tr>\n",
       "    <tr>\n",
       "      <th>0.96</th>\n",
       "      <td>220592.72</td>\n",
       "      <td>211343.08</td>\n",
       "      <td>203652.80</td>\n",
       "      <td>190088.52</td>\n",
       "      <td>181044.44</td>\n",
       "      <td>177592.76</td>\n",
       "    </tr>\n",
       "    <tr>\n",
       "      <th>0.97</th>\n",
       "      <td>245969.84</td>\n",
       "      <td>236662.72</td>\n",
       "      <td>228277.79</td>\n",
       "      <td>210965.51</td>\n",
       "      <td>198861.03</td>\n",
       "      <td>195114.30</td>\n",
       "    </tr>\n",
       "    <tr>\n",
       "      <th>0.98</th>\n",
       "      <td>282227.68</td>\n",
       "      <td>274120.58</td>\n",
       "      <td>263208.54</td>\n",
       "      <td>246655.72</td>\n",
       "      <td>228587.04</td>\n",
       "      <td>223436.14</td>\n",
       "    </tr>\n",
       "    <tr>\n",
       "      <th>0.99</th>\n",
       "      <td>350110.68</td>\n",
       "      <td>337495.28</td>\n",
       "      <td>325030.39</td>\n",
       "      <td>304997.27</td>\n",
       "      <td>285868.33</td>\n",
       "      <td>279505.06</td>\n",
       "    </tr>\n",
       "    <tr>\n",
       "      <th>1.00</th>\n",
       "      <td>964511.00</td>\n",
       "      <td>983931.00</td>\n",
       "      <td>1664089.00</td>\n",
       "      <td>891586.00</td>\n",
       "      <td>927171.00</td>\n",
       "      <td>961664.00</td>\n",
       "    </tr>\n",
       "  </tbody>\n",
       "</table>\n",
       "</div>"
      ],
      "text/plain": [
       "      BILL_AMT1  BILL_AMT2   BILL_AMT3  BILL_AMT4  BILL_AMT5  BILL_AMT6\n",
       "0.10     278.90       0.00        0.00       0.00       0.00       0.00\n",
       "0.20    1892.80    1472.80     1187.80     988.00     763.00     476.00\n",
       "0.30    6050.40    5500.00     5219.20    4643.70    3637.00    2701.70\n",
       "0.40   13469.20   12799.60    12197.20   11145.00    9809.20    8770.20\n",
       "0.50   22381.50   21200.00    20088.50   19052.00   18104.50   17071.00\n",
       "0.60   37045.20   34773.80    31401.00   28604.40   26690.40   25508.40\n",
       "0.70   52204.90   50690.00    49217.30   45456.60   40943.20   39252.20\n",
       "0.80   83421.20   80292.20    76777.40   70579.00   65823.00   63150.60\n",
       "0.90  142133.70  136905.50   132051.30  122418.70  115883.00  112110.40\n",
       "0.91  151214.72  145064.86   139419.08  130937.09  123655.36  120740.53\n",
       "0.92  162127.84  155362.72   148633.24  138646.80  132233.96  129224.48\n",
       "0.93  173630.63  167485.28   160049.77  148287.35  141291.49  137836.47\n",
       "0.94  187074.56  180578.40   173241.34  160944.12  151270.38  148093.84\n",
       "0.95  201203.05  194792.20   187821.05  174333.35  165794.30  161912.00\n",
       "0.96  220592.72  211343.08   203652.80  190088.52  181044.44  177592.76\n",
       "0.97  245969.84  236662.72   228277.79  210965.51  198861.03  195114.30\n",
       "0.98  282227.68  274120.58   263208.54  246655.72  228587.04  223436.14\n",
       "0.99  350110.68  337495.28   325030.39  304997.27  285868.33  279505.06\n",
       "1.00  964511.00  983931.00  1664089.00  891586.00  927171.00  961664.00"
      ]
     },
     "execution_count": 37,
     "metadata": {},
     "output_type": "execute_result"
    }
   ],
   "source": [
    "credit_risk_data[['BILL_AMT1','BILL_AMT2','BILL_AMT3','BILL_AMT4','BILL_AMT5','BILL_AMT6']].quantile([0.1,0.2,0.3,0.4,0.5,0.6,0.7,0.8,0.9,0.91,0.92,0.93,0.94,0.95,0.96,0.97,0.98,0.99,1])"
   ]
  },
  {
   "cell_type": "code",
   "execution_count": 39,
   "id": "86b25624",
   "metadata": {},
   "outputs": [
    {
     "data": {
      "text/plain": [
       "<AxesSubplot:>"
      ]
     },
     "execution_count": 39,
     "metadata": {},
     "output_type": "execute_result"
    },
    {
     "data": {
      "image/png": "[encoded data removed]",
      "text/plain": [
       "<Figure size 432x288 with 1 Axes>"
      ]
     },
     "metadata": {
      "needs_background": "light"
     },
     "output_type": "display_data"
    }
   ],
   "source": [
    "credit_risk_data[['BILL_AMT1','BILL_AMT2','BILL_AMT3','BILL_AMT4','BILL_AMT5','BILL_AMT6']].plot(kind='box')"
   ]
  },
  {
   "cell_type": "code",
   "execution_count": 40,
   "id": "ba1ab9f0",
   "metadata": {},
   "outputs": [
    {
     "data": {
      "text/html": [
       "<div>\n",
       "<style scoped>\n",
       "    .dataframe tbody tr th:only-of-type {\n",
       "        vertical-align: middle;\n",
       "    }\n",
       "\n",
       "    .dataframe tbody tr th {\n",
       "        vertical-align: top;\n",
       "    }\n",
       "\n",
       "    .dataframe thead th {\n",
       "        text-align: right;\n",
       "    }\n",
       "</style>\n",
       "<table border=\"1\" class=\"dataframe\">\n",
       "  <thead>\n",
       "    <tr style=\"text-align: right;\">\n",
       "      <th></th>\n",
       "      <th>PAY_AMT1</th>\n",
       "      <th>PAY_AMT2</th>\n",
       "      <th>PAY_AMT3</th>\n",
       "      <th>PAY_AMT4</th>\n",
       "      <th>PAY_AMT5</th>\n",
       "      <th>PAY_AMT6</th>\n",
       "    </tr>\n",
       "  </thead>\n",
       "  <tbody>\n",
       "    <tr>\n",
       "      <th>0.10</th>\n",
       "      <td>0.00</td>\n",
       "      <td>0.00</td>\n",
       "      <td>0.00</td>\n",
       "      <td>0.00</td>\n",
       "      <td>0.00</td>\n",
       "      <td>0.00</td>\n",
       "    </tr>\n",
       "    <tr>\n",
       "      <th>0.20</th>\n",
       "      <td>316.00</td>\n",
       "      <td>268.80</td>\n",
       "      <td>2.80</td>\n",
       "      <td>0.00</td>\n",
       "      <td>0.00</td>\n",
       "      <td>0.00</td>\n",
       "    </tr>\n",
       "    <tr>\n",
       "      <th>0.30</th>\n",
       "      <td>1263.70</td>\n",
       "      <td>1165.00</td>\n",
       "      <td>780.00</td>\n",
       "      <td>500.00</td>\n",
       "      <td>500.00</td>\n",
       "      <td>426.00</td>\n",
       "    </tr>\n",
       "    <tr>\n",
       "      <th>0.40</th>\n",
       "      <td>1724.00</td>\n",
       "      <td>1600.00</td>\n",
       "      <td>1206.00</td>\n",
       "      <td>1000.00</td>\n",
       "      <td>1000.00</td>\n",
       "      <td>1000.00</td>\n",
       "    </tr>\n",
       "    <tr>\n",
       "      <th>0.50</th>\n",
       "      <td>2100.00</td>\n",
       "      <td>2009.00</td>\n",
       "      <td>1800.00</td>\n",
       "      <td>1500.00</td>\n",
       "      <td>1500.00</td>\n",
       "      <td>1500.00</td>\n",
       "    </tr>\n",
       "    <tr>\n",
       "      <th>0.60</th>\n",
       "      <td>3000.00</td>\n",
       "      <td>3000.00</td>\n",
       "      <td>2500.00</td>\n",
       "      <td>2100.00</td>\n",
       "      <td>2123.40</td>\n",
       "      <td>2100.00</td>\n",
       "    </tr>\n",
       "    <tr>\n",
       "      <th>0.70</th>\n",
       "      <td>4309.30</td>\n",
       "      <td>4045.30</td>\n",
       "      <td>3560.30</td>\n",
       "      <td>3200.00</td>\n",
       "      <td>3200.00</td>\n",
       "      <td>3200.00</td>\n",
       "    </tr>\n",
       "    <tr>\n",
       "      <th>0.80</th>\n",
       "      <td>6192.20</td>\n",
       "      <td>6000.00</td>\n",
       "      <td>5284.00</td>\n",
       "      <td>5000.00</td>\n",
       "      <td>5000.00</td>\n",
       "      <td>5000.00</td>\n",
       "    </tr>\n",
       "    <tr>\n",
       "      <th>0.90</th>\n",
       "      <td>10300.00</td>\n",
       "      <td>10401.10</td>\n",
       "      <td>10000.00</td>\n",
       "      <td>9570.60</td>\n",
       "      <td>9500.00</td>\n",
       "      <td>9600.00</td>\n",
       "    </tr>\n",
       "    <tr>\n",
       "      <th>0.91</th>\n",
       "      <td>11174.00</td>\n",
       "      <td>11320.00</td>\n",
       "      <td>10288.36</td>\n",
       "      <td>10000.00</td>\n",
       "      <td>10000.00</td>\n",
       "      <td>10000.00</td>\n",
       "    </tr>\n",
       "    <tr>\n",
       "      <th>0.92</th>\n",
       "      <td>12500.00</td>\n",
       "      <td>12536.16</td>\n",
       "      <td>11558.48</td>\n",
       "      <td>10404.72</td>\n",
       "      <td>10358.16</td>\n",
       "      <td>10500.00</td>\n",
       "    </tr>\n",
       "    <tr>\n",
       "      <th>0.93</th>\n",
       "      <td>14127.07</td>\n",
       "      <td>14131.26</td>\n",
       "      <td>13000.00</td>\n",
       "      <td>11985.21</td>\n",
       "      <td>11964.14</td>\n",
       "      <td>12017.14</td>\n",
       "    </tr>\n",
       "    <tr>\n",
       "      <th>0.94</th>\n",
       "      <td>15510.66</td>\n",
       "      <td>16000.00</td>\n",
       "      <td>15000.00</td>\n",
       "      <td>13949.60</td>\n",
       "      <td>13939.06</td>\n",
       "      <td>14442.86</td>\n",
       "    </tr>\n",
       "    <tr>\n",
       "      <th>0.95</th>\n",
       "      <td>18428.20</td>\n",
       "      <td>19004.35</td>\n",
       "      <td>17589.40</td>\n",
       "      <td>16014.95</td>\n",
       "      <td>16000.00</td>\n",
       "      <td>17343.80</td>\n",
       "    </tr>\n",
       "    <tr>\n",
       "      <th>0.96</th>\n",
       "      <td>21006.24</td>\n",
       "      <td>21408.36</td>\n",
       "      <td>20150.00</td>\n",
       "      <td>20000.00</td>\n",
       "      <td>20000.00</td>\n",
       "      <td>21034.88</td>\n",
       "    </tr>\n",
       "    <tr>\n",
       "      <th>0.97</th>\n",
       "      <td>28232.78</td>\n",
       "      <td>29000.00</td>\n",
       "      <td>27000.33</td>\n",
       "      <td>26665.40</td>\n",
       "      <td>25314.21</td>\n",
       "      <td>29561.76</td>\n",
       "    </tr>\n",
       "    <tr>\n",
       "      <th>0.98</th>\n",
       "      <td>40000.00</td>\n",
       "      <td>41027.88</td>\n",
       "      <td>38661.36</td>\n",
       "      <td>39634.04</td>\n",
       "      <td>37259.66</td>\n",
       "      <td>45010.48</td>\n",
       "    </tr>\n",
       "    <tr>\n",
       "      <th>0.99</th>\n",
       "      <td>66522.18</td>\n",
       "      <td>76651.02</td>\n",
       "      <td>70000.00</td>\n",
       "      <td>67054.44</td>\n",
       "      <td>65607.56</td>\n",
       "      <td>82619.05</td>\n",
       "    </tr>\n",
       "    <tr>\n",
       "      <th>1.00</th>\n",
       "      <td>873552.00</td>\n",
       "      <td>1684259.00</td>\n",
       "      <td>896040.00</td>\n",
       "      <td>621000.00</td>\n",
       "      <td>426529.00</td>\n",
       "      <td>528666.00</td>\n",
       "    </tr>\n",
       "  </tbody>\n",
       "</table>\n",
       "</div>"
      ],
      "text/plain": [
       "       PAY_AMT1    PAY_AMT2   PAY_AMT3   PAY_AMT4   PAY_AMT5   PAY_AMT6\n",
       "0.10       0.00        0.00       0.00       0.00       0.00       0.00\n",
       "0.20     316.00      268.80       2.80       0.00       0.00       0.00\n",
       "0.30    1263.70     1165.00     780.00     500.00     500.00     426.00\n",
       "0.40    1724.00     1600.00    1206.00    1000.00    1000.00    1000.00\n",
       "0.50    2100.00     2009.00    1800.00    1500.00    1500.00    1500.00\n",
       "0.60    3000.00     3000.00    2500.00    2100.00    2123.40    2100.00\n",
       "0.70    4309.30     4045.30    3560.30    3200.00    3200.00    3200.00\n",
       "0.80    6192.20     6000.00    5284.00    5000.00    5000.00    5000.00\n",
       "0.90   10300.00    10401.10   10000.00    9570.60    9500.00    9600.00\n",
       "0.91   11174.00    11320.00   10288.36   10000.00   10000.00   10000.00\n",
       "0.92   12500.00    12536.16   11558.48   10404.72   10358.16   10500.00\n",
       "0.93   14127.07    14131.26   13000.00   11985.21   11964.14   12017.14\n",
       "0.94   15510.66    16000.00   15000.00   13949.60   13939.06   14442.86\n",
       "0.95   18428.20    19004.35   17589.40   16014.95   16000.00   17343.80\n",
       "0.96   21006.24    21408.36   20150.00   20000.00   20000.00   21034.88\n",
       "0.97   28232.78    29000.00   27000.33   26665.40   25314.21   29561.76\n",
       "0.98   40000.00    41027.88   38661.36   39634.04   37259.66   45010.48\n",
       "0.99   66522.18    76651.02   70000.00   67054.44   65607.56   82619.05\n",
       "1.00  873552.00  1684259.00  896040.00  621000.00  426529.00  528666.00"
      ]
     },
     "execution_count": 40,
     "metadata": {},
     "output_type": "execute_result"
    }
   ],
   "source": [
    "credit_risk_data[['PAY_AMT1','PAY_AMT2','PAY_AMT3','PAY_AMT4','PAY_AMT5','PAY_AMT6']].quantile([0.1,0.2,0.3,0.4,0.5,0.6,0.7,0.8,0.9,0.91,0.92,0.93,0.94,0.95,0.96,0.97,0.98,0.99,1])"
   ]
  },
  {
   "cell_type": "code",
   "execution_count": 4,
   "id": "ae4c600e",
   "metadata": {},
   "outputs": [
    {
     "data": {
      "text/plain": [
       "0.10      30000.0\n",
       "0.20      50000.0\n",
       "0.30      70000.0\n",
       "0.40     100000.0\n",
       "0.50     140000.0\n",
       "0.60     180000.0\n",
       "0.70     210000.0\n",
       "0.80     270000.0\n",
       "0.90     360000.0\n",
       "0.91     360000.0\n",
       "0.92     380000.0\n",
       "0.93     390000.0\n",
       "0.94     410000.0\n",
       "0.95     430000.0\n",
       "0.96     460000.0\n",
       "0.97     500000.0\n",
       "0.98     500000.0\n",
       "0.99     500000.0\n",
       "1.00    1000000.0\n",
       "Name: LIMIT_BAL, dtype: float64"
      ]
     },
     "execution_count": 4,
     "metadata": {},
     "output_type": "execute_result"
    }
   ],
   "source": [
    "credit_risk_data['LIMIT_BAL'].quantile([0.1,0.2,0.3,0.4,0.5,0.6,0.7,0.8,0.9,0.91,0.92,0.93,0.94,0.95,0.96,0.97,0.98,0.99,1])"
   ]
  },
  {
   "cell_type": "code",
   "execution_count": 5,
   "id": "6d28ab26",
   "metadata": {},
   "outputs": [
    {
     "data": {
      "text/plain": [
       "2    14030\n",
       "1    10585\n",
       "3     4917\n",
       "5      280\n",
       "4      123\n",
       "6       51\n",
       "0       14\n",
       "Name: EDUCATION, dtype: int64"
      ]
     },
     "execution_count": 5,
     "metadata": {},
     "output_type": "execute_result"
    }
   ],
   "source": [
    "credit_risk_data['EDUCATION'].value_counts()"
   ]
  },
  {
   "cell_type": "markdown",
   "id": "153f5ba6",
   "metadata": {},
   "source": [
    "# Data cleaning"
   ]
  },
  {
   "cell_type": "markdown",
   "id": "bf94c829",
   "metadata": {},
   "source": [
    "Categorical variables"
   ]
  },
  {
   "cell_type": "code",
   "execution_count": 4,
   "id": "607611f7",
   "metadata": {},
   "outputs": [
    {
     "data": {
      "text/plain": [
       "2    14030\n",
       "1    10585\n",
       "3     4917\n",
       "4      468\n",
       "Name: EDUCATION, dtype: int64"
      ]
     },
     "execution_count": 4,
     "metadata": {},
     "output_type": "execute_result"
    }
   ],
   "source": [
    "#Category 5,6,0 values are undocumented so can pour it into category 4 mentioned as others\n",
    "\n",
    "Unknwon=(credit_risk_data['EDUCATION']==5)|(credit_risk_data['EDUCATION']==6)|(credit_risk_data['EDUCATION']==0)\n",
    "credit_risk_data.loc[Unknwon,'EDUCATION']=4\n",
    "credit_risk_data['EDUCATION'].value_counts()"
   ]
  },
  {
   "cell_type": "code",
   "execution_count": 7,
   "id": "1e4d5b5c",
   "metadata": {},
   "outputs": [
    {
     "data": {
      "text/plain": [
       "2    15964\n",
       "1    13659\n",
       "3      323\n",
       "0       54\n",
       "Name: MARRIAGE, dtype: int64"
      ]
     },
     "execution_count": 7,
     "metadata": {},
     "output_type": "execute_result"
    }
   ],
   "source": [
    "credit_risk_data['MARRIAGE'].value_counts()"
   ]
  },
  {
   "cell_type": "code",
   "execution_count": 9,
   "id": "438c9ec5",
   "metadata": {},
   "outputs": [
    {
     "data": {
      "text/plain": [
       "2    15964\n",
       "1    13659\n",
       "3      377\n",
       "Name: MARRIAGE, dtype: int64"
      ]
     },
     "execution_count": 9,
     "metadata": {},
     "output_type": "execute_result"
    }
   ],
   "source": [
    "# category 0 values are undocumented so we can pour it into 3 as mentioned others\n",
    "\n",
    "unknown=(credit_risk_data['MARRIAGE']==0)\n",
    "credit_risk_data.loc[unknown,'MARRIAGE']=3\n",
    "\n",
    "credit_risk_data['MARRIAGE'].value_counts()"
   ]
  },
  {
   "cell_type": "code",
   "execution_count": 10,
   "id": "e4dbc4dc",
   "metadata": {},
   "outputs": [
    {
     "data": {
      "text/plain": [
       " 0    14737\n",
       "-1     5686\n",
       " 1     3688\n",
       "-2     2759\n",
       " 2     2667\n",
       " 3      322\n",
       " 4       76\n",
       " 5       26\n",
       " 8       19\n",
       " 6       11\n",
       " 7        9\n",
       "Name: PAY_0, dtype: int64"
      ]
     },
     "execution_count": 10,
     "metadata": {},
     "output_type": "execute_result"
    }
   ],
   "source": [
    "credit_risk_data['PAY_0'].value_counts()"
   ]
  },
  {
   "cell_type": "code",
   "execution_count": 12,
   "id": "a19d8677",
   "metadata": {},
   "outputs": [
    {
     "data": {
      "text/html": [
       "<div>\n",
       "<style scoped>\n",
       "    .dataframe tbody tr th:only-of-type {\n",
       "        vertical-align: middle;\n",
       "    }\n",
       "\n",
       "    .dataframe tbody tr th {\n",
       "        vertical-align: top;\n",
       "    }\n",
       "\n",
       "    .dataframe thead th {\n",
       "        text-align: right;\n",
       "    }\n",
       "</style>\n",
       "<table border=\"1\" class=\"dataframe\">\n",
       "  <thead>\n",
       "    <tr style=\"text-align: right;\">\n",
       "      <th>default.payment.next.month</th>\n",
       "      <th>0</th>\n",
       "      <th>1</th>\n",
       "    </tr>\n",
       "    <tr>\n",
       "      <th>PAY_2</th>\n",
       "      <th></th>\n",
       "      <th></th>\n",
       "    </tr>\n",
       "  </thead>\n",
       "  <tbody>\n",
       "    <tr>\n",
       "      <th>-2</th>\n",
       "      <td>3091</td>\n",
       "      <td>691</td>\n",
       "    </tr>\n",
       "    <tr>\n",
       "      <th>-1</th>\n",
       "      <td>5084</td>\n",
       "      <td>966</td>\n",
       "    </tr>\n",
       "    <tr>\n",
       "      <th>0</th>\n",
       "      <td>13227</td>\n",
       "      <td>2503</td>\n",
       "    </tr>\n",
       "    <tr>\n",
       "      <th>1</th>\n",
       "      <td>23</td>\n",
       "      <td>5</td>\n",
       "    </tr>\n",
       "    <tr>\n",
       "      <th>2</th>\n",
       "      <td>1743</td>\n",
       "      <td>2184</td>\n",
       "    </tr>\n",
       "    <tr>\n",
       "      <th>3</th>\n",
       "      <td>125</td>\n",
       "      <td>201</td>\n",
       "    </tr>\n",
       "    <tr>\n",
       "      <th>4</th>\n",
       "      <td>49</td>\n",
       "      <td>50</td>\n",
       "    </tr>\n",
       "    <tr>\n",
       "      <th>5</th>\n",
       "      <td>10</td>\n",
       "      <td>15</td>\n",
       "    </tr>\n",
       "    <tr>\n",
       "      <th>6</th>\n",
       "      <td>3</td>\n",
       "      <td>9</td>\n",
       "    </tr>\n",
       "    <tr>\n",
       "      <th>7</th>\n",
       "      <td>8</td>\n",
       "      <td>12</td>\n",
       "    </tr>\n",
       "    <tr>\n",
       "      <th>8</th>\n",
       "      <td>1</td>\n",
       "      <td>0</td>\n",
       "    </tr>\n",
       "  </tbody>\n",
       "</table>\n",
       "</div>"
      ],
      "text/plain": [
       "default.payment.next.month      0     1\n",
       "PAY_2                                  \n",
       "-2                           3091   691\n",
       "-1                           5084   966\n",
       " 0                          13227  2503\n",
       " 1                             23     5\n",
       " 2                           1743  2184\n",
       " 3                            125   201\n",
       " 4                             49    50\n",
       " 5                             10    15\n",
       " 6                              3     9\n",
       " 7                              8    12\n",
       " 8                              1     0"
      ]
     },
     "execution_count": 12,
     "metadata": {},
     "output_type": "execute_result"
    }
   ],
   "source": [
    "cross_cred_data=pd.crosstab(credit_risk_data['PAY_2'],credit_risk_data['default.payment.next.month'])\n",
    "cross_cred_data"
   ]
  },
  {
   "cell_type": "code",
   "execution_count": 14,
   "id": "90986787",
   "metadata": {},
   "outputs": [
    {
     "data": {
      "text/html": [
       "<div>\n",
       "<style scoped>\n",
       "    .dataframe tbody tr th:only-of-type {\n",
       "        vertical-align: middle;\n",
       "    }\n",
       "\n",
       "    .dataframe tbody tr th {\n",
       "        vertical-align: top;\n",
       "    }\n",
       "\n",
       "    .dataframe thead th {\n",
       "        text-align: right;\n",
       "    }\n",
       "</style>\n",
       "<table border=\"1\" class=\"dataframe\">\n",
       "  <thead>\n",
       "    <tr style=\"text-align: right;\">\n",
       "      <th>default.payment.next.month</th>\n",
       "      <th>0</th>\n",
       "      <th>1</th>\n",
       "    </tr>\n",
       "    <tr>\n",
       "      <th>PAY_2</th>\n",
       "      <th></th>\n",
       "      <th></th>\n",
       "    </tr>\n",
       "  </thead>\n",
       "  <tbody>\n",
       "    <tr>\n",
       "      <th>-2</th>\n",
       "      <td>0.82</td>\n",
       "      <td>0.18</td>\n",
       "    </tr>\n",
       "    <tr>\n",
       "      <th>-1</th>\n",
       "      <td>0.84</td>\n",
       "      <td>0.16</td>\n",
       "    </tr>\n",
       "    <tr>\n",
       "      <th>0</th>\n",
       "      <td>0.84</td>\n",
       "      <td>0.16</td>\n",
       "    </tr>\n",
       "    <tr>\n",
       "      <th>1</th>\n",
       "      <td>0.82</td>\n",
       "      <td>0.18</td>\n",
       "    </tr>\n",
       "    <tr>\n",
       "      <th>2</th>\n",
       "      <td>0.44</td>\n",
       "      <td>0.56</td>\n",
       "    </tr>\n",
       "    <tr>\n",
       "      <th>3</th>\n",
       "      <td>0.38</td>\n",
       "      <td>0.62</td>\n",
       "    </tr>\n",
       "    <tr>\n",
       "      <th>4</th>\n",
       "      <td>0.49</td>\n",
       "      <td>0.51</td>\n",
       "    </tr>\n",
       "    <tr>\n",
       "      <th>5</th>\n",
       "      <td>0.40</td>\n",
       "      <td>0.60</td>\n",
       "    </tr>\n",
       "    <tr>\n",
       "      <th>6</th>\n",
       "      <td>0.25</td>\n",
       "      <td>0.75</td>\n",
       "    </tr>\n",
       "    <tr>\n",
       "      <th>7</th>\n",
       "      <td>0.40</td>\n",
       "      <td>0.60</td>\n",
       "    </tr>\n",
       "    <tr>\n",
       "      <th>8</th>\n",
       "      <td>1.00</td>\n",
       "      <td>0.00</td>\n",
       "    </tr>\n",
       "  </tbody>\n",
       "</table>\n",
       "</div>"
      ],
      "text/plain": [
       "default.payment.next.month     0     1\n",
       "PAY_2                                 \n",
       "-2                          0.82  0.18\n",
       "-1                          0.84  0.16\n",
       " 0                          0.84  0.16\n",
       " 1                          0.82  0.18\n",
       " 2                          0.44  0.56\n",
       " 3                          0.38  0.62\n",
       " 4                          0.49  0.51\n",
       " 5                          0.40  0.60\n",
       " 6                          0.25  0.75\n",
       " 7                          0.40  0.60\n",
       " 8                          1.00  0.00"
      ]
     },
     "execution_count": 14,
     "metadata": {},
     "output_type": "execute_result"
    }
   ],
   "source": [
    "round(cross_cred_data.apply(lambda x:x/x.sum(),axis=1),2)"
   ]
  },
  {
   "cell_type": "code",
   "execution_count": 15,
   "id": "ccdba1b4",
   "metadata": {},
   "outputs": [
    {
     "data": {
      "text/plain": [
       "0        False\n",
       "2         True\n",
       "3         True\n",
       "4         True\n",
       "5         True\n",
       "         ...  \n",
       "29995     True\n",
       "29996     True\n",
       "29997     True\n",
       "29998    False\n",
       "29999     True\n",
       "Name: PAY_6, Length: 26921, dtype: bool"
      ]
     },
     "execution_count": 15,
     "metadata": {},
     "output_type": "execute_result"
    }
   ],
   "source": [
    "#treating category -2,-1,0 values as one category 0 as pay daily\n",
    "\n",
    "fill=(credit_risk_data['PAY_0']==-1)|(credit_risk_data['PAY_0']==-2)|(credit_risk_data['PAY_0']==0)\n",
    "credit_risk_data.loc[fill,'PAY_0']==0\n",
    "fill=(credit_risk_data['PAY_2']==-1)|(credit_risk_data['PAY_2']==-2)|(credit_risk_data['PAY_2']==0)\n",
    "credit_risk_data.loc[fill,'PAY_2']==0\n",
    "fill=(credit_risk_data['PAY_3']==-1)|(credit_risk_data['PAY_3']==-2)|(credit_risk_data['PAY_3']==0)\n",
    "credit_risk_data.loc[fill,'PAY_3']==0\n",
    "fill=(credit_risk_data['PAY_4']==-1)|(credit_risk_data['PAY_4']==-2)|(credit_risk_data['PAY_4']==0)\n",
    "credit_risk_data.loc[fill,'PAY_4']==0\n",
    "fill=(credit_risk_data['PAY_5']==-1)|(credit_risk_data['PAY_5']==-2)|(credit_risk_data['PAY_5']==0)\n",
    "credit_risk_data.loc[fill,'PAY_5']==0\n",
    "fill=(credit_risk_data['PAY_6']==-1)|(credit_risk_data['PAY_6']==-2)|(credit_risk_data['PAY_6']==0)\n",
    "credit_risk_data.loc[fill,'PAY_6']==0"
   ]
  },
  {
   "cell_type": "code",
   "execution_count": 20,
   "id": "79640ca9",
   "metadata": {},
   "outputs": [
    {
     "data": {
      "text/html": [
       "<div>\n",
       "<style scoped>\n",
       "    .dataframe tbody tr th:only-of-type {\n",
       "        vertical-align: middle;\n",
       "    }\n",
       "\n",
       "    .dataframe tbody tr th {\n",
       "        vertical-align: top;\n",
       "    }\n",
       "\n",
       "    .dataframe thead th {\n",
       "        text-align: right;\n",
       "    }\n",
       "</style>\n",
       "<table border=\"1\" class=\"dataframe\">\n",
       "  <thead>\n",
       "    <tr style=\"text-align: right;\">\n",
       "      <th></th>\n",
       "      <th>ID</th>\n",
       "      <th>LIMIT_BAL</th>\n",
       "      <th>SEX</th>\n",
       "      <th>EDUCATION</th>\n",
       "      <th>MARRIAGE</th>\n",
       "      <th>AGE</th>\n",
       "      <th>PAY_1</th>\n",
       "      <th>PAY_2</th>\n",
       "      <th>PAY_3</th>\n",
       "      <th>PAY_4</th>\n",
       "      <th>...</th>\n",
       "      <th>BILL_AMT4</th>\n",
       "      <th>BILL_AMT5</th>\n",
       "      <th>BILL_AMT6</th>\n",
       "      <th>PAY_AMT1</th>\n",
       "      <th>PAY_AMT2</th>\n",
       "      <th>PAY_AMT3</th>\n",
       "      <th>PAY_AMT4</th>\n",
       "      <th>PAY_AMT5</th>\n",
       "      <th>PAY_AMT6</th>\n",
       "      <th>def_pay</th>\n",
       "    </tr>\n",
       "  </thead>\n",
       "  <tbody>\n",
       "    <tr>\n",
       "      <th>0</th>\n",
       "      <td>1</td>\n",
       "      <td>20000.0</td>\n",
       "      <td>2</td>\n",
       "      <td>2</td>\n",
       "      <td>1</td>\n",
       "      <td>24</td>\n",
       "      <td>2</td>\n",
       "      <td>2</td>\n",
       "      <td>-1</td>\n",
       "      <td>-1</td>\n",
       "      <td>...</td>\n",
       "      <td>0.0</td>\n",
       "      <td>0.0</td>\n",
       "      <td>0.0</td>\n",
       "      <td>0.0</td>\n",
       "      <td>689.0</td>\n",
       "      <td>0.0</td>\n",
       "      <td>0.0</td>\n",
       "      <td>0.0</td>\n",
       "      <td>0.0</td>\n",
       "      <td>1</td>\n",
       "    </tr>\n",
       "    <tr>\n",
       "      <th>1</th>\n",
       "      <td>2</td>\n",
       "      <td>120000.0</td>\n",
       "      <td>2</td>\n",
       "      <td>2</td>\n",
       "      <td>2</td>\n",
       "      <td>26</td>\n",
       "      <td>-1</td>\n",
       "      <td>2</td>\n",
       "      <td>0</td>\n",
       "      <td>0</td>\n",
       "      <td>...</td>\n",
       "      <td>3272.0</td>\n",
       "      <td>3455.0</td>\n",
       "      <td>3261.0</td>\n",
       "      <td>0.0</td>\n",
       "      <td>1000.0</td>\n",
       "      <td>1000.0</td>\n",
       "      <td>1000.0</td>\n",
       "      <td>0.0</td>\n",
       "      <td>2000.0</td>\n",
       "      <td>1</td>\n",
       "    </tr>\n",
       "    <tr>\n",
       "      <th>2</th>\n",
       "      <td>3</td>\n",
       "      <td>90000.0</td>\n",
       "      <td>2</td>\n",
       "      <td>2</td>\n",
       "      <td>2</td>\n",
       "      <td>34</td>\n",
       "      <td>0</td>\n",
       "      <td>0</td>\n",
       "      <td>0</td>\n",
       "      <td>0</td>\n",
       "      <td>...</td>\n",
       "      <td>14331.0</td>\n",
       "      <td>14948.0</td>\n",
       "      <td>15549.0</td>\n",
       "      <td>1518.0</td>\n",
       "      <td>1500.0</td>\n",
       "      <td>1000.0</td>\n",
       "      <td>1000.0</td>\n",
       "      <td>1000.0</td>\n",
       "      <td>5000.0</td>\n",
       "      <td>0</td>\n",
       "    </tr>\n",
       "    <tr>\n",
       "      <th>3</th>\n",
       "      <td>4</td>\n",
       "      <td>50000.0</td>\n",
       "      <td>2</td>\n",
       "      <td>2</td>\n",
       "      <td>1</td>\n",
       "      <td>37</td>\n",
       "      <td>0</td>\n",
       "      <td>0</td>\n",
       "      <td>0</td>\n",
       "      <td>0</td>\n",
       "      <td>...</td>\n",
       "      <td>28314.0</td>\n",
       "      <td>28959.0</td>\n",
       "      <td>29547.0</td>\n",
       "      <td>2000.0</td>\n",
       "      <td>2019.0</td>\n",
       "      <td>1200.0</td>\n",
       "      <td>1100.0</td>\n",
       "      <td>1069.0</td>\n",
       "      <td>1000.0</td>\n",
       "      <td>0</td>\n",
       "    </tr>\n",
       "    <tr>\n",
       "      <th>4</th>\n",
       "      <td>5</td>\n",
       "      <td>50000.0</td>\n",
       "      <td>1</td>\n",
       "      <td>2</td>\n",
       "      <td>1</td>\n",
       "      <td>57</td>\n",
       "      <td>-1</td>\n",
       "      <td>0</td>\n",
       "      <td>-1</td>\n",
       "      <td>0</td>\n",
       "      <td>...</td>\n",
       "      <td>20940.0</td>\n",
       "      <td>19146.0</td>\n",
       "      <td>19131.0</td>\n",
       "      <td>2000.0</td>\n",
       "      <td>36681.0</td>\n",
       "      <td>10000.0</td>\n",
       "      <td>9000.0</td>\n",
       "      <td>689.0</td>\n",
       "      <td>679.0</td>\n",
       "      <td>0</td>\n",
       "    </tr>\n",
       "  </tbody>\n",
       "</table>\n",
       "<p>5 rows × 25 columns</p>\n",
       "</div>"
      ],
      "text/plain": [
       "   ID  LIMIT_BAL  SEX  EDUCATION  MARRIAGE  AGE  PAY_1  PAY_2  PAY_3  PAY_4  \\\n",
       "0   1    20000.0    2          2         1   24      2      2     -1     -1   \n",
       "1   2   120000.0    2          2         2   26     -1      2      0      0   \n",
       "2   3    90000.0    2          2         2   34      0      0      0      0   \n",
       "3   4    50000.0    2          2         1   37      0      0      0      0   \n",
       "4   5    50000.0    1          2         1   57     -1      0     -1      0   \n",
       "\n",
       "   ...  BILL_AMT4  BILL_AMT5  BILL_AMT6  PAY_AMT1  PAY_AMT2  PAY_AMT3  \\\n",
       "0  ...        0.0        0.0        0.0       0.0     689.0       0.0   \n",
       "1  ...     3272.0     3455.0     3261.0       0.0    1000.0    1000.0   \n",
       "2  ...    14331.0    14948.0    15549.0    1518.0    1500.0    1000.0   \n",
       "3  ...    28314.0    28959.0    29547.0    2000.0    2019.0    1200.0   \n",
       "4  ...    20940.0    19146.0    19131.0    2000.0   36681.0   10000.0   \n",
       "\n",
       "   PAY_AMT4  PAY_AMT5  PAY_AMT6  def_pay  \n",
       "0       0.0       0.0       0.0        1  \n",
       "1    1000.0       0.0    2000.0        1  \n",
       "2    1000.0    1000.0    5000.0        0  \n",
       "3    1100.0    1069.0    1000.0        0  \n",
       "4    9000.0     689.0     679.0        0  \n",
       "\n",
       "[5 rows x 25 columns]"
      ]
     },
     "execution_count": 20,
     "metadata": {},
     "output_type": "execute_result"
    }
   ],
   "source": [
    "#Renaming PAY_0 as PAY_1 and default.payment.next.month as Def_pay\n",
    "\n",
    "credit_risk_data.rename(columns={'PAY_0':'PAY_1','default.payment.next.month':'def_pay'},inplace=True)\n",
    "credit_risk_data.head()"
   ]
  },
  {
   "cell_type": "markdown",
   "id": "8e6e5fb4",
   "metadata": {},
   "source": [
    "# Cleaning continuous variable"
   ]
  },
  {
   "cell_type": "code",
   "execution_count": 21,
   "id": "2e9dcdc9",
   "metadata": {},
   "outputs": [
    {
     "data": {
      "text/html": [
       "<div>\n",
       "<style scoped>\n",
       "    .dataframe tbody tr th:only-of-type {\n",
       "        vertical-align: middle;\n",
       "    }\n",
       "\n",
       "    .dataframe tbody tr th {\n",
       "        vertical-align: top;\n",
       "    }\n",
       "\n",
       "    .dataframe thead th {\n",
       "        text-align: right;\n",
       "    }\n",
       "</style>\n",
       "<table border=\"1\" class=\"dataframe\">\n",
       "  <thead>\n",
       "    <tr style=\"text-align: right;\">\n",
       "      <th></th>\n",
       "      <th>BILL_AMT1</th>\n",
       "      <th>BILL_AMT2</th>\n",
       "      <th>BILL_AMT3</th>\n",
       "      <th>BILL_AMT4</th>\n",
       "      <th>BILL_AMT5</th>\n",
       "      <th>BILL_AMT6</th>\n",
       "    </tr>\n",
       "  </thead>\n",
       "  <tbody>\n",
       "    <tr>\n",
       "      <th>0.10</th>\n",
       "      <td>278.90</td>\n",
       "      <td>0.00</td>\n",
       "      <td>0.00</td>\n",
       "      <td>0.00</td>\n",
       "      <td>0.00</td>\n",
       "      <td>0.00</td>\n",
       "    </tr>\n",
       "    <tr>\n",
       "      <th>0.20</th>\n",
       "      <td>1892.80</td>\n",
       "      <td>1472.80</td>\n",
       "      <td>1187.80</td>\n",
       "      <td>988.00</td>\n",
       "      <td>763.00</td>\n",
       "      <td>476.00</td>\n",
       "    </tr>\n",
       "    <tr>\n",
       "      <th>0.30</th>\n",
       "      <td>6050.40</td>\n",
       "      <td>5500.00</td>\n",
       "      <td>5219.20</td>\n",
       "      <td>4643.70</td>\n",
       "      <td>3637.00</td>\n",
       "      <td>2701.70</td>\n",
       "    </tr>\n",
       "    <tr>\n",
       "      <th>0.40</th>\n",
       "      <td>13469.20</td>\n",
       "      <td>12799.60</td>\n",
       "      <td>12197.20</td>\n",
       "      <td>11145.00</td>\n",
       "      <td>9809.20</td>\n",
       "      <td>8770.20</td>\n",
       "    </tr>\n",
       "    <tr>\n",
       "      <th>0.50</th>\n",
       "      <td>22381.50</td>\n",
       "      <td>21200.00</td>\n",
       "      <td>20088.50</td>\n",
       "      <td>19052.00</td>\n",
       "      <td>18104.50</td>\n",
       "      <td>17071.00</td>\n",
       "    </tr>\n",
       "    <tr>\n",
       "      <th>0.60</th>\n",
       "      <td>37045.20</td>\n",
       "      <td>34773.80</td>\n",
       "      <td>31401.00</td>\n",
       "      <td>28604.40</td>\n",
       "      <td>26690.40</td>\n",
       "      <td>25508.40</td>\n",
       "    </tr>\n",
       "    <tr>\n",
       "      <th>0.70</th>\n",
       "      <td>52204.90</td>\n",
       "      <td>50690.00</td>\n",
       "      <td>49217.30</td>\n",
       "      <td>45456.60</td>\n",
       "      <td>40943.20</td>\n",
       "      <td>39252.20</td>\n",
       "    </tr>\n",
       "    <tr>\n",
       "      <th>0.80</th>\n",
       "      <td>83421.20</td>\n",
       "      <td>80292.20</td>\n",
       "      <td>76777.40</td>\n",
       "      <td>70579.00</td>\n",
       "      <td>65823.00</td>\n",
       "      <td>63150.60</td>\n",
       "    </tr>\n",
       "    <tr>\n",
       "      <th>0.90</th>\n",
       "      <td>142133.70</td>\n",
       "      <td>136905.50</td>\n",
       "      <td>132051.30</td>\n",
       "      <td>122418.70</td>\n",
       "      <td>115883.00</td>\n",
       "      <td>112110.40</td>\n",
       "    </tr>\n",
       "    <tr>\n",
       "      <th>0.91</th>\n",
       "      <td>151214.72</td>\n",
       "      <td>145064.86</td>\n",
       "      <td>139419.08</td>\n",
       "      <td>130937.09</td>\n",
       "      <td>123655.36</td>\n",
       "      <td>120740.53</td>\n",
       "    </tr>\n",
       "    <tr>\n",
       "      <th>0.92</th>\n",
       "      <td>162127.84</td>\n",
       "      <td>155362.72</td>\n",
       "      <td>148633.24</td>\n",
       "      <td>138646.80</td>\n",
       "      <td>132233.96</td>\n",
       "      <td>129224.48</td>\n",
       "    </tr>\n",
       "    <tr>\n",
       "      <th>0.93</th>\n",
       "      <td>173630.63</td>\n",
       "      <td>167485.28</td>\n",
       "      <td>160049.77</td>\n",
       "      <td>148287.35</td>\n",
       "      <td>141291.49</td>\n",
       "      <td>137836.47</td>\n",
       "    </tr>\n",
       "    <tr>\n",
       "      <th>0.94</th>\n",
       "      <td>187074.56</td>\n",
       "      <td>180578.40</td>\n",
       "      <td>173241.34</td>\n",
       "      <td>160944.12</td>\n",
       "      <td>151270.38</td>\n",
       "      <td>148093.84</td>\n",
       "    </tr>\n",
       "    <tr>\n",
       "      <th>0.95</th>\n",
       "      <td>201203.05</td>\n",
       "      <td>194792.20</td>\n",
       "      <td>187821.05</td>\n",
       "      <td>174333.35</td>\n",
       "      <td>165794.30</td>\n",
       "      <td>161912.00</td>\n",
       "    </tr>\n",
       "    <tr>\n",
       "      <th>0.96</th>\n",
       "      <td>220592.72</td>\n",
       "      <td>211343.08</td>\n",
       "      <td>203652.80</td>\n",
       "      <td>190088.52</td>\n",
       "      <td>181044.44</td>\n",
       "      <td>177592.76</td>\n",
       "    </tr>\n",
       "    <tr>\n",
       "      <th>0.97</th>\n",
       "      <td>245969.84</td>\n",
       "      <td>236662.72</td>\n",
       "      <td>228277.79</td>\n",
       "      <td>210965.51</td>\n",
       "      <td>198861.03</td>\n",
       "      <td>195114.30</td>\n",
       "    </tr>\n",
       "    <tr>\n",
       "      <th>0.98</th>\n",
       "      <td>282227.68</td>\n",
       "      <td>274120.58</td>\n",
       "      <td>263208.54</td>\n",
       "      <td>246655.72</td>\n",
       "      <td>228587.04</td>\n",
       "      <td>223436.14</td>\n",
       "    </tr>\n",
       "    <tr>\n",
       "      <th>0.99</th>\n",
       "      <td>350110.68</td>\n",
       "      <td>337495.28</td>\n",
       "      <td>325030.39</td>\n",
       "      <td>304997.27</td>\n",
       "      <td>285868.33</td>\n",
       "      <td>279505.06</td>\n",
       "    </tr>\n",
       "    <tr>\n",
       "      <th>1.00</th>\n",
       "      <td>964511.00</td>\n",
       "      <td>983931.00</td>\n",
       "      <td>1664089.00</td>\n",
       "      <td>891586.00</td>\n",
       "      <td>927171.00</td>\n",
       "      <td>961664.00</td>\n",
       "    </tr>\n",
       "  </tbody>\n",
       "</table>\n",
       "</div>"
      ],
      "text/plain": [
       "      BILL_AMT1  BILL_AMT2   BILL_AMT3  BILL_AMT4  BILL_AMT5  BILL_AMT6\n",
       "0.10     278.90       0.00        0.00       0.00       0.00       0.00\n",
       "0.20    1892.80    1472.80     1187.80     988.00     763.00     476.00\n",
       "0.30    6050.40    5500.00     5219.20    4643.70    3637.00    2701.70\n",
       "0.40   13469.20   12799.60    12197.20   11145.00    9809.20    8770.20\n",
       "0.50   22381.50   21200.00    20088.50   19052.00   18104.50   17071.00\n",
       "0.60   37045.20   34773.80    31401.00   28604.40   26690.40   25508.40\n",
       "0.70   52204.90   50690.00    49217.30   45456.60   40943.20   39252.20\n",
       "0.80   83421.20   80292.20    76777.40   70579.00   65823.00   63150.60\n",
       "0.90  142133.70  136905.50   132051.30  122418.70  115883.00  112110.40\n",
       "0.91  151214.72  145064.86   139419.08  130937.09  123655.36  120740.53\n",
       "0.92  162127.84  155362.72   148633.24  138646.80  132233.96  129224.48\n",
       "0.93  173630.63  167485.28   160049.77  148287.35  141291.49  137836.47\n",
       "0.94  187074.56  180578.40   173241.34  160944.12  151270.38  148093.84\n",
       "0.95  201203.05  194792.20   187821.05  174333.35  165794.30  161912.00\n",
       "0.96  220592.72  211343.08   203652.80  190088.52  181044.44  177592.76\n",
       "0.97  245969.84  236662.72   228277.79  210965.51  198861.03  195114.30\n",
       "0.98  282227.68  274120.58   263208.54  246655.72  228587.04  223436.14\n",
       "0.99  350110.68  337495.28   325030.39  304997.27  285868.33  279505.06\n",
       "1.00  964511.00  983931.00  1664089.00  891586.00  927171.00  961664.00"
      ]
     },
     "execution_count": 21,
     "metadata": {},
     "output_type": "execute_result"
    }
   ],
   "source": [
    "credit_risk_data[['BILL_AMT1','BILL_AMT2','BILL_AMT3','BILL_AMT4','BILL_AMT5','BILL_AMT6']].quantile([0.1,0.2,0.3,0.4,0.5,0.6,0.7,0.8,0.9,0.91,0.92,0.93,0.94,0.95,0.96,0.97,0.98,0.99,1])"
   ]
  },
  {
   "cell_type": "code",
   "execution_count": 26,
   "id": "23c9cd18",
   "metadata": {},
   "outputs": [
    {
     "name": "stderr",
     "output_type": "stream",
     "text": [
      "C:\\Users\\SATISH~1\\AppData\\Local\\Temp/ipykernel_24584/2330500819.py:1: SettingWithCopyWarning: \n",
      "A value is trying to be set on a copy of a slice from a DataFrame\n",
      "\n",
      "See the caveats in the documentation: https://pandas.pydata.org/pandas-docs/stable/user_guide/indexing.html#returning-a-view-versus-a-copy\n",
      "  credit_risk_data['BILL_AMT1'][credit_risk_data['BILL_AMT1']>350110.68]=credit_risk_data['BILL_AMT1'].median()\n",
      "C:\\Users\\SATISH~1\\AppData\\Local\\Temp/ipykernel_24584/2330500819.py:2: SettingWithCopyWarning: \n",
      "A value is trying to be set on a copy of a slice from a DataFrame\n",
      "\n",
      "See the caveats in the documentation: https://pandas.pydata.org/pandas-docs/stable/user_guide/indexing.html#returning-a-view-versus-a-copy\n",
      "  credit_risk_data['BILL_AMT2'][credit_risk_data['BILL_AMT2']>337495.28]=credit_risk_data['BILL_AMT2'].median()\n",
      "C:\\Users\\SATISH~1\\AppData\\Local\\Temp/ipykernel_24584/2330500819.py:3: SettingWithCopyWarning: \n",
      "A value is trying to be set on a copy of a slice from a DataFrame\n",
      "\n",
      "See the caveats in the documentation: https://pandas.pydata.org/pandas-docs/stable/user_guide/indexing.html#returning-a-view-versus-a-copy\n",
      "  credit_risk_data['BILL_AMT3'][credit_risk_data['BILL_AMT3']>325030.39]=credit_risk_data['BILL_AMT3'].median()\n",
      "C:\\Users\\SATISH~1\\AppData\\Local\\Temp/ipykernel_24584/2330500819.py:4: SettingWithCopyWarning: \n",
      "A value is trying to be set on a copy of a slice from a DataFrame\n",
      "\n",
      "See the caveats in the documentation: https://pandas.pydata.org/pandas-docs/stable/user_guide/indexing.html#returning-a-view-versus-a-copy\n",
      "  credit_risk_data['BILL_AMT4'][credit_risk_data['BILL_AMT4']>304997.27]=credit_risk_data['BILL_AMT4'].median()\n",
      "C:\\Users\\SATISH~1\\AppData\\Local\\Temp/ipykernel_24584/2330500819.py:5: SettingWithCopyWarning: \n",
      "A value is trying to be set on a copy of a slice from a DataFrame\n",
      "\n",
      "See the caveats in the documentation: https://pandas.pydata.org/pandas-docs/stable/user_guide/indexing.html#returning-a-view-versus-a-copy\n",
      "  credit_risk_data['BILL_AMT5'][credit_risk_data['BILL_AMT5']>285868.33]=credit_risk_data['BILL_AMT5'].median()\n",
      "C:\\Users\\SATISH~1\\AppData\\Local\\Temp/ipykernel_24584/2330500819.py:6: SettingWithCopyWarning: \n",
      "A value is trying to be set on a copy of a slice from a DataFrame\n",
      "\n",
      "See the caveats in the documentation: https://pandas.pydata.org/pandas-docs/stable/user_guide/indexing.html#returning-a-view-versus-a-copy\n",
      "  credit_risk_data['BILL_AMT6'][credit_risk_data['BILL_AMT6']>279505.06]=credit_risk_data['BILL_AMT6'].median()\n"
     ]
    }
   ],
   "source": [
    "credit_risk_data['BILL_AMT1'][credit_risk_data['BILL_AMT1']>350110.68]=credit_risk_data['BILL_AMT1'].median()\n",
    "credit_risk_data['BILL_AMT2'][credit_risk_data['BILL_AMT2']>337495.28]=credit_risk_data['BILL_AMT2'].median()\n",
    "credit_risk_data['BILL_AMT3'][credit_risk_data['BILL_AMT3']>325030.39]=credit_risk_data['BILL_AMT3'].median()\n",
    "credit_risk_data['BILL_AMT4'][credit_risk_data['BILL_AMT4']>304997.27]=credit_risk_data['BILL_AMT4'].median()\n",
    "credit_risk_data['BILL_AMT5'][credit_risk_data['BILL_AMT5']>285868.33]=credit_risk_data['BILL_AMT5'].median()\n",
    "credit_risk_data['BILL_AMT6'][credit_risk_data['BILL_AMT6']>279505.06]=credit_risk_data['BILL_AMT6'].median()"
   ]
  },
  {
   "cell_type": "code",
   "execution_count": 27,
   "id": "76d55205",
   "metadata": {},
   "outputs": [
    {
     "data": {
      "text/html": [
       "<div>\n",
       "<style scoped>\n",
       "    .dataframe tbody tr th:only-of-type {\n",
       "        vertical-align: middle;\n",
       "    }\n",
       "\n",
       "    .dataframe tbody tr th {\n",
       "        vertical-align: top;\n",
       "    }\n",
       "\n",
       "    .dataframe thead th {\n",
       "        text-align: right;\n",
       "    }\n",
       "</style>\n",
       "<table border=\"1\" class=\"dataframe\">\n",
       "  <thead>\n",
       "    <tr style=\"text-align: right;\">\n",
       "      <th></th>\n",
       "      <th>BILL_AMT1</th>\n",
       "      <th>BILL_AMT2</th>\n",
       "      <th>BILL_AMT3</th>\n",
       "      <th>BILL_AMT4</th>\n",
       "      <th>BILL_AMT5</th>\n",
       "      <th>BILL_AMT6</th>\n",
       "    </tr>\n",
       "  </thead>\n",
       "  <tbody>\n",
       "    <tr>\n",
       "      <th>0.10</th>\n",
       "      <td>278.90</td>\n",
       "      <td>0.00</td>\n",
       "      <td>0.000</td>\n",
       "      <td>0.00</td>\n",
       "      <td>0.000</td>\n",
       "      <td>0.00</td>\n",
       "    </tr>\n",
       "    <tr>\n",
       "      <th>0.20</th>\n",
       "      <td>1892.80</td>\n",
       "      <td>1472.80</td>\n",
       "      <td>1187.800</td>\n",
       "      <td>988.00</td>\n",
       "      <td>763.000</td>\n",
       "      <td>476.00</td>\n",
       "    </tr>\n",
       "    <tr>\n",
       "      <th>0.30</th>\n",
       "      <td>6050.40</td>\n",
       "      <td>5500.00</td>\n",
       "      <td>5219.200</td>\n",
       "      <td>4643.70</td>\n",
       "      <td>3637.000</td>\n",
       "      <td>2701.70</td>\n",
       "    </tr>\n",
       "    <tr>\n",
       "      <th>0.40</th>\n",
       "      <td>13469.20</td>\n",
       "      <td>12799.60</td>\n",
       "      <td>12197.200</td>\n",
       "      <td>11145.00</td>\n",
       "      <td>9809.200</td>\n",
       "      <td>8770.20</td>\n",
       "    </tr>\n",
       "    <tr>\n",
       "      <th>0.50</th>\n",
       "      <td>22381.25</td>\n",
       "      <td>21197.75</td>\n",
       "      <td>20088.125</td>\n",
       "      <td>19052.00</td>\n",
       "      <td>18104.125</td>\n",
       "      <td>17068.75</td>\n",
       "    </tr>\n",
       "    <tr>\n",
       "      <th>0.60</th>\n",
       "      <td>34951.00</td>\n",
       "      <td>32802.40</td>\n",
       "      <td>30128.000</td>\n",
       "      <td>27850.00</td>\n",
       "      <td>25635.200</td>\n",
       "      <td>24263.80</td>\n",
       "    </tr>\n",
       "    <tr>\n",
       "      <th>0.70</th>\n",
       "      <td>50679.30</td>\n",
       "      <td>49664.30</td>\n",
       "      <td>48167.800</td>\n",
       "      <td>43514.20</td>\n",
       "      <td>38900.900</td>\n",
       "      <td>37081.20</td>\n",
       "    </tr>\n",
       "    <tr>\n",
       "      <th>0.80</th>\n",
       "      <td>79868.00</td>\n",
       "      <td>77361.40</td>\n",
       "      <td>73069.800</td>\n",
       "      <td>67501.20</td>\n",
       "      <td>61746.400</td>\n",
       "      <td>59393.00</td>\n",
       "    </tr>\n",
       "    <tr>\n",
       "      <th>0.90</th>\n",
       "      <td>134628.90</td>\n",
       "      <td>130283.90</td>\n",
       "      <td>124691.500</td>\n",
       "      <td>115045.10</td>\n",
       "      <td>108074.900</td>\n",
       "      <td>105286.10</td>\n",
       "    </tr>\n",
       "    <tr>\n",
       "      <th>0.91</th>\n",
       "      <td>142133.53</td>\n",
       "      <td>136905.05</td>\n",
       "      <td>132051.270</td>\n",
       "      <td>122418.43</td>\n",
       "      <td>115882.900</td>\n",
       "      <td>112110.06</td>\n",
       "    </tr>\n",
       "    <tr>\n",
       "      <th>0.92</th>\n",
       "      <td>151214.64</td>\n",
       "      <td>145064.32</td>\n",
       "      <td>139418.960</td>\n",
       "      <td>130937.08</td>\n",
       "      <td>123655.320</td>\n",
       "      <td>120740.36</td>\n",
       "    </tr>\n",
       "    <tr>\n",
       "      <th>0.93</th>\n",
       "      <td>162126.61</td>\n",
       "      <td>155362.63</td>\n",
       "      <td>148632.710</td>\n",
       "      <td>138645.45</td>\n",
       "      <td>132233.840</td>\n",
       "      <td>129224.42</td>\n",
       "    </tr>\n",
       "    <tr>\n",
       "      <th>0.94</th>\n",
       "      <td>173630.54</td>\n",
       "      <td>167485.24</td>\n",
       "      <td>160048.660</td>\n",
       "      <td>148287.30</td>\n",
       "      <td>141291.420</td>\n",
       "      <td>137836.26</td>\n",
       "    </tr>\n",
       "    <tr>\n",
       "      <th>0.95</th>\n",
       "      <td>187073.80</td>\n",
       "      <td>180578.00</td>\n",
       "      <td>173240.450</td>\n",
       "      <td>160944.10</td>\n",
       "      <td>151270.150</td>\n",
       "      <td>148093.70</td>\n",
       "    </tr>\n",
       "    <tr>\n",
       "      <th>0.96</th>\n",
       "      <td>201202.84</td>\n",
       "      <td>194792.16</td>\n",
       "      <td>187820.840</td>\n",
       "      <td>174332.68</td>\n",
       "      <td>165794.240</td>\n",
       "      <td>161912.00</td>\n",
       "    </tr>\n",
       "    <tr>\n",
       "      <th>0.97</th>\n",
       "      <td>220591.54</td>\n",
       "      <td>211342.31</td>\n",
       "      <td>203652.350</td>\n",
       "      <td>190087.64</td>\n",
       "      <td>181043.580</td>\n",
       "      <td>177591.32</td>\n",
       "    </tr>\n",
       "    <tr>\n",
       "      <th>0.98</th>\n",
       "      <td>245969.56</td>\n",
       "      <td>236662.48</td>\n",
       "      <td>228276.860</td>\n",
       "      <td>210965.34</td>\n",
       "      <td>198861.020</td>\n",
       "      <td>195114.20</td>\n",
       "    </tr>\n",
       "    <tr>\n",
       "      <th>0.99</th>\n",
       "      <td>282224.84</td>\n",
       "      <td>274119.79</td>\n",
       "      <td>263206.270</td>\n",
       "      <td>246652.36</td>\n",
       "      <td>228577.520</td>\n",
       "      <td>223435.07</td>\n",
       "    </tr>\n",
       "    <tr>\n",
       "      <th>1.00</th>\n",
       "      <td>350110.00</td>\n",
       "      <td>337495.00</td>\n",
       "      <td>325024.000</td>\n",
       "      <td>304997.00</td>\n",
       "      <td>285868.000</td>\n",
       "      <td>279503.00</td>\n",
       "    </tr>\n",
       "  </tbody>\n",
       "</table>\n",
       "</div>"
      ],
      "text/plain": [
       "      BILL_AMT1  BILL_AMT2   BILL_AMT3  BILL_AMT4   BILL_AMT5  BILL_AMT6\n",
       "0.10     278.90       0.00       0.000       0.00       0.000       0.00\n",
       "0.20    1892.80    1472.80    1187.800     988.00     763.000     476.00\n",
       "0.30    6050.40    5500.00    5219.200    4643.70    3637.000    2701.70\n",
       "0.40   13469.20   12799.60   12197.200   11145.00    9809.200    8770.20\n",
       "0.50   22381.25   21197.75   20088.125   19052.00   18104.125   17068.75\n",
       "0.60   34951.00   32802.40   30128.000   27850.00   25635.200   24263.80\n",
       "0.70   50679.30   49664.30   48167.800   43514.20   38900.900   37081.20\n",
       "0.80   79868.00   77361.40   73069.800   67501.20   61746.400   59393.00\n",
       "0.90  134628.90  130283.90  124691.500  115045.10  108074.900  105286.10\n",
       "0.91  142133.53  136905.05  132051.270  122418.43  115882.900  112110.06\n",
       "0.92  151214.64  145064.32  139418.960  130937.08  123655.320  120740.36\n",
       "0.93  162126.61  155362.63  148632.710  138645.45  132233.840  129224.42\n",
       "0.94  173630.54  167485.24  160048.660  148287.30  141291.420  137836.26\n",
       "0.95  187073.80  180578.00  173240.450  160944.10  151270.150  148093.70\n",
       "0.96  201202.84  194792.16  187820.840  174332.68  165794.240  161912.00\n",
       "0.97  220591.54  211342.31  203652.350  190087.64  181043.580  177591.32\n",
       "0.98  245969.56  236662.48  228276.860  210965.34  198861.020  195114.20\n",
       "0.99  282224.84  274119.79  263206.270  246652.36  228577.520  223435.07\n",
       "1.00  350110.00  337495.00  325024.000  304997.00  285868.000  279503.00"
      ]
     },
     "execution_count": 27,
     "metadata": {},
     "output_type": "execute_result"
    }
   ],
   "source": [
    "credit_risk_data[['BILL_AMT1','BILL_AMT2','BILL_AMT3','BILL_AMT4','BILL_AMT5','BILL_AMT6']].quantile([0.1,0.2,0.3,0.4,0.5,0.6,0.7,0.8,0.9,0.91,0.92,0.93,0.94,0.95,0.96,0.97,0.98,0.99,1])"
   ]
  },
  {
   "cell_type": "code",
   "execution_count": 28,
   "id": "ae23f579",
   "metadata": {},
   "outputs": [
    {
     "data": {
      "text/plain": [
       "<AxesSubplot:>"
      ]
     },
     "execution_count": 28,
     "metadata": {},
     "output_type": "execute_result"
    },
    {
     "data": {
      "image/png": "[encoded data removed]",
      "text/plain": [
       "<Figure size 432x288 with 1 Axes>"
      ]
     },
     "metadata": {
      "needs_background": "light"
     },
     "output_type": "display_data"
    }
   ],
   "source": [
    "credit_risk_data[['BILL_AMT1','BILL_AMT2','BILL_AMT3','BILL_AMT4','BILL_AMT5','BILL_AMT6']].plot(kind='box')"
   ]
  },
  {
   "cell_type": "code",
   "execution_count": 29,
   "id": "35a2e5c3",
   "metadata": {},
   "outputs": [
    {
     "data": {
      "text/html": [
       "<div>\n",
       "<style scoped>\n",
       "    .dataframe tbody tr th:only-of-type {\n",
       "        vertical-align: middle;\n",
       "    }\n",
       "\n",
       "    .dataframe tbody tr th {\n",
       "        vertical-align: top;\n",
       "    }\n",
       "\n",
       "    .dataframe thead th {\n",
       "        text-align: right;\n",
       "    }\n",
       "</style>\n",
       "<table border=\"1\" class=\"dataframe\">\n",
       "  <thead>\n",
       "    <tr style=\"text-align: right;\">\n",
       "      <th></th>\n",
       "      <th>PAY_AMT1</th>\n",
       "      <th>PAY_AMT2</th>\n",
       "      <th>PAY_AMT3</th>\n",
       "      <th>PAY_AMT4</th>\n",
       "      <th>PAY_AMT5</th>\n",
       "      <th>PAY_AMT6</th>\n",
       "    </tr>\n",
       "  </thead>\n",
       "  <tbody>\n",
       "    <tr>\n",
       "      <th>0.10</th>\n",
       "      <td>0.00</td>\n",
       "      <td>0.00</td>\n",
       "      <td>0.00</td>\n",
       "      <td>0.00</td>\n",
       "      <td>0.00</td>\n",
       "      <td>0.00</td>\n",
       "    </tr>\n",
       "    <tr>\n",
       "      <th>0.20</th>\n",
       "      <td>316.00</td>\n",
       "      <td>268.80</td>\n",
       "      <td>2.80</td>\n",
       "      <td>0.00</td>\n",
       "      <td>0.00</td>\n",
       "      <td>0.00</td>\n",
       "    </tr>\n",
       "    <tr>\n",
       "      <th>0.30</th>\n",
       "      <td>1263.70</td>\n",
       "      <td>1165.00</td>\n",
       "      <td>780.00</td>\n",
       "      <td>500.00</td>\n",
       "      <td>500.00</td>\n",
       "      <td>426.00</td>\n",
       "    </tr>\n",
       "    <tr>\n",
       "      <th>0.40</th>\n",
       "      <td>1724.00</td>\n",
       "      <td>1600.00</td>\n",
       "      <td>1206.00</td>\n",
       "      <td>1000.00</td>\n",
       "      <td>1000.00</td>\n",
       "      <td>1000.00</td>\n",
       "    </tr>\n",
       "    <tr>\n",
       "      <th>0.50</th>\n",
       "      <td>2100.00</td>\n",
       "      <td>2009.00</td>\n",
       "      <td>1800.00</td>\n",
       "      <td>1500.00</td>\n",
       "      <td>1500.00</td>\n",
       "      <td>1500.00</td>\n",
       "    </tr>\n",
       "    <tr>\n",
       "      <th>0.60</th>\n",
       "      <td>3000.00</td>\n",
       "      <td>3000.00</td>\n",
       "      <td>2500.00</td>\n",
       "      <td>2100.00</td>\n",
       "      <td>2123.40</td>\n",
       "      <td>2100.00</td>\n",
       "    </tr>\n",
       "    <tr>\n",
       "      <th>0.70</th>\n",
       "      <td>4309.30</td>\n",
       "      <td>4045.30</td>\n",
       "      <td>3560.30</td>\n",
       "      <td>3200.00</td>\n",
       "      <td>3200.00</td>\n",
       "      <td>3200.00</td>\n",
       "    </tr>\n",
       "    <tr>\n",
       "      <th>0.80</th>\n",
       "      <td>6192.20</td>\n",
       "      <td>6000.00</td>\n",
       "      <td>5284.00</td>\n",
       "      <td>5000.00</td>\n",
       "      <td>5000.00</td>\n",
       "      <td>5000.00</td>\n",
       "    </tr>\n",
       "    <tr>\n",
       "      <th>0.90</th>\n",
       "      <td>10300.00</td>\n",
       "      <td>10401.10</td>\n",
       "      <td>10000.00</td>\n",
       "      <td>9570.60</td>\n",
       "      <td>9500.00</td>\n",
       "      <td>9600.00</td>\n",
       "    </tr>\n",
       "    <tr>\n",
       "      <th>0.91</th>\n",
       "      <td>11174.00</td>\n",
       "      <td>11320.00</td>\n",
       "      <td>10288.36</td>\n",
       "      <td>10000.00</td>\n",
       "      <td>10000.00</td>\n",
       "      <td>10000.00</td>\n",
       "    </tr>\n",
       "    <tr>\n",
       "      <th>0.92</th>\n",
       "      <td>12500.00</td>\n",
       "      <td>12536.16</td>\n",
       "      <td>11558.48</td>\n",
       "      <td>10404.72</td>\n",
       "      <td>10358.16</td>\n",
       "      <td>10500.00</td>\n",
       "    </tr>\n",
       "    <tr>\n",
       "      <th>0.93</th>\n",
       "      <td>14127.07</td>\n",
       "      <td>14131.26</td>\n",
       "      <td>13000.00</td>\n",
       "      <td>11985.21</td>\n",
       "      <td>11964.14</td>\n",
       "      <td>12017.14</td>\n",
       "    </tr>\n",
       "    <tr>\n",
       "      <th>0.94</th>\n",
       "      <td>15510.66</td>\n",
       "      <td>16000.00</td>\n",
       "      <td>15000.00</td>\n",
       "      <td>13949.60</td>\n",
       "      <td>13939.06</td>\n",
       "      <td>14442.86</td>\n",
       "    </tr>\n",
       "    <tr>\n",
       "      <th>0.95</th>\n",
       "      <td>18428.20</td>\n",
       "      <td>19004.35</td>\n",
       "      <td>17589.40</td>\n",
       "      <td>16014.95</td>\n",
       "      <td>16000.00</td>\n",
       "      <td>17343.80</td>\n",
       "    </tr>\n",
       "    <tr>\n",
       "      <th>0.96</th>\n",
       "      <td>21006.24</td>\n",
       "      <td>21408.36</td>\n",
       "      <td>20150.00</td>\n",
       "      <td>20000.00</td>\n",
       "      <td>20000.00</td>\n",
       "      <td>21034.88</td>\n",
       "    </tr>\n",
       "    <tr>\n",
       "      <th>0.97</th>\n",
       "      <td>28232.78</td>\n",
       "      <td>29000.00</td>\n",
       "      <td>27000.33</td>\n",
       "      <td>26665.40</td>\n",
       "      <td>25314.21</td>\n",
       "      <td>29561.76</td>\n",
       "    </tr>\n",
       "    <tr>\n",
       "      <th>0.98</th>\n",
       "      <td>40000.00</td>\n",
       "      <td>41027.88</td>\n",
       "      <td>38661.36</td>\n",
       "      <td>39634.04</td>\n",
       "      <td>37259.66</td>\n",
       "      <td>45010.48</td>\n",
       "    </tr>\n",
       "    <tr>\n",
       "      <th>0.99</th>\n",
       "      <td>66522.18</td>\n",
       "      <td>76651.02</td>\n",
       "      <td>70000.00</td>\n",
       "      <td>67054.44</td>\n",
       "      <td>65607.56</td>\n",
       "      <td>82619.05</td>\n",
       "    </tr>\n",
       "    <tr>\n",
       "      <th>1.00</th>\n",
       "      <td>873552.00</td>\n",
       "      <td>1684259.00</td>\n",
       "      <td>896040.00</td>\n",
       "      <td>621000.00</td>\n",
       "      <td>426529.00</td>\n",
       "      <td>528666.00</td>\n",
       "    </tr>\n",
       "  </tbody>\n",
       "</table>\n",
       "</div>"
      ],
      "text/plain": [
       "       PAY_AMT1    PAY_AMT2   PAY_AMT3   PAY_AMT4   PAY_AMT5   PAY_AMT6\n",
       "0.10       0.00        0.00       0.00       0.00       0.00       0.00\n",
       "0.20     316.00      268.80       2.80       0.00       0.00       0.00\n",
       "0.30    1263.70     1165.00     780.00     500.00     500.00     426.00\n",
       "0.40    1724.00     1600.00    1206.00    1000.00    1000.00    1000.00\n",
       "0.50    2100.00     2009.00    1800.00    1500.00    1500.00    1500.00\n",
       "0.60    3000.00     3000.00    2500.00    2100.00    2123.40    2100.00\n",
       "0.70    4309.30     4045.30    3560.30    3200.00    3200.00    3200.00\n",
       "0.80    6192.20     6000.00    5284.00    5000.00    5000.00    5000.00\n",
       "0.90   10300.00    10401.10   10000.00    9570.60    9500.00    9600.00\n",
       "0.91   11174.00    11320.00   10288.36   10000.00   10000.00   10000.00\n",
       "0.92   12500.00    12536.16   11558.48   10404.72   10358.16   10500.00\n",
       "0.93   14127.07    14131.26   13000.00   11985.21   11964.14   12017.14\n",
       "0.94   15510.66    16000.00   15000.00   13949.60   13939.06   14442.86\n",
       "0.95   18428.20    19004.35   17589.40   16014.95   16000.00   17343.80\n",
       "0.96   21006.24    21408.36   20150.00   20000.00   20000.00   21034.88\n",
       "0.97   28232.78    29000.00   27000.33   26665.40   25314.21   29561.76\n",
       "0.98   40000.00    41027.88   38661.36   39634.04   37259.66   45010.48\n",
       "0.99   66522.18    76651.02   70000.00   67054.44   65607.56   82619.05\n",
       "1.00  873552.00  1684259.00  896040.00  621000.00  426529.00  528666.00"
      ]
     },
     "execution_count": 29,
     "metadata": {},
     "output_type": "execute_result"
    }
   ],
   "source": [
    "credit_risk_data[['PAY_AMT1','PAY_AMT2','PAY_AMT3','PAY_AMT4','PAY_AMT5','PAY_AMT6']].quantile([0.1,0.2,0.3,0.4,0.5,0.6,0.7,0.8,0.9,0.91,0.92,0.93,0.94,0.95,0.96,0.97,0.98,0.99,1])"
   ]
  },
  {
   "cell_type": "code",
   "execution_count": 30,
   "id": "030dc073",
   "metadata": {},
   "outputs": [
    {
     "name": "stderr",
     "output_type": "stream",
     "text": [
      "C:\\Users\\SATISH~1\\AppData\\Local\\Temp/ipykernel_24584/3768011092.py:1: SettingWithCopyWarning: \n",
      "A value is trying to be set on a copy of a slice from a DataFrame\n",
      "\n",
      "See the caveats in the documentation: https://pandas.pydata.org/pandas-docs/stable/user_guide/indexing.html#returning-a-view-versus-a-copy\n",
      "  credit_risk_data['PAY_AMT1'][credit_risk_data['PAY_AMT1']>66522.18]=credit_risk_data['PAY_AMT1'].median()\n",
      "C:\\Users\\SATISH~1\\AppData\\Local\\Temp/ipykernel_24584/3768011092.py:2: SettingWithCopyWarning: \n",
      "A value is trying to be set on a copy of a slice from a DataFrame\n",
      "\n",
      "See the caveats in the documentation: https://pandas.pydata.org/pandas-docs/stable/user_guide/indexing.html#returning-a-view-versus-a-copy\n",
      "  credit_risk_data['PAY_AMT2'][credit_risk_data['PAY_AMT2']>76651.02]=credit_risk_data['PAY_AMT2'].median()\n",
      "C:\\Users\\SATISH~1\\AppData\\Local\\Temp/ipykernel_24584/3768011092.py:3: SettingWithCopyWarning: \n",
      "A value is trying to be set on a copy of a slice from a DataFrame\n",
      "\n",
      "See the caveats in the documentation: https://pandas.pydata.org/pandas-docs/stable/user_guide/indexing.html#returning-a-view-versus-a-copy\n",
      "  credit_risk_data['PAY_AMT3'][credit_risk_data['PAY_AMT3']>70000.00]=credit_risk_data['PAY_AMT3'].median()\n",
      "C:\\Users\\SATISH~1\\AppData\\Local\\Temp/ipykernel_24584/3768011092.py:4: SettingWithCopyWarning: \n",
      "A value is trying to be set on a copy of a slice from a DataFrame\n",
      "\n",
      "See the caveats in the documentation: https://pandas.pydata.org/pandas-docs/stable/user_guide/indexing.html#returning-a-view-versus-a-copy\n",
      "  credit_risk_data['PAY_AMT4'][credit_risk_data['PAY_AMT4']>67054.44]=credit_risk_data['PAY_AMT4'].median()\n",
      "C:\\Users\\SATISH~1\\AppData\\Local\\Temp/ipykernel_24584/3768011092.py:5: SettingWithCopyWarning: \n",
      "A value is trying to be set on a copy of a slice from a DataFrame\n",
      "\n",
      "See the caveats in the documentation: https://pandas.pydata.org/pandas-docs/stable/user_guide/indexing.html#returning-a-view-versus-a-copy\n",
      "  credit_risk_data['PAY_AMT5'][credit_risk_data['PAY_AMT5']>65607.56]=credit_risk_data['PAY_AMT5'].median()\n",
      "C:\\Users\\SATISH~1\\AppData\\Local\\Temp/ipykernel_24584/3768011092.py:6: SettingWithCopyWarning: \n",
      "A value is trying to be set on a copy of a slice from a DataFrame\n",
      "\n",
      "See the caveats in the documentation: https://pandas.pydata.org/pandas-docs/stable/user_guide/indexing.html#returning-a-view-versus-a-copy\n",
      "  credit_risk_data['PAY_AMT6'][credit_risk_data['PAY_AMT6']>82619.05]=credit_risk_data['PAY_AMT6'].median()\n"
     ]
    }
   ],
   "source": [
    "credit_risk_data['PAY_AMT1'][credit_risk_data['PAY_AMT1']>66522.18]=credit_risk_data['PAY_AMT1'].median()\n",
    "credit_risk_data['PAY_AMT2'][credit_risk_data['PAY_AMT2']>76651.02]=credit_risk_data['PAY_AMT2'].median()\n",
    "credit_risk_data['PAY_AMT3'][credit_risk_data['PAY_AMT3']>70000.00]=credit_risk_data['PAY_AMT3'].median()\n",
    "credit_risk_data['PAY_AMT4'][credit_risk_data['PAY_AMT4']>67054.44]=credit_risk_data['PAY_AMT4'].median()\n",
    "credit_risk_data['PAY_AMT5'][credit_risk_data['PAY_AMT5']>65607.56]=credit_risk_data['PAY_AMT5'].median()\n",
    "credit_risk_data['PAY_AMT6'][credit_risk_data['PAY_AMT6']>82619.05]=credit_risk_data['PAY_AMT6'].median()"
   ]
  },
  {
   "cell_type": "code",
   "execution_count": 31,
   "id": "085f9acc",
   "metadata": {},
   "outputs": [
    {
     "data": {
      "text/html": [
       "<div>\n",
       "<style scoped>\n",
       "    .dataframe tbody tr th:only-of-type {\n",
       "        vertical-align: middle;\n",
       "    }\n",
       "\n",
       "    .dataframe tbody tr th {\n",
       "        vertical-align: top;\n",
       "    }\n",
       "\n",
       "    .dataframe thead th {\n",
       "        text-align: right;\n",
       "    }\n",
       "</style>\n",
       "<table border=\"1\" class=\"dataframe\">\n",
       "  <thead>\n",
       "    <tr style=\"text-align: right;\">\n",
       "      <th></th>\n",
       "      <th>PAY_AMT1</th>\n",
       "      <th>PAY_AMT2</th>\n",
       "      <th>PAY_AMT3</th>\n",
       "      <th>PAY_AMT4</th>\n",
       "      <th>PAY_AMT5</th>\n",
       "      <th>PAY_AMT6</th>\n",
       "    </tr>\n",
       "  </thead>\n",
       "  <tbody>\n",
       "    <tr>\n",
       "      <th>0.10</th>\n",
       "      <td>0.00</td>\n",
       "      <td>0.00</td>\n",
       "      <td>0.00</td>\n",
       "      <td>0.00</td>\n",
       "      <td>0.00</td>\n",
       "      <td>0.00</td>\n",
       "    </tr>\n",
       "    <tr>\n",
       "      <th>0.20</th>\n",
       "      <td>316.00</td>\n",
       "      <td>268.80</td>\n",
       "      <td>2.80</td>\n",
       "      <td>0.00</td>\n",
       "      <td>0.00</td>\n",
       "      <td>0.00</td>\n",
       "    </tr>\n",
       "    <tr>\n",
       "      <th>0.30</th>\n",
       "      <td>1263.70</td>\n",
       "      <td>1165.00</td>\n",
       "      <td>780.00</td>\n",
       "      <td>500.00</td>\n",
       "      <td>500.00</td>\n",
       "      <td>426.00</td>\n",
       "    </tr>\n",
       "    <tr>\n",
       "      <th>0.40</th>\n",
       "      <td>1724.00</td>\n",
       "      <td>1600.00</td>\n",
       "      <td>1206.00</td>\n",
       "      <td>1000.00</td>\n",
       "      <td>1000.00</td>\n",
       "      <td>1000.00</td>\n",
       "    </tr>\n",
       "    <tr>\n",
       "      <th>0.50</th>\n",
       "      <td>2100.00</td>\n",
       "      <td>2009.00</td>\n",
       "      <td>1800.00</td>\n",
       "      <td>1500.00</td>\n",
       "      <td>1500.00</td>\n",
       "      <td>1500.00</td>\n",
       "    </tr>\n",
       "    <tr>\n",
       "      <th>0.60</th>\n",
       "      <td>3000.00</td>\n",
       "      <td>3000.00</td>\n",
       "      <td>2333.80</td>\n",
       "      <td>2005.00</td>\n",
       "      <td>2013.00</td>\n",
       "      <td>2000.00</td>\n",
       "    </tr>\n",
       "    <tr>\n",
       "      <th>0.70</th>\n",
       "      <td>4086.60</td>\n",
       "      <td>4000.00</td>\n",
       "      <td>3415.30</td>\n",
       "      <td>3014.00</td>\n",
       "      <td>3029.30</td>\n",
       "      <td>3020.00</td>\n",
       "    </tr>\n",
       "    <tr>\n",
       "      <th>0.80</th>\n",
       "      <td>6000.00</td>\n",
       "      <td>5872.40</td>\n",
       "      <td>5022.20</td>\n",
       "      <td>5000.00</td>\n",
       "      <td>5000.00</td>\n",
       "      <td>5000.00</td>\n",
       "    </tr>\n",
       "    <tr>\n",
       "      <th>0.90</th>\n",
       "      <td>10000.00</td>\n",
       "      <td>10000.00</td>\n",
       "      <td>9500.00</td>\n",
       "      <td>8599.10</td>\n",
       "      <td>8500.00</td>\n",
       "      <td>8585.10</td>\n",
       "    </tr>\n",
       "    <tr>\n",
       "      <th>0.91</th>\n",
       "      <td>10300.00</td>\n",
       "      <td>10400.99</td>\n",
       "      <td>10000.00</td>\n",
       "      <td>9570.54</td>\n",
       "      <td>9500.00</td>\n",
       "      <td>9600.00</td>\n",
       "    </tr>\n",
       "    <tr>\n",
       "      <th>0.92</th>\n",
       "      <td>11174.00</td>\n",
       "      <td>11320.00</td>\n",
       "      <td>10300.00</td>\n",
       "      <td>10000.00</td>\n",
       "      <td>10000.00</td>\n",
       "      <td>10000.00</td>\n",
       "    </tr>\n",
       "    <tr>\n",
       "      <th>0.93</th>\n",
       "      <td>12500.00</td>\n",
       "      <td>12536.14</td>\n",
       "      <td>11586.98</td>\n",
       "      <td>10404.63</td>\n",
       "      <td>10358.14</td>\n",
       "      <td>10500.00</td>\n",
       "    </tr>\n",
       "    <tr>\n",
       "      <th>0.94</th>\n",
       "      <td>14127.06</td>\n",
       "      <td>14131.08</td>\n",
       "      <td>13000.00</td>\n",
       "      <td>11985.18</td>\n",
       "      <td>11964.12</td>\n",
       "      <td>12017.12</td>\n",
       "    </tr>\n",
       "    <tr>\n",
       "      <th>0.95</th>\n",
       "      <td>15510.55</td>\n",
       "      <td>16000.00</td>\n",
       "      <td>15000.00</td>\n",
       "      <td>13949.50</td>\n",
       "      <td>13939.05</td>\n",
       "      <td>14442.55</td>\n",
       "    </tr>\n",
       "    <tr>\n",
       "      <th>0.96</th>\n",
       "      <td>18428.16</td>\n",
       "      <td>19004.08</td>\n",
       "      <td>17652.04</td>\n",
       "      <td>16014.76</td>\n",
       "      <td>16000.00</td>\n",
       "      <td>17343.44</td>\n",
       "    </tr>\n",
       "    <tr>\n",
       "      <th>0.97</th>\n",
       "      <td>21006.18</td>\n",
       "      <td>21408.27</td>\n",
       "      <td>20157.12</td>\n",
       "      <td>20000.00</td>\n",
       "      <td>20000.00</td>\n",
       "      <td>21034.16</td>\n",
       "    </tr>\n",
       "    <tr>\n",
       "      <th>0.98</th>\n",
       "      <td>28232.52</td>\n",
       "      <td>29000.00</td>\n",
       "      <td>27091.38</td>\n",
       "      <td>26664.60</td>\n",
       "      <td>25314.14</td>\n",
       "      <td>29560.84</td>\n",
       "    </tr>\n",
       "    <tr>\n",
       "      <th>0.99</th>\n",
       "      <td>40000.00</td>\n",
       "      <td>41027.44</td>\n",
       "      <td>38805.40</td>\n",
       "      <td>39631.52</td>\n",
       "      <td>37259.33</td>\n",
       "      <td>45010.24</td>\n",
       "    </tr>\n",
       "    <tr>\n",
       "      <th>1.00</th>\n",
       "      <td>66513.00</td>\n",
       "      <td>76651.00</td>\n",
       "      <td>70000.00</td>\n",
       "      <td>67052.00</td>\n",
       "      <td>65607.00</td>\n",
       "      <td>82615.00</td>\n",
       "    </tr>\n",
       "  </tbody>\n",
       "</table>\n",
       "</div>"
      ],
      "text/plain": [
       "      PAY_AMT1  PAY_AMT2  PAY_AMT3  PAY_AMT4  PAY_AMT5  PAY_AMT6\n",
       "0.10      0.00      0.00      0.00      0.00      0.00      0.00\n",
       "0.20    316.00    268.80      2.80      0.00      0.00      0.00\n",
       "0.30   1263.70   1165.00    780.00    500.00    500.00    426.00\n",
       "0.40   1724.00   1600.00   1206.00   1000.00   1000.00   1000.00\n",
       "0.50   2100.00   2009.00   1800.00   1500.00   1500.00   1500.00\n",
       "0.60   3000.00   3000.00   2333.80   2005.00   2013.00   2000.00\n",
       "0.70   4086.60   4000.00   3415.30   3014.00   3029.30   3020.00\n",
       "0.80   6000.00   5872.40   5022.20   5000.00   5000.00   5000.00\n",
       "0.90  10000.00  10000.00   9500.00   8599.10   8500.00   8585.10\n",
       "0.91  10300.00  10400.99  10000.00   9570.54   9500.00   9600.00\n",
       "0.92  11174.00  11320.00  10300.00  10000.00  10000.00  10000.00\n",
       "0.93  12500.00  12536.14  11586.98  10404.63  10358.14  10500.00\n",
       "0.94  14127.06  14131.08  13000.00  11985.18  11964.12  12017.12\n",
       "0.95  15510.55  16000.00  15000.00  13949.50  13939.05  14442.55\n",
       "0.96  18428.16  19004.08  17652.04  16014.76  16000.00  17343.44\n",
       "0.97  21006.18  21408.27  20157.12  20000.00  20000.00  21034.16\n",
       "0.98  28232.52  29000.00  27091.38  26664.60  25314.14  29560.84\n",
       "0.99  40000.00  41027.44  38805.40  39631.52  37259.33  45010.24\n",
       "1.00  66513.00  76651.00  70000.00  67052.00  65607.00  82615.00"
      ]
     },
     "execution_count": 31,
     "metadata": {},
     "output_type": "execute_result"
    }
   ],
   "source": [
    "credit_risk_data[['PAY_AMT1','PAY_AMT2','PAY_AMT3','PAY_AMT4','PAY_AMT5','PAY_AMT6']].quantile([0.1,0.2,0.3,0.4,0.5,0.6,0.7,0.8,0.9,0.91,0.92,0.93,0.94,0.95,0.96,0.97,0.98,0.99,1])"
   ]
  },
  {
   "cell_type": "code",
   "execution_count": 32,
   "id": "6d626a58",
   "metadata": {},
   "outputs": [
    {
     "data": {
      "text/plain": [
       "<AxesSubplot:>"
      ]
     },
     "execution_count": 32,
     "metadata": {},
     "output_type": "execute_result"
    },
    {
     "data": {
      "image/png": "[encoded data removed]",
      "text/plain": [
       "<Figure size 432x288 with 1 Axes>"
      ]
     },
     "metadata": {
      "needs_background": "light"
     },
     "output_type": "display_data"
    }
   ],
   "source": [
    "credit_risk_data[['PAY_AMT1','PAY_AMT2','PAY_AMT3','PAY_AMT4','PAY_AMT5','PAY_AMT6']].plot(kind='box')"
   ]
  },
  {
   "cell_type": "code",
   "execution_count": 34,
   "id": "f6b1a79b",
   "metadata": {},
   "outputs": [
    {
     "data": {
      "text/plain": [
       "0.10      30000.0\n",
       "0.20      50000.0\n",
       "0.30      70000.0\n",
       "0.40     100000.0\n",
       "0.50     140000.0\n",
       "0.60     180000.0\n",
       "0.70     210000.0\n",
       "0.80     270000.0\n",
       "0.90     360000.0\n",
       "0.91     360000.0\n",
       "0.92     380000.0\n",
       "0.93     390000.0\n",
       "0.94     410000.0\n",
       "0.95     430000.0\n",
       "0.96     460000.0\n",
       "0.97     500000.0\n",
       "0.98     500000.0\n",
       "0.99     500000.0\n",
       "1.00    1000000.0\n",
       "Name: LIMIT_BAL, dtype: float64"
      ]
     },
     "execution_count": 34,
     "metadata": {},
     "output_type": "execute_result"
    }
   ],
   "source": [
    "credit_risk_data['LIMIT_BAL'].quantile([0.1,0.2,0.3,0.4,0.5,0.6,0.7,0.8,0.9,0.91,0.92,0.93,0.94,0.95,0.96,0.97,0.98,0.99,1])"
   ]
  },
  {
   "cell_type": "code",
   "execution_count": 37,
   "id": "e291525b",
   "metadata": {},
   "outputs": [
    {
     "name": "stderr",
     "output_type": "stream",
     "text": [
      "C:\\Users\\SATISH~1\\AppData\\Local\\Temp/ipykernel_24584/2626324053.py:1: SettingWithCopyWarning: \n",
      "A value is trying to be set on a copy of a slice from a DataFrame\n",
      "\n",
      "See the caveats in the documentation: https://pandas.pydata.org/pandas-docs/stable/user_guide/indexing.html#returning-a-view-versus-a-copy\n",
      "  credit_risk_data['LIMIT_BAL'][credit_risk_data['LIMIT_BAL']>500000]=credit_risk_data['LIMIT_BAL'].median()\n"
     ]
    }
   ],
   "source": [
    "credit_risk_data['LIMIT_BAL'][credit_risk_data['LIMIT_BAL']>500000]=credit_risk_data['LIMIT_BAL'].median()\n",
    "\n"
   ]
  },
  {
   "cell_type": "code",
   "execution_count": 38,
   "id": "6ffe0b9c",
   "metadata": {},
   "outputs": [
    {
     "data": {
      "text/plain": [
       "<AxesSubplot:>"
      ]
     },
     "execution_count": 38,
     "metadata": {},
     "output_type": "execute_result"
    },
    {
     "data": {
      "image/png": "[encoded data removed]",
      "text/plain": [
       "<Figure size 432x288 with 1 Axes>"
      ]
     },
     "metadata": {
      "needs_background": "light"
     },
     "output_type": "display_data"
    }
   ],
   "source": [
    "credit_risk_data['LIMIT_BAL'].plot(kind='box')"
   ]
  },
  {
   "cell_type": "code",
   "execution_count": 39,
   "id": "e7c786f6",
   "metadata": {},
   "outputs": [
    {
     "data": {
      "text/plain": [
       "0.10     30000.0\n",
       "0.20     50000.0\n",
       "0.30     70000.0\n",
       "0.40    100000.0\n",
       "0.50    140000.0\n",
       "0.60    180000.0\n",
       "0.70    210000.0\n",
       "0.80    260000.0\n",
       "0.90    360000.0\n",
       "0.91    360000.0\n",
       "0.92    360000.0\n",
       "0.93    380000.0\n",
       "0.94    400000.0\n",
       "0.95    420000.0\n",
       "0.96    440000.0\n",
       "0.97    470000.0\n",
       "0.98    500000.0\n",
       "0.99    500000.0\n",
       "1.00    500000.0\n",
       "Name: LIMIT_BAL, dtype: float64"
      ]
     },
     "execution_count": 39,
     "metadata": {},
     "output_type": "execute_result"
    }
   ],
   "source": [
    "credit_risk_data['LIMIT_BAL'].quantile([0.1,0.2,0.3,0.4,0.5,0.6,0.7,0.8,0.9,0.91,0.92,0.93,0.94,0.95,0.96,0.97,0.98,0.99,1])"
   ]
  },
  {
   "cell_type": "code",
   "execution_count": null,
   "id": "0d8f49bd",
   "metadata": {},
   "outputs": [],
   "source": []
  }
 ],
 "metadata": {
  "kernelspec": {
   "display_name": "Python 3 (ipykernel)",
   "language": "python",
   "name": "python3"
  },
  "language_info": {
   "codemirror_mode": {
    "name": "ipython",
    "version": 3
   },
   "file_extension": ".py",
   "mimetype": "text/x-python",
   "name": "python",
   "nbconvert_exporter": "python",
   "pygments_lexer": "ipython3",
   "version": "3.9.7"
  }
 },
 "nbformat": 4,
 "nbformat_minor": 5
}
